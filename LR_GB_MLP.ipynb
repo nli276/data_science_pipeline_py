{
 "cells": [
  {
   "cell_type": "markdown",
   "metadata": {},
   "source": [
    "# Summary"
   ]
  },
  {
   "cell_type": "markdown",
   "metadata": {},
   "source": [
    "**To get results**\n",
    "- Simply run all cells to refresh.\n",
    "- This notebook will use internet to download dataset and will write files to local disk.\n",
    "- Assuming Anaconda python 3 with sklearn, tensorflow, keras, xgboost installed.\n",
    "- I worked on this notebook on Saturday afternoon, Saturday evening and Sunday afternoon.\n",
    "\n",
    "**Key learnings**\n",
    "- Multiple methods are giving similar poor signal (AUC~0.6). Perhaps need to revisit feature engineering in future iterations. Fine tuning of the model training parameters is probably not yet necessary till later stage. \n",
    "- The poor signal is probably either due to weak signal from data (some things are just hard to predict), or feature engineered inproperly (could try more granular binning at the price of more parameters).\n",
    "- I think none of the pilot models is good enough for deployment in real world at the current stage; not sure about loan industry risk model benchmark though.\n",
    "- If I have to pick, it would be GB. GB and LR are easier to explain than MLP, and easier to convert to rule-based policy design for lenders (unless the lender only consumes risk score - in which case intelligibility of model doesn't matter). \n",
    "- Between GB and LR, in this particular use case GB is more convenient with feature importance function. So my preferrance is GB > LR(with CV) > MLP for this dataset. \n",
    "- This dataset is too small to benefit from deep learning methods.\n",
    "- Out-of-sample log loss (~3.8) and weighted avg f1 score (~0.85) are very similar between GB and LR.\n",
    "- CV is not always necessary if holdout data (X_test, y_test) is giving similar performance as in-sample. This is actually the case for GB. But it is helpful for LR regularization.\n",
    "- Using GB feature importance function, the top 3 features learned are: Annual income of the loan applicant - log scale, Loan applicant’s percentage utilization of their revolving credit facility, and Total number of accounts for the loan applicant. \n",
    "- This notebook is written in more of a \"data science\" style than software engineering, which would be more modular. Once data processing and experimenting with pilots are done, it would be relatively straightforward to format the pilot models to pipeline, especially with off-the-shelf tools like sklearn or keras."
   ]
  },
  {
   "cell_type": "markdown",
   "metadata": {},
   "source": [
    "# load tools"
   ]
  },
  {
   "cell_type": "code",
   "execution_count": 1,
   "metadata": {},
   "outputs": [],
   "source": [
    "import os\n",
    "from six.moves import urllib"
   ]
  },
  {
   "cell_type": "code",
   "execution_count": 2,
   "metadata": {},
   "outputs": [],
   "source": [
    "import numpy as np\n",
    "import pandas as pd"
   ]
  },
  {
   "cell_type": "code",
   "execution_count": 3,
   "metadata": {},
   "outputs": [],
   "source": [
    "pd.set_option('display.max_rows', 500)\n",
    "pd.set_option('display.max_columns', 500)\n",
    "pd.set_option('display.width', 1000)\n",
    "pd.set_option('display.max_colwidth', 100)"
   ]
  },
  {
   "cell_type": "code",
   "execution_count": 4,
   "metadata": {},
   "outputs": [],
   "source": [
    "from IPython.core.interactiveshell import InteractiveShell\n",
    "InteractiveShell.ast_node_interactivity = \"all\""
   ]
  },
  {
   "cell_type": "code",
   "execution_count": 5,
   "metadata": {},
   "outputs": [],
   "source": [
    "%matplotlib inline\n",
    "import matplotlib as mpl\n",
    "import matplotlib.pyplot as plt\n",
    "mpl.rc('axes', labelsize=14)\n",
    "mpl.rc('xtick', labelsize=12)\n",
    "mpl.rc('ytick', labelsize=12)"
   ]
  },
  {
   "cell_type": "code",
   "execution_count": 6,
   "metadata": {},
   "outputs": [
    {
     "name": "stdout",
     "output_type": "stream",
     "text": [
      "Current size: [5, 5]\n"
     ]
    }
   ],
   "source": [
    "fig_size = plt.rcParams[\"figure.figsize\"]\n",
    "\n",
    "fig_size[0] = 5\n",
    "fig_size[1] = 5\n",
    "\n",
    "plt.rcParams[\"figure.figsize\"] = fig_size\n",
    "\n",
    "print(\"Current size:\", fig_size)"
   ]
  },
  {
   "cell_type": "markdown",
   "metadata": {},
   "source": [
    "# download data and explore"
   ]
  },
  {
   "cell_type": "code",
   "execution_count": 7,
   "metadata": {},
   "outputs": [],
   "source": [
    "#Data exploration is needed when getting new data. \n",
    "#Production pipeline of working pilot model may not need this step."
   ]
  },
  {
   "cell_type": "code",
   "execution_count": 8,
   "metadata": {},
   "outputs": [],
   "source": [
    "DOWNLOAD_ROOT = \"https://s3.amazonaws.com/datarobot_public_datasets/\"\n",
    "LOCAL_PATH = os.path.join(\"datasets\")\n",
    "FILENAME = \"DR_Demo_Lending_Club.csv\"\n",
    "DOWNLOAD_URL = DOWNLOAD_ROOT + FILENAME\n",
    "#since this is data downloaded from public website, I am not taking any precautions as I normally would for ePHI data."
   ]
  },
  {
   "cell_type": "code",
   "execution_count": 9,
   "metadata": {},
   "outputs": [],
   "source": [
    "def fetch_data(url=DOWNLOAD_URL, local_path=LOCAL_PATH, filename=FILENAME):\n",
    "    if not os.path.isdir(local_path):\n",
    "        os.makedirs(local_path)\n",
    "    csv_path = os.path.join(local_path, filename)\n",
    "    urllib.request.urlretrieve(url, csv_path)"
   ]
  },
  {
   "cell_type": "code",
   "execution_count": 10,
   "metadata": {},
   "outputs": [],
   "source": [
    "fetch_data()"
   ]
  },
  {
   "cell_type": "code",
   "execution_count": 11,
   "metadata": {},
   "outputs": [],
   "source": [
    "df = pd.read_csv(os.path.join(LOCAL_PATH,FILENAME))\n",
    "#in general we should be careful with read dtype, when not sure use dtype=object first; although here it seems unnecessary"
   ]
  },
  {
   "cell_type": "code",
   "execution_count": 12,
   "metadata": {},
   "outputs": [
    {
     "data": {
      "text/plain": [
       "10000"
      ]
     },
     "execution_count": 12,
     "metadata": {},
     "output_type": "execute_result"
    }
   ],
   "source": [
    "df.Id.nunique()#Id unique, use as index"
   ]
  },
  {
   "cell_type": "code",
   "execution_count": 13,
   "metadata": {},
   "outputs": [],
   "source": [
    "df.set_index('Id',inplace=True)"
   ]
  },
  {
   "cell_type": "code",
   "execution_count": 14,
   "metadata": {
    "scrolled": true
   },
   "outputs": [
    {
     "data": {
      "text/html": [
       "<div>\n",
       "<style scoped>\n",
       "    .dataframe tbody tr th:only-of-type {\n",
       "        vertical-align: middle;\n",
       "    }\n",
       "\n",
       "    .dataframe tbody tr th {\n",
       "        vertical-align: top;\n",
       "    }\n",
       "\n",
       "    .dataframe thead th {\n",
       "        text-align: right;\n",
       "    }\n",
       "</style>\n",
       "<table border=\"1\" class=\"dataframe\">\n",
       "  <thead>\n",
       "    <tr style=\"text-align: right;\">\n",
       "      <th></th>\n",
       "      <th>is_bad</th>\n",
       "      <th>emp_title</th>\n",
       "      <th>emp_length</th>\n",
       "      <th>home_ownership</th>\n",
       "      <th>annual_inc</th>\n",
       "      <th>verification_status</th>\n",
       "      <th>pymnt_plan</th>\n",
       "      <th>Notes</th>\n",
       "      <th>purpose_cat</th>\n",
       "      <th>purpose</th>\n",
       "      <th>zip_code</th>\n",
       "      <th>addr_state</th>\n",
       "      <th>debt_to_income</th>\n",
       "      <th>delinq_2yrs</th>\n",
       "      <th>earliest_cr_line</th>\n",
       "      <th>inq_last_6mths</th>\n",
       "      <th>mths_since_last_delinq</th>\n",
       "      <th>mths_since_last_record</th>\n",
       "      <th>open_acc</th>\n",
       "      <th>pub_rec</th>\n",
       "      <th>revol_bal</th>\n",
       "      <th>revol_util</th>\n",
       "      <th>total_acc</th>\n",
       "      <th>initial_list_status</th>\n",
       "      <th>collections_12_mths_ex_med</th>\n",
       "      <th>mths_since_last_major_derog</th>\n",
       "      <th>policy_code</th>\n",
       "    </tr>\n",
       "    <tr>\n",
       "      <th>Id</th>\n",
       "      <th></th>\n",
       "      <th></th>\n",
       "      <th></th>\n",
       "      <th></th>\n",
       "      <th></th>\n",
       "      <th></th>\n",
       "      <th></th>\n",
       "      <th></th>\n",
       "      <th></th>\n",
       "      <th></th>\n",
       "      <th></th>\n",
       "      <th></th>\n",
       "      <th></th>\n",
       "      <th></th>\n",
       "      <th></th>\n",
       "      <th></th>\n",
       "      <th></th>\n",
       "      <th></th>\n",
       "      <th></th>\n",
       "      <th></th>\n",
       "      <th></th>\n",
       "      <th></th>\n",
       "      <th></th>\n",
       "      <th></th>\n",
       "      <th></th>\n",
       "      <th></th>\n",
       "      <th></th>\n",
       "    </tr>\n",
       "  </thead>\n",
       "  <tbody>\n",
       "    <tr>\n",
       "      <th>1</th>\n",
       "      <td>0</td>\n",
       "      <td>Time Warner Cable</td>\n",
       "      <td>10</td>\n",
       "      <td>MORTGAGE</td>\n",
       "      <td>50000.0</td>\n",
       "      <td>not verified</td>\n",
       "      <td>n</td>\n",
       "      <td>NaN</td>\n",
       "      <td>medical</td>\n",
       "      <td>Medical</td>\n",
       "      <td>766xx</td>\n",
       "      <td>TX</td>\n",
       "      <td>10.87</td>\n",
       "      <td>0.0</td>\n",
       "      <td>12/01/1992</td>\n",
       "      <td>0.0</td>\n",
       "      <td>NaN</td>\n",
       "      <td>NaN</td>\n",
       "      <td>15.0</td>\n",
       "      <td>0.0</td>\n",
       "      <td>12087</td>\n",
       "      <td>12.1</td>\n",
       "      <td>44.0</td>\n",
       "      <td>f</td>\n",
       "      <td>0.0</td>\n",
       "      <td>1</td>\n",
       "      <td>PC4</td>\n",
       "    </tr>\n",
       "    <tr>\n",
       "      <th>2</th>\n",
       "      <td>0</td>\n",
       "      <td>Ottawa University</td>\n",
       "      <td>1</td>\n",
       "      <td>RENT</td>\n",
       "      <td>39216.0</td>\n",
       "      <td>not verified</td>\n",
       "      <td>n</td>\n",
       "      <td>Borrower added on 04/14/11 &gt; I will be using this loan to pay off expenses accrued in the last...</td>\n",
       "      <td>debt consolidation</td>\n",
       "      <td>My Debt Consolidation Loan</td>\n",
       "      <td>660xx</td>\n",
       "      <td>KS</td>\n",
       "      <td>9.15</td>\n",
       "      <td>0.0</td>\n",
       "      <td>11/01/2005</td>\n",
       "      <td>2.0</td>\n",
       "      <td>NaN</td>\n",
       "      <td>NaN</td>\n",
       "      <td>4.0</td>\n",
       "      <td>0.0</td>\n",
       "      <td>10114</td>\n",
       "      <td>64.0</td>\n",
       "      <td>5.0</td>\n",
       "      <td>f</td>\n",
       "      <td>0.0</td>\n",
       "      <td>2</td>\n",
       "      <td>PC1</td>\n",
       "    </tr>\n",
       "    <tr>\n",
       "      <th>3</th>\n",
       "      <td>0</td>\n",
       "      <td>Kennedy Wilson</td>\n",
       "      <td>4</td>\n",
       "      <td>RENT</td>\n",
       "      <td>65000.0</td>\n",
       "      <td>not verified</td>\n",
       "      <td>n</td>\n",
       "      <td>NaN</td>\n",
       "      <td>credit card</td>\n",
       "      <td>AP Personal Loan</td>\n",
       "      <td>916xx</td>\n",
       "      <td>CA</td>\n",
       "      <td>11.24</td>\n",
       "      <td>0.0</td>\n",
       "      <td>06/01/1970</td>\n",
       "      <td>0.0</td>\n",
       "      <td>NaN</td>\n",
       "      <td>NaN</td>\n",
       "      <td>4.0</td>\n",
       "      <td>0.0</td>\n",
       "      <td>81</td>\n",
       "      <td>0.6</td>\n",
       "      <td>8.0</td>\n",
       "      <td>f</td>\n",
       "      <td>0.0</td>\n",
       "      <td>3</td>\n",
       "      <td>PC4</td>\n",
       "    </tr>\n",
       "    <tr>\n",
       "      <th>4</th>\n",
       "      <td>0</td>\n",
       "      <td>TOWN OF PLATTEKILL</td>\n",
       "      <td>10</td>\n",
       "      <td>MORTGAGE</td>\n",
       "      <td>57500.0</td>\n",
       "      <td>not verified</td>\n",
       "      <td>n</td>\n",
       "      <td>NaN</td>\n",
       "      <td>debt consolidation</td>\n",
       "      <td>Debt Consolidation Loan</td>\n",
       "      <td>124xx</td>\n",
       "      <td>NY</td>\n",
       "      <td>6.18</td>\n",
       "      <td>1.0</td>\n",
       "      <td>09/01/1982</td>\n",
       "      <td>0.0</td>\n",
       "      <td>16.0</td>\n",
       "      <td>NaN</td>\n",
       "      <td>6.0</td>\n",
       "      <td>0.0</td>\n",
       "      <td>10030</td>\n",
       "      <td>37.1</td>\n",
       "      <td>23.0</td>\n",
       "      <td>f</td>\n",
       "      <td>0.0</td>\n",
       "      <td>2</td>\n",
       "      <td>PC2</td>\n",
       "    </tr>\n",
       "    <tr>\n",
       "      <th>5</th>\n",
       "      <td>0</td>\n",
       "      <td>Belmont Correctional</td>\n",
       "      <td>10</td>\n",
       "      <td>MORTGAGE</td>\n",
       "      <td>50004.0</td>\n",
       "      <td>VERIFIED - income</td>\n",
       "      <td>n</td>\n",
       "      <td>I want to consolidate my debt, pay for a vacation and buy a ring.</td>\n",
       "      <td>debt consolidation</td>\n",
       "      <td>consolidate</td>\n",
       "      <td>439xx</td>\n",
       "      <td>OH</td>\n",
       "      <td>19.03</td>\n",
       "      <td>0.0</td>\n",
       "      <td>10/01/1999</td>\n",
       "      <td>4.0</td>\n",
       "      <td>NaN</td>\n",
       "      <td>NaN</td>\n",
       "      <td>8.0</td>\n",
       "      <td>0.0</td>\n",
       "      <td>10740</td>\n",
       "      <td>40.4</td>\n",
       "      <td>21.0</td>\n",
       "      <td>f</td>\n",
       "      <td>0.0</td>\n",
       "      <td>3</td>\n",
       "      <td>PC3</td>\n",
       "    </tr>\n",
       "    <tr>\n",
       "      <th>6</th>\n",
       "      <td>0</td>\n",
       "      <td>BAE Systems</td>\n",
       "      <td>4</td>\n",
       "      <td>RENT</td>\n",
       "      <td>47028.0</td>\n",
       "      <td>VERIFIED - income</td>\n",
       "      <td>n</td>\n",
       "      <td>NaN</td>\n",
       "      <td>other</td>\n",
       "      <td>16-Oct-10</td>\n",
       "      <td>200xx</td>\n",
       "      <td>DC</td>\n",
       "      <td>7.83</td>\n",
       "      <td>2.0</td>\n",
       "      <td>12/01/1999</td>\n",
       "      <td>1.0</td>\n",
       "      <td>19.0</td>\n",
       "      <td>NaN</td>\n",
       "      <td>6.0</td>\n",
       "      <td>0.0</td>\n",
       "      <td>1715</td>\n",
       "      <td>26.4</td>\n",
       "      <td>25.0</td>\n",
       "      <td>f</td>\n",
       "      <td>0.0</td>\n",
       "      <td>3</td>\n",
       "      <td>PC3</td>\n",
       "    </tr>\n",
       "    <tr>\n",
       "      <th>7</th>\n",
       "      <td>0</td>\n",
       "      <td>Peninsula Counseling Center</td>\n",
       "      <td>10</td>\n",
       "      <td>MORTGAGE</td>\n",
       "      <td>126000.0</td>\n",
       "      <td>not verified</td>\n",
       "      <td>n</td>\n",
       "      <td>Borrower added on 05/18/10 &gt; mick credit card consolidation loan - 100% payoff of credit card ...</td>\n",
       "      <td>credit card</td>\n",
       "      <td>mick credit card loan</td>\n",
       "      <td>103xx</td>\n",
       "      <td>NY</td>\n",
       "      <td>14.28</td>\n",
       "      <td>0.0</td>\n",
       "      <td>11/01/1979</td>\n",
       "      <td>0.0</td>\n",
       "      <td>NaN</td>\n",
       "      <td>NaN</td>\n",
       "      <td>18.0</td>\n",
       "      <td>0.0</td>\n",
       "      <td>5466</td>\n",
       "      <td>11.1</td>\n",
       "      <td>29.0</td>\n",
       "      <td>f</td>\n",
       "      <td>0.0</td>\n",
       "      <td>3</td>\n",
       "      <td>PC1</td>\n",
       "    </tr>\n",
       "    <tr>\n",
       "      <th>8</th>\n",
       "      <td>0</td>\n",
       "      <td>Health Plan of Nevada</td>\n",
       "      <td>6</td>\n",
       "      <td>MORTGAGE</td>\n",
       "      <td>42000.0</td>\n",
       "      <td>VERIFIED - income source</td>\n",
       "      <td>n</td>\n",
       "      <td>Borrower added on 11/29/11 &gt; Loan is for debt consolidation and will be paid timely.  Employed...</td>\n",
       "      <td>debt consolidation</td>\n",
       "      <td>CC loan</td>\n",
       "      <td>891xx</td>\n",
       "      <td>NV</td>\n",
       "      <td>10.29</td>\n",
       "      <td>0.0</td>\n",
       "      <td>04/01/2006</td>\n",
       "      <td>0.0</td>\n",
       "      <td>NaN</td>\n",
       "      <td>NaN</td>\n",
       "      <td>9.0</td>\n",
       "      <td>0.0</td>\n",
       "      <td>10354</td>\n",
       "      <td>95.9</td>\n",
       "      <td>10.0</td>\n",
       "      <td>f</td>\n",
       "      <td>0.0</td>\n",
       "      <td>3</td>\n",
       "      <td>PC3</td>\n",
       "    </tr>\n",
       "    <tr>\n",
       "      <th>9</th>\n",
       "      <td>0</td>\n",
       "      <td>John Deere</td>\n",
       "      <td>2</td>\n",
       "      <td>MORTGAGE</td>\n",
       "      <td>50000.0</td>\n",
       "      <td>VERIFIED - income</td>\n",
       "      <td>n</td>\n",
       "      <td>NaN</td>\n",
       "      <td>debt consolidation</td>\n",
       "      <td>Consolidation</td>\n",
       "      <td>612xx</td>\n",
       "      <td>IL</td>\n",
       "      <td>15.36</td>\n",
       "      <td>0.0</td>\n",
       "      <td>02/01/2001</td>\n",
       "      <td>2.0</td>\n",
       "      <td>NaN</td>\n",
       "      <td>NaN</td>\n",
       "      <td>11.0</td>\n",
       "      <td>0.0</td>\n",
       "      <td>19662</td>\n",
       "      <td>59.2</td>\n",
       "      <td>27.0</td>\n",
       "      <td>f</td>\n",
       "      <td>0.0</td>\n",
       "      <td>1</td>\n",
       "      <td>PC5</td>\n",
       "    </tr>\n",
       "    <tr>\n",
       "      <th>10</th>\n",
       "      <td>0</td>\n",
       "      <td>NaN</td>\n",
       "      <td>1</td>\n",
       "      <td>RENT</td>\n",
       "      <td>40000.0</td>\n",
       "      <td>not verified</td>\n",
       "      <td>n</td>\n",
       "      <td>This loan would be for a 2006 PT Cruiser with only 300 miles on it. There is still a full warran...</td>\n",
       "      <td>car</td>\n",
       "      <td>FICO score 762 want's to buy a new car</td>\n",
       "      <td>926xx</td>\n",
       "      <td>CA</td>\n",
       "      <td>6.48</td>\n",
       "      <td>0.0</td>\n",
       "      <td>05/01/1995</td>\n",
       "      <td>1.0</td>\n",
       "      <td>NaN</td>\n",
       "      <td>NaN</td>\n",
       "      <td>11.0</td>\n",
       "      <td>0.0</td>\n",
       "      <td>19998</td>\n",
       "      <td>18.3</td>\n",
       "      <td>23.0</td>\n",
       "      <td>f</td>\n",
       "      <td>0.0</td>\n",
       "      <td>1</td>\n",
       "      <td>PC5</td>\n",
       "    </tr>\n",
       "    <tr>\n",
       "      <th>11</th>\n",
       "      <td>0</td>\n",
       "      <td>NaN</td>\n",
       "      <td>3</td>\n",
       "      <td>RENT</td>\n",
       "      <td>74000.0</td>\n",
       "      <td>VERIFIED - income source</td>\n",
       "      <td>n</td>\n",
       "      <td>NaN</td>\n",
       "      <td>credit card</td>\n",
       "      <td>Credit Card Consolidation</td>\n",
       "      <td>921xx</td>\n",
       "      <td>CA</td>\n",
       "      <td>17.11</td>\n",
       "      <td>0.0</td>\n",
       "      <td>12/01/1990</td>\n",
       "      <td>0.0</td>\n",
       "      <td>NaN</td>\n",
       "      <td>NaN</td>\n",
       "      <td>10.0</td>\n",
       "      <td>0.0</td>\n",
       "      <td>15046</td>\n",
       "      <td>39.9</td>\n",
       "      <td>18.0</td>\n",
       "      <td>f</td>\n",
       "      <td>0.0</td>\n",
       "      <td>1</td>\n",
       "      <td>PC4</td>\n",
       "    </tr>\n",
       "    <tr>\n",
       "      <th>12</th>\n",
       "      <td>0</td>\n",
       "      <td>Deliotte/ BearingPoint</td>\n",
       "      <td>5</td>\n",
       "      <td>RENT</td>\n",
       "      <td>112000.0</td>\n",
       "      <td>not verified</td>\n",
       "      <td>n</td>\n",
       "      <td>569486 added on 11/07/09 &gt; - Two high earners in their early thirties, w/ increased earning pot...</td>\n",
       "      <td>debt consolidation</td>\n",
       "      <td>BrightFuture</td>\n",
       "      <td>200xx</td>\n",
       "      <td>DC</td>\n",
       "      <td>14.96</td>\n",
       "      <td>0.0</td>\n",
       "      <td>06/01/1993</td>\n",
       "      <td>0.0</td>\n",
       "      <td>NaN</td>\n",
       "      <td>NaN</td>\n",
       "      <td>12.0</td>\n",
       "      <td>0.0</td>\n",
       "      <td>25274</td>\n",
       "      <td>39.5</td>\n",
       "      <td>24.0</td>\n",
       "      <td>f</td>\n",
       "      <td>0.0</td>\n",
       "      <td>1</td>\n",
       "      <td>PC3</td>\n",
       "    </tr>\n",
       "    <tr>\n",
       "      <th>13</th>\n",
       "      <td>0</td>\n",
       "      <td>Averro inc.</td>\n",
       "      <td>1</td>\n",
       "      <td>RENT</td>\n",
       "      <td>148080.0</td>\n",
       "      <td>VERIFIED - income</td>\n",
       "      <td>n</td>\n",
       "      <td>Borrower added on 10/31/11 &gt; I wish to consolidate my credit card payments and reduce my debt ...</td>\n",
       "      <td>debt consolidation</td>\n",
       "      <td>Debt cons. Loan</td>\n",
       "      <td>980xx</td>\n",
       "      <td>WA</td>\n",
       "      <td>15.88</td>\n",
       "      <td>0.0</td>\n",
       "      <td>04/01/1996</td>\n",
       "      <td>2.0</td>\n",
       "      <td>NaN</td>\n",
       "      <td>NaN</td>\n",
       "      <td>12.0</td>\n",
       "      <td>0.0</td>\n",
       "      <td>36546</td>\n",
       "      <td>73.4</td>\n",
       "      <td>27.0</td>\n",
       "      <td>f</td>\n",
       "      <td>0.0</td>\n",
       "      <td>1</td>\n",
       "      <td>PC3</td>\n",
       "    </tr>\n",
       "    <tr>\n",
       "      <th>14</th>\n",
       "      <td>0</td>\n",
       "      <td>Photography By Foschi  LLC</td>\n",
       "      <td>10</td>\n",
       "      <td>RENT</td>\n",
       "      <td>44724.0</td>\n",
       "      <td>not verified</td>\n",
       "      <td>n</td>\n",
       "      <td>Need help making ends meet for the wedding.</td>\n",
       "      <td>wedding</td>\n",
       "      <td>Wedding</td>\n",
       "      <td>198xx</td>\n",
       "      <td>DE</td>\n",
       "      <td>17.41</td>\n",
       "      <td>0.0</td>\n",
       "      <td>10/01/1996</td>\n",
       "      <td>3.0</td>\n",
       "      <td>NaN</td>\n",
       "      <td>NaN</td>\n",
       "      <td>3.0</td>\n",
       "      <td>0.0</td>\n",
       "      <td>886</td>\n",
       "      <td>25.3</td>\n",
       "      <td>5.0</td>\n",
       "      <td>f</td>\n",
       "      <td>0.0</td>\n",
       "      <td>2</td>\n",
       "      <td>PC1</td>\n",
       "    </tr>\n",
       "    <tr>\n",
       "      <th>15</th>\n",
       "      <td>0</td>\n",
       "      <td>Bridgepoint Education</td>\n",
       "      <td>1</td>\n",
       "      <td>RENT</td>\n",
       "      <td>100000.0</td>\n",
       "      <td>not verified</td>\n",
       "      <td>n</td>\n",
       "      <td>Borrower added on 02/28/11 &gt; I a Database Developer at Bridgpoint and would like to use this l...</td>\n",
       "      <td>other</td>\n",
       "      <td>Tax and Debt Consolidation</td>\n",
       "      <td>920xx</td>\n",
       "      <td>CA</td>\n",
       "      <td>18.66</td>\n",
       "      <td>0.0</td>\n",
       "      <td>10/01/1999</td>\n",
       "      <td>0.0</td>\n",
       "      <td>NaN</td>\n",
       "      <td>NaN</td>\n",
       "      <td>13.0</td>\n",
       "      <td>0.0</td>\n",
       "      <td>23484</td>\n",
       "      <td>70.1</td>\n",
       "      <td>37.0</td>\n",
       "      <td>f</td>\n",
       "      <td>0.0</td>\n",
       "      <td>3</td>\n",
       "      <td>PC3</td>\n",
       "    </tr>\n",
       "    <tr>\n",
       "      <th>16</th>\n",
       "      <td>0</td>\n",
       "      <td>SUBURBAN LOCK SERVICE</td>\n",
       "      <td>10</td>\n",
       "      <td>MORTGAGE</td>\n",
       "      <td>75000.0</td>\n",
       "      <td>VERIFIED - income</td>\n",
       "      <td>n</td>\n",
       "      <td>Borrower added on 11/07/11 &gt; I HAVE NEVER MISSED A PAYMENT ON ANY ACCOUNT AND I HAVE BEEN EMPL...</td>\n",
       "      <td>debt consolidation</td>\n",
       "      <td>Debt Consolidation Loan</td>\n",
       "      <td>604xx</td>\n",
       "      <td>IL</td>\n",
       "      <td>13.42</td>\n",
       "      <td>0.0</td>\n",
       "      <td>01/01/1993</td>\n",
       "      <td>0.0</td>\n",
       "      <td>NaN</td>\n",
       "      <td>NaN</td>\n",
       "      <td>5.0</td>\n",
       "      <td>0.0</td>\n",
       "      <td>18591</td>\n",
       "      <td>37.9</td>\n",
       "      <td>19.0</td>\n",
       "      <td>m</td>\n",
       "      <td>0.0</td>\n",
       "      <td>3</td>\n",
       "      <td>PC3</td>\n",
       "    </tr>\n",
       "    <tr>\n",
       "      <th>17</th>\n",
       "      <td>1</td>\n",
       "      <td>NaN</td>\n",
       "      <td>10</td>\n",
       "      <td>OWN</td>\n",
       "      <td>22000.0</td>\n",
       "      <td>VERIFIED - income source</td>\n",
       "      <td>n</td>\n",
       "      <td>Borrower added on 01/09/11 &gt; Loan proceeds will assist in the necessary expansion of a 30 year...</td>\n",
       "      <td>other small business</td>\n",
       "      <td>Suitable Select</td>\n",
       "      <td>324xx</td>\n",
       "      <td>FL</td>\n",
       "      <td>14.95</td>\n",
       "      <td>0.0</td>\n",
       "      <td>09/01/1993</td>\n",
       "      <td>0.0</td>\n",
       "      <td>NaN</td>\n",
       "      <td>NaN</td>\n",
       "      <td>4.0</td>\n",
       "      <td>0.0</td>\n",
       "      <td>8511</td>\n",
       "      <td>78.8</td>\n",
       "      <td>9.0</td>\n",
       "      <td>m</td>\n",
       "      <td>0.0</td>\n",
       "      <td>3</td>\n",
       "      <td>PC2</td>\n",
       "    </tr>\n",
       "    <tr>\n",
       "      <th>18</th>\n",
       "      <td>0</td>\n",
       "      <td>Stryker  Tams and Dill</td>\n",
       "      <td>1</td>\n",
       "      <td>RENT</td>\n",
       "      <td>30000.0</td>\n",
       "      <td>VERIFIED - income source</td>\n",
       "      <td>n</td>\n",
       "      <td>Borrower added on 12/22/10 &gt; I'm applying for this loan to get rid of my credit card debt and ...</td>\n",
       "      <td>debt consolidation</td>\n",
       "      <td>Debt Loan</td>\n",
       "      <td>076xx</td>\n",
       "      <td>NJ</td>\n",
       "      <td>19.32</td>\n",
       "      <td>0.0</td>\n",
       "      <td>01/01/2003</td>\n",
       "      <td>0.0</td>\n",
       "      <td>NaN</td>\n",
       "      <td>NaN</td>\n",
       "      <td>9.0</td>\n",
       "      <td>0.0</td>\n",
       "      <td>5276</td>\n",
       "      <td>62.1</td>\n",
       "      <td>19.0</td>\n",
       "      <td>f</td>\n",
       "      <td>0.0</td>\n",
       "      <td>3</td>\n",
       "      <td>PC4</td>\n",
       "    </tr>\n",
       "    <tr>\n",
       "      <th>19</th>\n",
       "      <td>0</td>\n",
       "      <td>San Jacinto Unified School District</td>\n",
       "      <td>3</td>\n",
       "      <td>RENT</td>\n",
       "      <td>63000.0</td>\n",
       "      <td>VERIFIED - income</td>\n",
       "      <td>n</td>\n",
       "      <td>Borrower added on 11/22/11 &gt; These funds will be used to pay off credit card debt and lower to...</td>\n",
       "      <td>debt consolidation</td>\n",
       "      <td>Debt Consolidation</td>\n",
       "      <td>925xx</td>\n",
       "      <td>CA</td>\n",
       "      <td>19.09</td>\n",
       "      <td>0.0</td>\n",
       "      <td>11/01/1999</td>\n",
       "      <td>1.0</td>\n",
       "      <td>NaN</td>\n",
       "      <td>NaN</td>\n",
       "      <td>12.0</td>\n",
       "      <td>0.0</td>\n",
       "      <td>16167</td>\n",
       "      <td>70.3</td>\n",
       "      <td>27.0</td>\n",
       "      <td>f</td>\n",
       "      <td>0.0</td>\n",
       "      <td>2</td>\n",
       "      <td>PC2</td>\n",
       "    </tr>\n",
       "    <tr>\n",
       "      <th>20</th>\n",
       "      <td>0</td>\n",
       "      <td>Office of the Federal Defender</td>\n",
       "      <td>3</td>\n",
       "      <td>MORTGAGE</td>\n",
       "      <td>120000.0</td>\n",
       "      <td>VERIFIED - income source</td>\n",
       "      <td>n</td>\n",
       "      <td>Borrower added on 08/30/11 &gt; I need a downpayment loan to purchase my second real estate inves...</td>\n",
       "      <td>house</td>\n",
       "      <td>Home Loan Downpayment</td>\n",
       "      <td>606xx</td>\n",
       "      <td>IL</td>\n",
       "      <td>5.22</td>\n",
       "      <td>1.0</td>\n",
       "      <td>12/01/1996</td>\n",
       "      <td>3.0</td>\n",
       "      <td>13.0</td>\n",
       "      <td>NaN</td>\n",
       "      <td>5.0</td>\n",
       "      <td>0.0</td>\n",
       "      <td>49805</td>\n",
       "      <td>0.0</td>\n",
       "      <td>36.0</td>\n",
       "      <td>f</td>\n",
       "      <td>0.0</td>\n",
       "      <td>1</td>\n",
       "      <td>PC1</td>\n",
       "    </tr>\n",
       "    <tr>\n",
       "      <th>21</th>\n",
       "      <td>1</td>\n",
       "      <td>HCG Medical</td>\n",
       "      <td>2</td>\n",
       "      <td>MORTGAGE</td>\n",
       "      <td>72000.0</td>\n",
       "      <td>not verified</td>\n",
       "      <td>n</td>\n",
       "      <td>I am looking for $10,000 to fund cash flow on a home building project that will yeild a very nic...</td>\n",
       "      <td>small business</td>\n",
       "      <td>Home Building</td>\n",
       "      <td>741xx</td>\n",
       "      <td>OK</td>\n",
       "      <td>17.48</td>\n",
       "      <td>0.0</td>\n",
       "      <td>11/01/1997</td>\n",
       "      <td>6.0</td>\n",
       "      <td>NaN</td>\n",
       "      <td>NaN</td>\n",
       "      <td>13.0</td>\n",
       "      <td>0.0</td>\n",
       "      <td>1249</td>\n",
       "      <td>6.1</td>\n",
       "      <td>23.0</td>\n",
       "      <td>f</td>\n",
       "      <td>0.0</td>\n",
       "      <td>3</td>\n",
       "      <td>PC3</td>\n",
       "    </tr>\n",
       "    <tr>\n",
       "      <th>22</th>\n",
       "      <td>0</td>\n",
       "      <td>Eastern Virginia Medical School</td>\n",
       "      <td>1</td>\n",
       "      <td>RENT</td>\n",
       "      <td>350000.0</td>\n",
       "      <td>VERIFIED - income</td>\n",
       "      <td>n</td>\n",
       "      <td>NaN</td>\n",
       "      <td>credit card</td>\n",
       "      <td>New Loan</td>\n",
       "      <td>234xx</td>\n",
       "      <td>VA</td>\n",
       "      <td>12.22</td>\n",
       "      <td>0.0</td>\n",
       "      <td>09/01/1994</td>\n",
       "      <td>0.0</td>\n",
       "      <td>34.0</td>\n",
       "      <td>NaN</td>\n",
       "      <td>8.0</td>\n",
       "      <td>0.0</td>\n",
       "      <td>27733</td>\n",
       "      <td>80.4</td>\n",
       "      <td>24.0</td>\n",
       "      <td>f</td>\n",
       "      <td>0.0</td>\n",
       "      <td>3</td>\n",
       "      <td>PC4</td>\n",
       "    </tr>\n",
       "    <tr>\n",
       "      <th>23</th>\n",
       "      <td>0</td>\n",
       "      <td>LOS ANGELES COUNTY - DPSS</td>\n",
       "      <td>10</td>\n",
       "      <td>RENT</td>\n",
       "      <td>56000.0</td>\n",
       "      <td>VERIFIED - income</td>\n",
       "      <td>n</td>\n",
       "      <td>Borrower added on 05/15/10 &gt; Would like consolidate my debt to make easier payment options.  I...</td>\n",
       "      <td>debt consolidation</td>\n",
       "      <td>SURVIVE</td>\n",
       "      <td>908xx</td>\n",
       "      <td>CA</td>\n",
       "      <td>15.43</td>\n",
       "      <td>0.0</td>\n",
       "      <td>06/01/1995</td>\n",
       "      <td>0.0</td>\n",
       "      <td>NaN</td>\n",
       "      <td>NaN</td>\n",
       "      <td>6.0</td>\n",
       "      <td>0.0</td>\n",
       "      <td>4971</td>\n",
       "      <td>43.5</td>\n",
       "      <td>19.0</td>\n",
       "      <td>f</td>\n",
       "      <td>0.0</td>\n",
       "      <td>1</td>\n",
       "      <td>PC2</td>\n",
       "    </tr>\n",
       "    <tr>\n",
       "      <th>24</th>\n",
       "      <td>0</td>\n",
       "      <td>Presidential Airways</td>\n",
       "      <td>1</td>\n",
       "      <td>MORTGAGE</td>\n",
       "      <td>191000.0</td>\n",
       "      <td>not verified</td>\n",
       "      <td>n</td>\n",
       "      <td>Borrower added on 01/04/10 &gt; Need some money to cover addtional helicopter Flight Instrument I...</td>\n",
       "      <td>educational</td>\n",
       "      <td>CFII Loan</td>\n",
       "      <td>324xx</td>\n",
       "      <td>FL</td>\n",
       "      <td>12.20</td>\n",
       "      <td>0.0</td>\n",
       "      <td>03/01/1987</td>\n",
       "      <td>0.0</td>\n",
       "      <td>49.0</td>\n",
       "      <td>NaN</td>\n",
       "      <td>16.0</td>\n",
       "      <td>0.0</td>\n",
       "      <td>444</td>\n",
       "      <td>2.5</td>\n",
       "      <td>54.0</td>\n",
       "      <td>f</td>\n",
       "      <td>0.0</td>\n",
       "      <td>2</td>\n",
       "      <td>PC1</td>\n",
       "    </tr>\n",
       "    <tr>\n",
       "      <th>25</th>\n",
       "      <td>0</td>\n",
       "      <td>University of New Hampshire</td>\n",
       "      <td>10</td>\n",
       "      <td>RENT</td>\n",
       "      <td>47480.0</td>\n",
       "      <td>not verified</td>\n",
       "      <td>n</td>\n",
       "      <td>Borrower added on 02/21/10 &gt; This loan wil be used to payoff a fairly high interest personal l...</td>\n",
       "      <td>other</td>\n",
       "      <td>Paying off a personal loan</td>\n",
       "      <td>038xx</td>\n",
       "      <td>NH</td>\n",
       "      <td>16.81</td>\n",
       "      <td>0.0</td>\n",
       "      <td>01/01/1999</td>\n",
       "      <td>3.0</td>\n",
       "      <td>32.0</td>\n",
       "      <td>NaN</td>\n",
       "      <td>10.0</td>\n",
       "      <td>0.0</td>\n",
       "      <td>150</td>\n",
       "      <td>3.1</td>\n",
       "      <td>24.0</td>\n",
       "      <td>f</td>\n",
       "      <td>0.0</td>\n",
       "      <td>3</td>\n",
       "      <td>PC1</td>\n",
       "    </tr>\n",
       "    <tr>\n",
       "      <th>26</th>\n",
       "      <td>0</td>\n",
       "      <td>northrop grumman</td>\n",
       "      <td>8</td>\n",
       "      <td>MORTGAGE</td>\n",
       "      <td>33600.0</td>\n",
       "      <td>VERIFIED - income</td>\n",
       "      <td>n</td>\n",
       "      <td>NaN</td>\n",
       "      <td>major purchase</td>\n",
       "      <td>personal loan for machinery</td>\n",
       "      <td>236xx</td>\n",
       "      <td>VA</td>\n",
       "      <td>3.93</td>\n",
       "      <td>0.0</td>\n",
       "      <td>02/01/2000</td>\n",
       "      <td>1.0</td>\n",
       "      <td>67.0</td>\n",
       "      <td>NaN</td>\n",
       "      <td>5.0</td>\n",
       "      <td>0.0</td>\n",
       "      <td>8482</td>\n",
       "      <td>73.8</td>\n",
       "      <td>20.0</td>\n",
       "      <td>f</td>\n",
       "      <td>0.0</td>\n",
       "      <td>2</td>\n",
       "      <td>PC1</td>\n",
       "    </tr>\n",
       "    <tr>\n",
       "      <th>27</th>\n",
       "      <td>0</td>\n",
       "      <td>National Action Financial Services</td>\n",
       "      <td>2</td>\n",
       "      <td>MORTGAGE</td>\n",
       "      <td>42000.0</td>\n",
       "      <td>not verified</td>\n",
       "      <td>n</td>\n",
       "      <td>NaN</td>\n",
       "      <td>other</td>\n",
       "      <td>personal</td>\n",
       "      <td>142xx</td>\n",
       "      <td>NY</td>\n",
       "      <td>15.89</td>\n",
       "      <td>0.0</td>\n",
       "      <td>05/01/2000</td>\n",
       "      <td>1.0</td>\n",
       "      <td>NaN</td>\n",
       "      <td>NaN</td>\n",
       "      <td>10.0</td>\n",
       "      <td>0.0</td>\n",
       "      <td>20691</td>\n",
       "      <td>51.6</td>\n",
       "      <td>20.0</td>\n",
       "      <td>f</td>\n",
       "      <td>0.0</td>\n",
       "      <td>2</td>\n",
       "      <td>PC5</td>\n",
       "    </tr>\n",
       "    <tr>\n",
       "      <th>28</th>\n",
       "      <td>0</td>\n",
       "      <td>Holyoke Credit Union</td>\n",
       "      <td>5</td>\n",
       "      <td>MORTGAGE</td>\n",
       "      <td>40000.0</td>\n",
       "      <td>not verified</td>\n",
       "      <td>n</td>\n",
       "      <td>Borrower added on 06/08/11 &gt; This debt consolidation loan will be used to pay down a high inte...</td>\n",
       "      <td>debt consolidation</td>\n",
       "      <td>Debt Consolidation</td>\n",
       "      <td>010xx</td>\n",
       "      <td>MA</td>\n",
       "      <td>10.71</td>\n",
       "      <td>0.0</td>\n",
       "      <td>07/01/2005</td>\n",
       "      <td>0.0</td>\n",
       "      <td>NaN</td>\n",
       "      <td>NaN</td>\n",
       "      <td>11.0</td>\n",
       "      <td>0.0</td>\n",
       "      <td>2459</td>\n",
       "      <td>44.7</td>\n",
       "      <td>26.0</td>\n",
       "      <td>f</td>\n",
       "      <td>0.0</td>\n",
       "      <td>2</td>\n",
       "      <td>PC2</td>\n",
       "    </tr>\n",
       "    <tr>\n",
       "      <th>29</th>\n",
       "      <td>0</td>\n",
       "      <td>Innovative Technology Holdings</td>\n",
       "      <td>3</td>\n",
       "      <td>MORTGAGE</td>\n",
       "      <td>55000.0</td>\n",
       "      <td>not verified</td>\n",
       "      <td>n</td>\n",
       "      <td>I am requesting a loan to consolidate some of my higher intrest rate credit cards.  I use these ...</td>\n",
       "      <td>credit card</td>\n",
       "      <td>A little Debt Consolidation</td>\n",
       "      <td>614xx</td>\n",
       "      <td>IL</td>\n",
       "      <td>24.94</td>\n",
       "      <td>0.0</td>\n",
       "      <td>04/01/1994</td>\n",
       "      <td>8.0</td>\n",
       "      <td>NaN</td>\n",
       "      <td>NaN</td>\n",
       "      <td>16.0</td>\n",
       "      <td>0.0</td>\n",
       "      <td>41705</td>\n",
       "      <td>95.2</td>\n",
       "      <td>24.0</td>\n",
       "      <td>f</td>\n",
       "      <td>0.0</td>\n",
       "      <td>3</td>\n",
       "      <td>PC2</td>\n",
       "    </tr>\n",
       "    <tr>\n",
       "      <th>30</th>\n",
       "      <td>0</td>\n",
       "      <td>Edmunds.com Inc</td>\n",
       "      <td>4</td>\n",
       "      <td>RENT</td>\n",
       "      <td>120000.0</td>\n",
       "      <td>not verified</td>\n",
       "      <td>n</td>\n",
       "      <td>Saw this wonderful motorcycle and would be nice to able to purchase it.</td>\n",
       "      <td>other</td>\n",
       "      <td>Motorcycle Loan</td>\n",
       "      <td>918xx</td>\n",
       "      <td>CA</td>\n",
       "      <td>0.00</td>\n",
       "      <td>0.0</td>\n",
       "      <td>07/01/1995</td>\n",
       "      <td>0.0</td>\n",
       "      <td>48.0</td>\n",
       "      <td>NaN</td>\n",
       "      <td>2.0</td>\n",
       "      <td>0.0</td>\n",
       "      <td>0</td>\n",
       "      <td>0.0</td>\n",
       "      <td>7.0</td>\n",
       "      <td>f</td>\n",
       "      <td>0.0</td>\n",
       "      <td>3</td>\n",
       "      <td>PC2</td>\n",
       "    </tr>\n",
       "    <tr>\n",
       "      <th>31</th>\n",
       "      <td>0</td>\n",
       "      <td>iCrossing Inc.</td>\n",
       "      <td>1</td>\n",
       "      <td>MORTGAGE</td>\n",
       "      <td>100000.0</td>\n",
       "      <td>VERIFIED - income</td>\n",
       "      <td>n</td>\n",
       "      <td>Borrower added on 07/01/11 &gt; I am hoping to use this loan to consolidate two credit cards into...</td>\n",
       "      <td>debt consolidation</td>\n",
       "      <td>Debt Consolidation Loan</td>\n",
       "      <td>200xx</td>\n",
       "      <td>DC</td>\n",
       "      <td>19.99</td>\n",
       "      <td>0.0</td>\n",
       "      <td>10/01/2001</td>\n",
       "      <td>1.0</td>\n",
       "      <td>58.0</td>\n",
       "      <td>NaN</td>\n",
       "      <td>6.0</td>\n",
       "      <td>0.0</td>\n",
       "      <td>24678</td>\n",
       "      <td>79.0</td>\n",
       "      <td>22.0</td>\n",
       "      <td>f</td>\n",
       "      <td>0.0</td>\n",
       "      <td>2</td>\n",
       "      <td>PC5</td>\n",
       "    </tr>\n",
       "    <tr>\n",
       "      <th>32</th>\n",
       "      <td>0</td>\n",
       "      <td>US Postal Service</td>\n",
       "      <td>3</td>\n",
       "      <td>MORTGAGE</td>\n",
       "      <td>48000.0</td>\n",
       "      <td>VERIFIED - income</td>\n",
       "      <td>n</td>\n",
       "      <td>Borrower added on 01/10/11 &gt; I will be using this money to help me consolidate my current debt...</td>\n",
       "      <td>debt consolidation</td>\n",
       "      <td>Debt Consolidation</td>\n",
       "      <td>287xx</td>\n",
       "      <td>NC</td>\n",
       "      <td>22.59</td>\n",
       "      <td>0.0</td>\n",
       "      <td>06/01/1997</td>\n",
       "      <td>2.0</td>\n",
       "      <td>52.0</td>\n",
       "      <td>NaN</td>\n",
       "      <td>10.0</td>\n",
       "      <td>0.0</td>\n",
       "      <td>2894</td>\n",
       "      <td>36.2</td>\n",
       "      <td>13.0</td>\n",
       "      <td>f</td>\n",
       "      <td>0.0</td>\n",
       "      <td>2</td>\n",
       "      <td>PC3</td>\n",
       "    </tr>\n",
       "    <tr>\n",
       "      <th>33</th>\n",
       "      <td>0</td>\n",
       "      <td>Sasquatch Advertising</td>\n",
       "      <td>5</td>\n",
       "      <td>RENT</td>\n",
       "      <td>41000.0</td>\n",
       "      <td>not verified</td>\n",
       "      <td>n</td>\n",
       "      <td>Borrower added on 08/09/11 &gt; I am a very responsible and have a steady job at the same company...</td>\n",
       "      <td>debt consolidation</td>\n",
       "      <td>Credit Card Consolidation</td>\n",
       "      <td>972xx</td>\n",
       "      <td>OR</td>\n",
       "      <td>20.69</td>\n",
       "      <td>0.0</td>\n",
       "      <td>10/01/2000</td>\n",
       "      <td>0.0</td>\n",
       "      <td>39.0</td>\n",
       "      <td>NaN</td>\n",
       "      <td>6.0</td>\n",
       "      <td>0.0</td>\n",
       "      <td>10949</td>\n",
       "      <td>61.9</td>\n",
       "      <td>12.0</td>\n",
       "      <td>f</td>\n",
       "      <td>0.0</td>\n",
       "      <td>3</td>\n",
       "      <td>PC4</td>\n",
       "    </tr>\n",
       "    <tr>\n",
       "      <th>34</th>\n",
       "      <td>0</td>\n",
       "      <td>Millen United Methodist Church</td>\n",
       "      <td>1</td>\n",
       "      <td>RENT</td>\n",
       "      <td>8000.0</td>\n",
       "      <td>VERIFIED - income source</td>\n",
       "      <td>n</td>\n",
       "      <td>I need a loan to finance a new vehicle. I have always done well with paying my bills on time an...</td>\n",
       "      <td>car</td>\n",
       "      <td>Automobile Loan</td>\n",
       "      <td>304xx</td>\n",
       "      <td>GA</td>\n",
       "      <td>15.15</td>\n",
       "      <td>0.0</td>\n",
       "      <td>08/01/2003</td>\n",
       "      <td>0.0</td>\n",
       "      <td>NaN</td>\n",
       "      <td>NaN</td>\n",
       "      <td>6.0</td>\n",
       "      <td>0.0</td>\n",
       "      <td>2146</td>\n",
       "      <td>20.2</td>\n",
       "      <td>16.0</td>\n",
       "      <td>f</td>\n",
       "      <td>0.0</td>\n",
       "      <td>1</td>\n",
       "      <td>PC1</td>\n",
       "    </tr>\n",
       "    <tr>\n",
       "      <th>35</th>\n",
       "      <td>0</td>\n",
       "      <td>Graham Packagaing Company</td>\n",
       "      <td>10</td>\n",
       "      <td>MORTGAGE</td>\n",
       "      <td>80000.0</td>\n",
       "      <td>VERIFIED - income</td>\n",
       "      <td>n</td>\n",
       "      <td>I pay my bills on time each month, but the balance doesn't seem to be going down. I want a set d...</td>\n",
       "      <td>debt consolidation</td>\n",
       "      <td>Getting ready for retirement!</td>\n",
       "      <td>660xx</td>\n",
       "      <td>KS</td>\n",
       "      <td>8.14</td>\n",
       "      <td>0.0</td>\n",
       "      <td>02/01/1996</td>\n",
       "      <td>0.0</td>\n",
       "      <td>NaN</td>\n",
       "      <td>NaN</td>\n",
       "      <td>10.0</td>\n",
       "      <td>0.0</td>\n",
       "      <td>14563</td>\n",
       "      <td>68.1</td>\n",
       "      <td>23.0</td>\n",
       "      <td>f</td>\n",
       "      <td>0.0</td>\n",
       "      <td>2</td>\n",
       "      <td>PC4</td>\n",
       "    </tr>\n",
       "    <tr>\n",
       "      <th>36</th>\n",
       "      <td>0</td>\n",
       "      <td>Headstrong Services LLC</td>\n",
       "      <td>2</td>\n",
       "      <td>RENT</td>\n",
       "      <td>95000.0</td>\n",
       "      <td>VERIFIED - income</td>\n",
       "      <td>n</td>\n",
       "      <td>NaN</td>\n",
       "      <td>credit card</td>\n",
       "      <td>Debt Consolidation</td>\n",
       "      <td>232xx</td>\n",
       "      <td>VA</td>\n",
       "      <td>13.65</td>\n",
       "      <td>0.0</td>\n",
       "      <td>10/01/2004</td>\n",
       "      <td>0.0</td>\n",
       "      <td>NaN</td>\n",
       "      <td>NaN</td>\n",
       "      <td>8.0</td>\n",
       "      <td>0.0</td>\n",
       "      <td>27686</td>\n",
       "      <td>54.3</td>\n",
       "      <td>26.0</td>\n",
       "      <td>f</td>\n",
       "      <td>0.0</td>\n",
       "      <td>1</td>\n",
       "      <td>PC3</td>\n",
       "    </tr>\n",
       "    <tr>\n",
       "      <th>37</th>\n",
       "      <td>0</td>\n",
       "      <td>Citi Financial</td>\n",
       "      <td>4</td>\n",
       "      <td>RENT</td>\n",
       "      <td>60000.0</td>\n",
       "      <td>VERIFIED - income</td>\n",
       "      <td>n</td>\n",
       "      <td>Borrower added on 03/19/10 &gt; This loan is to consolidate my time share loan from a 10 year 16....</td>\n",
       "      <td>debt consolidation</td>\n",
       "      <td>Consolidate Tahiti Village</td>\n",
       "      <td>802xx</td>\n",
       "      <td>CO</td>\n",
       "      <td>9.46</td>\n",
       "      <td>0.0</td>\n",
       "      <td>08/01/1998</td>\n",
       "      <td>0.0</td>\n",
       "      <td>60.0</td>\n",
       "      <td>NaN</td>\n",
       "      <td>14.0</td>\n",
       "      <td>0.0</td>\n",
       "      <td>9936</td>\n",
       "      <td>16.7</td>\n",
       "      <td>29.0</td>\n",
       "      <td>f</td>\n",
       "      <td>0.0</td>\n",
       "      <td>2</td>\n",
       "      <td>PC5</td>\n",
       "    </tr>\n",
       "    <tr>\n",
       "      <th>38</th>\n",
       "      <td>0</td>\n",
       "      <td>LabCorp of America</td>\n",
       "      <td>2</td>\n",
       "      <td>RENT</td>\n",
       "      <td>42000.0</td>\n",
       "      <td>not verified</td>\n",
       "      <td>n</td>\n",
       "      <td>Borrower added on 09/06/11 &gt; I was offered lower interest rate and apr for a new loan due to m...</td>\n",
       "      <td>debt consolidation</td>\n",
       "      <td>Refinance Debt Consolidation</td>\n",
       "      <td>918xx</td>\n",
       "      <td>CA</td>\n",
       "      <td>12.74</td>\n",
       "      <td>0.0</td>\n",
       "      <td>07/01/2001</td>\n",
       "      <td>3.0</td>\n",
       "      <td>62.0</td>\n",
       "      <td>NaN</td>\n",
       "      <td>11.0</td>\n",
       "      <td>0.0</td>\n",
       "      <td>528</td>\n",
       "      <td>9.1</td>\n",
       "      <td>22.0</td>\n",
       "      <td>f</td>\n",
       "      <td>0.0</td>\n",
       "      <td>3</td>\n",
       "      <td>PC4</td>\n",
       "    </tr>\n",
       "    <tr>\n",
       "      <th>39</th>\n",
       "      <td>0</td>\n",
       "      <td>Neurowave Medical Technologies</td>\n",
       "      <td>3</td>\n",
       "      <td>OWN</td>\n",
       "      <td>36400.0</td>\n",
       "      <td>not verified</td>\n",
       "      <td>n</td>\n",
       "      <td>Borrower added on 04/14/11 &gt; Hello, Im looking to get this loan for Debt Consolidation. I curr...</td>\n",
       "      <td>debt consolidation</td>\n",
       "      <td>Debt Consolidation</td>\n",
       "      <td>606xx</td>\n",
       "      <td>IL</td>\n",
       "      <td>10.98</td>\n",
       "      <td>0.0</td>\n",
       "      <td>01/01/2004</td>\n",
       "      <td>1.0</td>\n",
       "      <td>NaN</td>\n",
       "      <td>NaN</td>\n",
       "      <td>8.0</td>\n",
       "      <td>0.0</td>\n",
       "      <td>6772</td>\n",
       "      <td>72.8</td>\n",
       "      <td>18.0</td>\n",
       "      <td>f</td>\n",
       "      <td>0.0</td>\n",
       "      <td>3</td>\n",
       "      <td>PC4</td>\n",
       "    </tr>\n",
       "    <tr>\n",
       "      <th>40</th>\n",
       "      <td>0</td>\n",
       "      <td>Arthur J Gallagher Risk Management</td>\n",
       "      <td>1</td>\n",
       "      <td>RENT</td>\n",
       "      <td>65400.0</td>\n",
       "      <td>VERIFIED - income source</td>\n",
       "      <td>n</td>\n",
       "      <td>Borrower added on 01/12/11 &gt; To refinance some high interest credit cards.&lt;br/&gt; Borrower added...</td>\n",
       "      <td>credit card</td>\n",
       "      <td>Credit Card</td>\n",
       "      <td>932xx</td>\n",
       "      <td>CA</td>\n",
       "      <td>17.71</td>\n",
       "      <td>0.0</td>\n",
       "      <td>02/01/1995</td>\n",
       "      <td>3.0</td>\n",
       "      <td>NaN</td>\n",
       "      <td>NaN</td>\n",
       "      <td>8.0</td>\n",
       "      <td>0.0</td>\n",
       "      <td>13041</td>\n",
       "      <td>81.5</td>\n",
       "      <td>36.0</td>\n",
       "      <td>f</td>\n",
       "      <td>0.0</td>\n",
       "      <td>3</td>\n",
       "      <td>PC5</td>\n",
       "    </tr>\n",
       "    <tr>\n",
       "      <th>41</th>\n",
       "      <td>0</td>\n",
       "      <td>MediMedia</td>\n",
       "      <td>2</td>\n",
       "      <td>RENT</td>\n",
       "      <td>58000.0</td>\n",
       "      <td>not verified</td>\n",
       "      <td>n</td>\n",
       "      <td>Borrower added on 06/03/10 &gt; Now 5 years removed from grad school, I've paid off 80% of my $50...</td>\n",
       "      <td>debt consolidation</td>\n",
       "      <td>Help me pay off my student loans!</td>\n",
       "      <td>070xx</td>\n",
       "      <td>NJ</td>\n",
       "      <td>13.55</td>\n",
       "      <td>0.0</td>\n",
       "      <td>09/01/2001</td>\n",
       "      <td>3.0</td>\n",
       "      <td>64.0</td>\n",
       "      <td>NaN</td>\n",
       "      <td>7.0</td>\n",
       "      <td>0.0</td>\n",
       "      <td>7616</td>\n",
       "      <td>58.1</td>\n",
       "      <td>16.0</td>\n",
       "      <td>f</td>\n",
       "      <td>0.0</td>\n",
       "      <td>3</td>\n",
       "      <td>PC5</td>\n",
       "    </tr>\n",
       "    <tr>\n",
       "      <th>42</th>\n",
       "      <td>0</td>\n",
       "      <td>Miele Inc</td>\n",
       "      <td>4</td>\n",
       "      <td>RENT</td>\n",
       "      <td>315600.0</td>\n",
       "      <td>VERIFIED - income source</td>\n",
       "      <td>n</td>\n",
       "      <td>Borrower added on 08/14/11 &gt; This Loan Is to help pay off my debt, which includes credit card ...</td>\n",
       "      <td>debt consolidation</td>\n",
       "      <td>Debt Consolidation</td>\n",
       "      <td>088xx</td>\n",
       "      <td>NJ</td>\n",
       "      <td>0.98</td>\n",
       "      <td>0.0</td>\n",
       "      <td>02/01/2007</td>\n",
       "      <td>2.0</td>\n",
       "      <td>NaN</td>\n",
       "      <td>NaN</td>\n",
       "      <td>6.0</td>\n",
       "      <td>0.0</td>\n",
       "      <td>1555</td>\n",
       "      <td>24.7</td>\n",
       "      <td>10.0</td>\n",
       "      <td>f</td>\n",
       "      <td>0.0</td>\n",
       "      <td>1</td>\n",
       "      <td>PC3</td>\n",
       "    </tr>\n",
       "    <tr>\n",
       "      <th>43</th>\n",
       "      <td>0</td>\n",
       "      <td>Indus Corp</td>\n",
       "      <td>2</td>\n",
       "      <td>MORTGAGE</td>\n",
       "      <td>45000.0</td>\n",
       "      <td>not verified</td>\n",
       "      <td>n</td>\n",
       "      <td>Borrower added on 11/15/10 &gt; New vinyl windows keep the heat&lt;br/&gt;</td>\n",
       "      <td>home improvement</td>\n",
       "      <td>Windows keep the heat</td>\n",
       "      <td>210xx</td>\n",
       "      <td>MD</td>\n",
       "      <td>7.79</td>\n",
       "      <td>0.0</td>\n",
       "      <td>08/01/1997</td>\n",
       "      <td>1.0</td>\n",
       "      <td>NaN</td>\n",
       "      <td>NaN</td>\n",
       "      <td>9.0</td>\n",
       "      <td>0.0</td>\n",
       "      <td>780</td>\n",
       "      <td>4.1</td>\n",
       "      <td>19.0</td>\n",
       "      <td>f</td>\n",
       "      <td>0.0</td>\n",
       "      <td>2</td>\n",
       "      <td>PC3</td>\n",
       "    </tr>\n",
       "    <tr>\n",
       "      <th>44</th>\n",
       "      <td>0</td>\n",
       "      <td>Coyote Point Systems</td>\n",
       "      <td>5</td>\n",
       "      <td>RENT</td>\n",
       "      <td>55000.0</td>\n",
       "      <td>not verified</td>\n",
       "      <td>n</td>\n",
       "      <td>NaN</td>\n",
       "      <td>debt consolidation</td>\n",
       "      <td>Karilyn</td>\n",
       "      <td>060xx</td>\n",
       "      <td>CT</td>\n",
       "      <td>22.28</td>\n",
       "      <td>0.0</td>\n",
       "      <td>03/01/2000</td>\n",
       "      <td>2.0</td>\n",
       "      <td>NaN</td>\n",
       "      <td>NaN</td>\n",
       "      <td>13.0</td>\n",
       "      <td>0.0</td>\n",
       "      <td>14217</td>\n",
       "      <td>20.2</td>\n",
       "      <td>25.0</td>\n",
       "      <td>f</td>\n",
       "      <td>0.0</td>\n",
       "      <td>2</td>\n",
       "      <td>PC5</td>\n",
       "    </tr>\n",
       "    <tr>\n",
       "      <th>45</th>\n",
       "      <td>0</td>\n",
       "      <td>Saint Louis University</td>\n",
       "      <td>4</td>\n",
       "      <td>MORTGAGE</td>\n",
       "      <td>141000.0</td>\n",
       "      <td>VERIFIED - income</td>\n",
       "      <td>n</td>\n",
       "      <td>NaN</td>\n",
       "      <td>major purchase</td>\n",
       "      <td>Horse</td>\n",
       "      <td>633xx</td>\n",
       "      <td>MO</td>\n",
       "      <td>8.31</td>\n",
       "      <td>0.0</td>\n",
       "      <td>09/01/1992</td>\n",
       "      <td>3.0</td>\n",
       "      <td>NaN</td>\n",
       "      <td>NaN</td>\n",
       "      <td>10.0</td>\n",
       "      <td>0.0</td>\n",
       "      <td>55142</td>\n",
       "      <td>45.8</td>\n",
       "      <td>24.0</td>\n",
       "      <td>f</td>\n",
       "      <td>0.0</td>\n",
       "      <td>1</td>\n",
       "      <td>PC1</td>\n",
       "    </tr>\n",
       "    <tr>\n",
       "      <th>46</th>\n",
       "      <td>0</td>\n",
       "      <td>Grande Ronde Hospital</td>\n",
       "      <td>7</td>\n",
       "      <td>MORTGAGE</td>\n",
       "      <td>72000.0</td>\n",
       "      <td>not verified</td>\n",
       "      <td>n</td>\n",
       "      <td>Borrower added on 11/29/11 &gt; I plan on purchasing a Harley Davidson motorcycle. I have an exce...</td>\n",
       "      <td>car</td>\n",
       "      <td>Harley loan</td>\n",
       "      <td>978xx</td>\n",
       "      <td>OR</td>\n",
       "      <td>8.68</td>\n",
       "      <td>0.0</td>\n",
       "      <td>10/01/1995</td>\n",
       "      <td>0.0</td>\n",
       "      <td>NaN</td>\n",
       "      <td>NaN</td>\n",
       "      <td>10.0</td>\n",
       "      <td>0.0</td>\n",
       "      <td>18885</td>\n",
       "      <td>66.3</td>\n",
       "      <td>43.0</td>\n",
       "      <td>f</td>\n",
       "      <td>0.0</td>\n",
       "      <td>2</td>\n",
       "      <td>PC5</td>\n",
       "    </tr>\n",
       "    <tr>\n",
       "      <th>47</th>\n",
       "      <td>0</td>\n",
       "      <td>Sauk Prairie Memorial Hospital</td>\n",
       "      <td>1</td>\n",
       "      <td>MORTGAGE</td>\n",
       "      <td>35000.0</td>\n",
       "      <td>VERIFIED - income source</td>\n",
       "      <td>n</td>\n",
       "      <td>About Me:  I am currently a Labor and Delivery Nurse near Madison, WI.  My husband is the manage...</td>\n",
       "      <td>debt consolidation</td>\n",
       "      <td>Debit Consolidation</td>\n",
       "      <td>535xx</td>\n",
       "      <td>WI</td>\n",
       "      <td>14.50</td>\n",
       "      <td>0.0</td>\n",
       "      <td>01/01/2000</td>\n",
       "      <td>3.0</td>\n",
       "      <td>NaN</td>\n",
       "      <td>NaN</td>\n",
       "      <td>12.0</td>\n",
       "      <td>0.0</td>\n",
       "      <td>17717</td>\n",
       "      <td>67.4</td>\n",
       "      <td>26.0</td>\n",
       "      <td>f</td>\n",
       "      <td>0.0</td>\n",
       "      <td>1</td>\n",
       "      <td>PC4</td>\n",
       "    </tr>\n",
       "    <tr>\n",
       "      <th>48</th>\n",
       "      <td>0</td>\n",
       "      <td>Tampa Truck Center LLC</td>\n",
       "      <td>3</td>\n",
       "      <td>MORTGAGE</td>\n",
       "      <td>42240.0</td>\n",
       "      <td>not verified</td>\n",
       "      <td>n</td>\n",
       "      <td>Borrower added on 02/28/10 &gt; I would like to pay off a couple of small credit card balances. T...</td>\n",
       "      <td>debt consolidation</td>\n",
       "      <td>Tired of credit crunch!</td>\n",
       "      <td>335xx</td>\n",
       "      <td>FL</td>\n",
       "      <td>13.35</td>\n",
       "      <td>1.0</td>\n",
       "      <td>01/01/1987</td>\n",
       "      <td>1.0</td>\n",
       "      <td>4.0</td>\n",
       "      <td>NaN</td>\n",
       "      <td>5.0</td>\n",
       "      <td>0.0</td>\n",
       "      <td>15974</td>\n",
       "      <td>48.9</td>\n",
       "      <td>16.0</td>\n",
       "      <td>f</td>\n",
       "      <td>0.0</td>\n",
       "      <td>1</td>\n",
       "      <td>PC3</td>\n",
       "    </tr>\n",
       "    <tr>\n",
       "      <th>49</th>\n",
       "      <td>0</td>\n",
       "      <td>KIC</td>\n",
       "      <td>10</td>\n",
       "      <td>MORTGAGE</td>\n",
       "      <td>66000.0</td>\n",
       "      <td>not verified</td>\n",
       "      <td>n</td>\n",
       "      <td>NaN</td>\n",
       "      <td>home improvement</td>\n",
       "      <td>Home Improvement</td>\n",
       "      <td>857xx</td>\n",
       "      <td>AZ</td>\n",
       "      <td>12.58</td>\n",
       "      <td>0.0</td>\n",
       "      <td>10/01/1996</td>\n",
       "      <td>1.0</td>\n",
       "      <td>NaN</td>\n",
       "      <td>NaN</td>\n",
       "      <td>11.0</td>\n",
       "      <td>0.0</td>\n",
       "      <td>5723</td>\n",
       "      <td>8.4</td>\n",
       "      <td>38.0</td>\n",
       "      <td>f</td>\n",
       "      <td>0.0</td>\n",
       "      <td>3</td>\n",
       "      <td>PC4</td>\n",
       "    </tr>\n",
       "    <tr>\n",
       "      <th>50</th>\n",
       "      <td>0</td>\n",
       "      <td>Fox News Channel</td>\n",
       "      <td>6</td>\n",
       "      <td>RENT</td>\n",
       "      <td>86496.0</td>\n",
       "      <td>VERIFIED - income source</td>\n",
       "      <td>n</td>\n",
       "      <td>Borrower added on 11/29/11 &gt; This is to consolidate credit card debt into one monthly payment....</td>\n",
       "      <td>debt consolidation</td>\n",
       "      <td>Consolidation</td>\n",
       "      <td>115xx</td>\n",
       "      <td>NY</td>\n",
       "      <td>14.19</td>\n",
       "      <td>0.0</td>\n",
       "      <td>01/01/2001</td>\n",
       "      <td>0.0</td>\n",
       "      <td>NaN</td>\n",
       "      <td>NaN</td>\n",
       "      <td>6.0</td>\n",
       "      <td>0.0</td>\n",
       "      <td>12915</td>\n",
       "      <td>85.0</td>\n",
       "      <td>12.0</td>\n",
       "      <td>f</td>\n",
       "      <td>0.0</td>\n",
       "      <td>1</td>\n",
       "      <td>PC2</td>\n",
       "    </tr>\n",
       "  </tbody>\n",
       "</table>\n",
       "</div>"
      ],
      "text/plain": [
       "    is_bad                            emp_title emp_length home_ownership  annual_inc       verification_status pymnt_plan                                                                                                Notes           purpose_cat                                 purpose zip_code addr_state  debt_to_income  delinq_2yrs earliest_cr_line  inq_last_6mths  mths_since_last_delinq  mths_since_last_record  open_acc  pub_rec  revol_bal  revol_util  total_acc initial_list_status  collections_12_mths_ex_med  mths_since_last_major_derog policy_code\n",
       "Id                                                                                                                                                                                                                                                                                                                                                                                                                                                                                                                                                                           \n",
       "1        0                    Time Warner Cable         10       MORTGAGE     50000.0              not verified          n                                                                                                  NaN               medical                                 Medical    766xx         TX           10.87          0.0       12/01/1992             0.0                     NaN                     NaN      15.0      0.0      12087        12.1       44.0                   f                         0.0                            1         PC4\n",
       "2        0                    Ottawa University          1           RENT     39216.0              not verified          n    Borrower added on 04/14/11 > I will be using this loan to pay off expenses accrued in the last...    debt consolidation              My Debt Consolidation Loan    660xx         KS            9.15          0.0       11/01/2005             2.0                     NaN                     NaN       4.0      0.0      10114        64.0        5.0                   f                         0.0                            2         PC1\n",
       "3        0                       Kennedy Wilson          4           RENT     65000.0              not verified          n                                                                                                  NaN           credit card                        AP Personal Loan    916xx         CA           11.24          0.0       06/01/1970             0.0                     NaN                     NaN       4.0      0.0         81         0.6        8.0                   f                         0.0                            3         PC4\n",
       "4        0                   TOWN OF PLATTEKILL         10       MORTGAGE     57500.0              not verified          n                                                                                                  NaN    debt consolidation                 Debt Consolidation Loan    124xx         NY            6.18          1.0       09/01/1982             0.0                    16.0                     NaN       6.0      0.0      10030        37.1       23.0                   f                         0.0                            2         PC2\n",
       "5        0                 Belmont Correctional         10       MORTGAGE     50004.0         VERIFIED - income          n                                    I want to consolidate my debt, pay for a vacation and buy a ring.    debt consolidation                             consolidate    439xx         OH           19.03          0.0       10/01/1999             4.0                     NaN                     NaN       8.0      0.0      10740        40.4       21.0                   f                         0.0                            3         PC3\n",
       "6        0                          BAE Systems          4           RENT     47028.0         VERIFIED - income          n                                                                                                  NaN                 other                               16-Oct-10    200xx         DC            7.83          2.0       12/01/1999             1.0                    19.0                     NaN       6.0      0.0       1715        26.4       25.0                   f                         0.0                            3         PC3\n",
       "7        0          Peninsula Counseling Center         10       MORTGAGE    126000.0              not verified          n    Borrower added on 05/18/10 > mick credit card consolidation loan - 100% payoff of credit card ...           credit card                   mick credit card loan    103xx         NY           14.28          0.0       11/01/1979             0.0                     NaN                     NaN      18.0      0.0       5466        11.1       29.0                   f                         0.0                            3         PC1\n",
       "8        0                Health Plan of Nevada          6       MORTGAGE     42000.0  VERIFIED - income source          n    Borrower added on 11/29/11 > Loan is for debt consolidation and will be paid timely.  Employed...    debt consolidation                                 CC loan    891xx         NV           10.29          0.0       04/01/2006             0.0                     NaN                     NaN       9.0      0.0      10354        95.9       10.0                   f                         0.0                            3         PC3\n",
       "9        0                           John Deere          2       MORTGAGE     50000.0         VERIFIED - income          n                                                                                                  NaN    debt consolidation                           Consolidation    612xx         IL           15.36          0.0       02/01/2001             2.0                     NaN                     NaN      11.0      0.0      19662        59.2       27.0                   f                         0.0                            1         PC5\n",
       "10       0                                  NaN          1           RENT     40000.0              not verified          n  This loan would be for a 2006 PT Cruiser with only 300 miles on it. There is still a full warran...                   car  FICO score 762 want's to buy a new car    926xx         CA            6.48          0.0       05/01/1995             1.0                     NaN                     NaN      11.0      0.0      19998        18.3       23.0                   f                         0.0                            1         PC5\n",
       "11       0                                  NaN          3           RENT     74000.0  VERIFIED - income source          n                                                                                                  NaN           credit card               Credit Card Consolidation    921xx         CA           17.11          0.0       12/01/1990             0.0                     NaN                     NaN      10.0      0.0      15046        39.9       18.0                   f                         0.0                            1         PC4\n",
       "12       0               Deliotte/ BearingPoint          5           RENT    112000.0              not verified          n   569486 added on 11/07/09 > - Two high earners in their early thirties, w/ increased earning pot...    debt consolidation                            BrightFuture    200xx         DC           14.96          0.0       06/01/1993             0.0                     NaN                     NaN      12.0      0.0      25274        39.5       24.0                   f                         0.0                            1         PC3\n",
       "13       0                          Averro inc.          1           RENT    148080.0         VERIFIED - income          n    Borrower added on 10/31/11 > I wish to consolidate my credit card payments and reduce my debt ...    debt consolidation                         Debt cons. Loan    980xx         WA           15.88          0.0       04/01/1996             2.0                     NaN                     NaN      12.0      0.0      36546        73.4       27.0                   f                         0.0                            1         PC3\n",
       "14       0           Photography By Foschi  LLC         10           RENT     44724.0              not verified          n                                                          Need help making ends meet for the wedding.               wedding                                 Wedding    198xx         DE           17.41          0.0       10/01/1996             3.0                     NaN                     NaN       3.0      0.0        886        25.3        5.0                   f                         0.0                            2         PC1\n",
       "15       0                Bridgepoint Education          1           RENT    100000.0              not verified          n    Borrower added on 02/28/11 > I a Database Developer at Bridgpoint and would like to use this l...                 other              Tax and Debt Consolidation    920xx         CA           18.66          0.0       10/01/1999             0.0                     NaN                     NaN      13.0      0.0      23484        70.1       37.0                   f                         0.0                            3         PC3\n",
       "16       0                SUBURBAN LOCK SERVICE         10       MORTGAGE     75000.0         VERIFIED - income          n    Borrower added on 11/07/11 > I HAVE NEVER MISSED A PAYMENT ON ANY ACCOUNT AND I HAVE BEEN EMPL...    debt consolidation                 Debt Consolidation Loan    604xx         IL           13.42          0.0       01/01/1993             0.0                     NaN                     NaN       5.0      0.0      18591        37.9       19.0                   m                         0.0                            3         PC3\n",
       "17       1                                  NaN         10            OWN     22000.0  VERIFIED - income source          n    Borrower added on 01/09/11 > Loan proceeds will assist in the necessary expansion of a 30 year...  other small business                         Suitable Select    324xx         FL           14.95          0.0       09/01/1993             0.0                     NaN                     NaN       4.0      0.0       8511        78.8        9.0                   m                         0.0                            3         PC2\n",
       "18       0               Stryker  Tams and Dill          1           RENT     30000.0  VERIFIED - income source          n    Borrower added on 12/22/10 > I'm applying for this loan to get rid of my credit card debt and ...    debt consolidation                               Debt Loan    076xx         NJ           19.32          0.0       01/01/2003             0.0                     NaN                     NaN       9.0      0.0       5276        62.1       19.0                   f                         0.0                            3         PC4\n",
       "19       0  San Jacinto Unified School District          3           RENT     63000.0         VERIFIED - income          n    Borrower added on 11/22/11 > These funds will be used to pay off credit card debt and lower to...    debt consolidation                      Debt Consolidation    925xx         CA           19.09          0.0       11/01/1999             1.0                     NaN                     NaN      12.0      0.0      16167        70.3       27.0                   f                         0.0                            2         PC2\n",
       "20       0       Office of the Federal Defender          3       MORTGAGE    120000.0  VERIFIED - income source          n    Borrower added on 08/30/11 > I need a downpayment loan to purchase my second real estate inves...                 house                   Home Loan Downpayment    606xx         IL            5.22          1.0       12/01/1996             3.0                    13.0                     NaN       5.0      0.0      49805         0.0       36.0                   f                         0.0                            1         PC1\n",
       "21       1                          HCG Medical          2       MORTGAGE     72000.0              not verified          n  I am looking for $10,000 to fund cash flow on a home building project that will yeild a very nic...        small business                           Home Building    741xx         OK           17.48          0.0       11/01/1997             6.0                     NaN                     NaN      13.0      0.0       1249         6.1       23.0                   f                         0.0                            3         PC3\n",
       "22       0      Eastern Virginia Medical School          1           RENT    350000.0         VERIFIED - income          n                                                                                                  NaN           credit card                                New Loan    234xx         VA           12.22          0.0       09/01/1994             0.0                    34.0                     NaN       8.0      0.0      27733        80.4       24.0                   f                         0.0                            3         PC4\n",
       "23       0            LOS ANGELES COUNTY - DPSS         10           RENT     56000.0         VERIFIED - income          n    Borrower added on 05/15/10 > Would like consolidate my debt to make easier payment options.  I...    debt consolidation                                 SURVIVE    908xx         CA           15.43          0.0       06/01/1995             0.0                     NaN                     NaN       6.0      0.0       4971        43.5       19.0                   f                         0.0                            1         PC2\n",
       "24       0                 Presidential Airways          1       MORTGAGE    191000.0              not verified          n    Borrower added on 01/04/10 > Need some money to cover addtional helicopter Flight Instrument I...           educational                               CFII Loan    324xx         FL           12.20          0.0       03/01/1987             0.0                    49.0                     NaN      16.0      0.0        444         2.5       54.0                   f                         0.0                            2         PC1\n",
       "25       0          University of New Hampshire         10           RENT     47480.0              not verified          n    Borrower added on 02/21/10 > This loan wil be used to payoff a fairly high interest personal l...                 other              Paying off a personal loan    038xx         NH           16.81          0.0       01/01/1999             3.0                    32.0                     NaN      10.0      0.0        150         3.1       24.0                   f                         0.0                            3         PC1\n",
       "26       0                     northrop grumman          8       MORTGAGE     33600.0         VERIFIED - income          n                                                                                                  NaN        major purchase             personal loan for machinery    236xx         VA            3.93          0.0       02/01/2000             1.0                    67.0                     NaN       5.0      0.0       8482        73.8       20.0                   f                         0.0                            2         PC1\n",
       "27       0   National Action Financial Services          2       MORTGAGE     42000.0              not verified          n                                                                                                  NaN                 other                                personal    142xx         NY           15.89          0.0       05/01/2000             1.0                     NaN                     NaN      10.0      0.0      20691        51.6       20.0                   f                         0.0                            2         PC5\n",
       "28       0                 Holyoke Credit Union          5       MORTGAGE     40000.0              not verified          n    Borrower added on 06/08/11 > This debt consolidation loan will be used to pay down a high inte...    debt consolidation                      Debt Consolidation    010xx         MA           10.71          0.0       07/01/2005             0.0                     NaN                     NaN      11.0      0.0       2459        44.7       26.0                   f                         0.0                            2         PC2\n",
       "29       0       Innovative Technology Holdings          3       MORTGAGE     55000.0              not verified          n  I am requesting a loan to consolidate some of my higher intrest rate credit cards.  I use these ...           credit card             A little Debt Consolidation    614xx         IL           24.94          0.0       04/01/1994             8.0                     NaN                     NaN      16.0      0.0      41705        95.2       24.0                   f                         0.0                            3         PC2\n",
       "30       0                      Edmunds.com Inc          4           RENT    120000.0              not verified          n                              Saw this wonderful motorcycle and would be nice to able to purchase it.                 other                         Motorcycle Loan    918xx         CA            0.00          0.0       07/01/1995             0.0                    48.0                     NaN       2.0      0.0          0         0.0        7.0                   f                         0.0                            3         PC2\n",
       "31       0                       iCrossing Inc.          1       MORTGAGE    100000.0         VERIFIED - income          n    Borrower added on 07/01/11 > I am hoping to use this loan to consolidate two credit cards into...    debt consolidation                 Debt Consolidation Loan    200xx         DC           19.99          0.0       10/01/2001             1.0                    58.0                     NaN       6.0      0.0      24678        79.0       22.0                   f                         0.0                            2         PC5\n",
       "32       0                    US Postal Service          3       MORTGAGE     48000.0         VERIFIED - income          n    Borrower added on 01/10/11 > I will be using this money to help me consolidate my current debt...    debt consolidation                      Debt Consolidation    287xx         NC           22.59          0.0       06/01/1997             2.0                    52.0                     NaN      10.0      0.0       2894        36.2       13.0                   f                         0.0                            2         PC3\n",
       "33       0                Sasquatch Advertising          5           RENT     41000.0              not verified          n    Borrower added on 08/09/11 > I am a very responsible and have a steady job at the same company...    debt consolidation               Credit Card Consolidation    972xx         OR           20.69          0.0       10/01/2000             0.0                    39.0                     NaN       6.0      0.0      10949        61.9       12.0                   f                         0.0                            3         PC4\n",
       "34       0       Millen United Methodist Church          1           RENT      8000.0  VERIFIED - income source          n   I need a loan to finance a new vehicle. I have always done well with paying my bills on time an...                   car                         Automobile Loan    304xx         GA           15.15          0.0       08/01/2003             0.0                     NaN                     NaN       6.0      0.0       2146        20.2       16.0                   f                         0.0                            1         PC1\n",
       "35       0            Graham Packagaing Company         10       MORTGAGE     80000.0         VERIFIED - income          n  I pay my bills on time each month, but the balance doesn't seem to be going down. I want a set d...    debt consolidation           Getting ready for retirement!    660xx         KS            8.14          0.0       02/01/1996             0.0                     NaN                     NaN      10.0      0.0      14563        68.1       23.0                   f                         0.0                            2         PC4\n",
       "36       0              Headstrong Services LLC          2           RENT     95000.0         VERIFIED - income          n                                                                                                  NaN           credit card                      Debt Consolidation    232xx         VA           13.65          0.0       10/01/2004             0.0                     NaN                     NaN       8.0      0.0      27686        54.3       26.0                   f                         0.0                            1         PC3\n",
       "37       0                       Citi Financial          4           RENT     60000.0         VERIFIED - income          n    Borrower added on 03/19/10 > This loan is to consolidate my time share loan from a 10 year 16....    debt consolidation              Consolidate Tahiti Village    802xx         CO            9.46          0.0       08/01/1998             0.0                    60.0                     NaN      14.0      0.0       9936        16.7       29.0                   f                         0.0                            2         PC5\n",
       "38       0                   LabCorp of America          2           RENT     42000.0              not verified          n    Borrower added on 09/06/11 > I was offered lower interest rate and apr for a new loan due to m...    debt consolidation            Refinance Debt Consolidation    918xx         CA           12.74          0.0       07/01/2001             3.0                    62.0                     NaN      11.0      0.0        528         9.1       22.0                   f                         0.0                            3         PC4\n",
       "39       0       Neurowave Medical Technologies          3            OWN     36400.0              not verified          n    Borrower added on 04/14/11 > Hello, Im looking to get this loan for Debt Consolidation. I curr...    debt consolidation                      Debt Consolidation    606xx         IL           10.98          0.0       01/01/2004             1.0                     NaN                     NaN       8.0      0.0       6772        72.8       18.0                   f                         0.0                            3         PC4\n",
       "40       0   Arthur J Gallagher Risk Management          1           RENT     65400.0  VERIFIED - income source          n    Borrower added on 01/12/11 > To refinance some high interest credit cards.<br/> Borrower added...           credit card                             Credit Card    932xx         CA           17.71          0.0       02/01/1995             3.0                     NaN                     NaN       8.0      0.0      13041        81.5       36.0                   f                         0.0                            3         PC5\n",
       "41       0                            MediMedia          2           RENT     58000.0              not verified          n    Borrower added on 06/03/10 > Now 5 years removed from grad school, I've paid off 80% of my $50...    debt consolidation       Help me pay off my student loans!    070xx         NJ           13.55          0.0       09/01/2001             3.0                    64.0                     NaN       7.0      0.0       7616        58.1       16.0                   f                         0.0                            3         PC5\n",
       "42       0                            Miele Inc          4           RENT    315600.0  VERIFIED - income source          n    Borrower added on 08/14/11 > This Loan Is to help pay off my debt, which includes credit card ...    debt consolidation                     Debt Consolidation     088xx         NJ            0.98          0.0       02/01/2007             2.0                     NaN                     NaN       6.0      0.0       1555        24.7       10.0                   f                         0.0                            1         PC3\n",
       "43       0                           Indus Corp          2       MORTGAGE     45000.0              not verified          n                                    Borrower added on 11/15/10 > New vinyl windows keep the heat<br/>      home improvement                   Windows keep the heat    210xx         MD            7.79          0.0       08/01/1997             1.0                     NaN                     NaN       9.0      0.0        780         4.1       19.0                   f                         0.0                            2         PC3\n",
       "44       0                 Coyote Point Systems          5           RENT     55000.0              not verified          n                                                                                                  NaN    debt consolidation                                 Karilyn    060xx         CT           22.28          0.0       03/01/2000             2.0                     NaN                     NaN      13.0      0.0      14217        20.2       25.0                   f                         0.0                            2         PC5\n",
       "45       0               Saint Louis University          4       MORTGAGE    141000.0         VERIFIED - income          n                                                                                                  NaN        major purchase                                   Horse    633xx         MO            8.31          0.0       09/01/1992             3.0                     NaN                     NaN      10.0      0.0      55142        45.8       24.0                   f                         0.0                            1         PC1\n",
       "46       0                Grande Ronde Hospital          7       MORTGAGE     72000.0              not verified          n    Borrower added on 11/29/11 > I plan on purchasing a Harley Davidson motorcycle. I have an exce...                   car                             Harley loan    978xx         OR            8.68          0.0       10/01/1995             0.0                     NaN                     NaN      10.0      0.0      18885        66.3       43.0                   f                         0.0                            2         PC5\n",
       "47       0       Sauk Prairie Memorial Hospital          1       MORTGAGE     35000.0  VERIFIED - income source          n  About Me:  I am currently a Labor and Delivery Nurse near Madison, WI.  My husband is the manage...    debt consolidation                     Debit Consolidation    535xx         WI           14.50          0.0       01/01/2000             3.0                     NaN                     NaN      12.0      0.0      17717        67.4       26.0                   f                         0.0                            1         PC4\n",
       "48       0               Tampa Truck Center LLC          3       MORTGAGE     42240.0              not verified          n    Borrower added on 02/28/10 > I would like to pay off a couple of small credit card balances. T...    debt consolidation                 Tired of credit crunch!    335xx         FL           13.35          1.0       01/01/1987             1.0                     4.0                     NaN       5.0      0.0      15974        48.9       16.0                   f                         0.0                            1         PC3\n",
       "49       0                                  KIC         10       MORTGAGE     66000.0              not verified          n                                                                                                  NaN      home improvement                        Home Improvement    857xx         AZ           12.58          0.0       10/01/1996             1.0                     NaN                     NaN      11.0      0.0       5723         8.4       38.0                   f                         0.0                            3         PC4\n",
       "50       0                     Fox News Channel          6           RENT     86496.0  VERIFIED - income source          n    Borrower added on 11/29/11 > This is to consolidate credit card debt into one monthly payment....    debt consolidation                           Consolidation    115xx         NY           14.19          0.0       01/01/2001             0.0                     NaN                     NaN       6.0      0.0      12915        85.0       12.0                   f                         0.0                            1         PC2"
      ]
     },
     "execution_count": 14,
     "metadata": {},
     "output_type": "execute_result"
    }
   ],
   "source": [
    "df.head(50)"
   ]
  },
  {
   "cell_type": "code",
   "execution_count": 15,
   "metadata": {},
   "outputs": [
    {
     "name": "stdout",
     "output_type": "stream",
     "text": [
      "<class 'pandas.core.frame.DataFrame'>\n",
      "Int64Index: 10000 entries, 1 to 10000\n",
      "Data columns (total 27 columns):\n",
      "is_bad                         10000 non-null int64\n",
      "emp_title                      9408 non-null object\n",
      "emp_length                     10000 non-null object\n",
      "home_ownership                 10000 non-null object\n",
      "annual_inc                     9999 non-null float64\n",
      "verification_status            10000 non-null object\n",
      "pymnt_plan                     10000 non-null object\n",
      "Notes                          6833 non-null object\n",
      "purpose_cat                    10000 non-null object\n",
      "purpose                        9996 non-null object\n",
      "zip_code                       10000 non-null object\n",
      "addr_state                     10000 non-null object\n",
      "debt_to_income                 10000 non-null float64\n",
      "delinq_2yrs                    9995 non-null float64\n",
      "earliest_cr_line               9995 non-null object\n",
      "inq_last_6mths                 9995 non-null float64\n",
      "mths_since_last_delinq         3684 non-null float64\n",
      "mths_since_last_record         840 non-null float64\n",
      "open_acc                       9995 non-null float64\n",
      "pub_rec                        9995 non-null float64\n",
      "revol_bal                      10000 non-null int64\n",
      "revol_util                     9974 non-null float64\n",
      "total_acc                      9995 non-null float64\n",
      "initial_list_status            10000 non-null object\n",
      "collections_12_mths_ex_med     9968 non-null float64\n",
      "mths_since_last_major_derog    10000 non-null int64\n",
      "policy_code                    10000 non-null object\n",
      "dtypes: float64(11), int64(3), object(13)\n",
      "memory usage: 2.1+ MB\n"
     ]
    }
   ],
   "source": [
    "df.info()"
   ]
  },
  {
   "cell_type": "code",
   "execution_count": 16,
   "metadata": {},
   "outputs": [
    {
     "data": {
      "text/plain": [
       "0    8705\n",
       "1    1295\n",
       "Name: is_bad, dtype: int64"
      ]
     },
     "execution_count": 16,
     "metadata": {},
     "output_type": "execute_result"
    }
   ],
   "source": [
    "df.is_bad.value_counts(dropna=False)\n",
    "# prevalence of endpoint event is fairly high, that's good. Otherwise for rare event we might need stratified sampling."
   ]
  },
  {
   "cell_type": "code",
   "execution_count": 17,
   "metadata": {},
   "outputs": [
    {
     "data": {
      "text/plain": [
       "NaN                                                                            592\n",
       "US Army                                                                         36\n",
       "Bank of America                                                                 23\n",
       "IBM                                                                             22\n",
       "USAF                                                                            17\n",
       "United States Air Force                                                         16\n",
       "US Navy                                                                         15\n",
       "AT&T                                                                            14\n",
       "Wells Fargo                                                                     14\n",
       "U.S. Army                                                                       14\n",
       "Self Employed                                                                   14\n",
       "Walmart                                                                         13\n",
       "Kaiser Permanente                                                               13\n",
       "US Air Force                                                                    12\n",
       "Accenture                                                                       12\n",
       "Best Buy                                                                        11\n",
       "State of California                                                             11\n",
       "US ARMY                                                                         10\n",
       "Citigroup                                                                       10\n",
       "Self                                                                            10\n",
       "Booz Allen Hamilton                                                             10\n",
       "USPS                                                                             9\n",
       "Verizon                                                                          9\n",
       "UPS                                                                              9\n",
       "Sprint                                                                           9\n",
       "Columbia University                                                              9\n",
       "self                                                                             8\n",
       "Wells Fargo Bank                                                                 8\n",
       "US Bank                                                                          8\n",
       "Verizon Wireless                                                                 8\n",
       "JPMorgan Chase                                                                   8\n",
       "United States Army                                                               8\n",
       "US Postal Service                                                                8\n",
       "Citibank                                                                         8\n",
       "Fidelity Investments                                                             8\n",
       "Target                                                                           8\n",
       "Social Security Administration                                                   8\n",
       "Comcast                                                                          8\n",
       "Northrop Grumman                                                                 8\n",
       "Walgreens                                                                        7\n",
       "United States Postal Service                                                     7\n",
       "PricewaterhouseCoopers                                                           7\n",
       "The Home Depot                                                                   7\n",
       "Home Depot                                                                       7\n",
       "Siemens                                                                          6\n",
       "Fifth Third Bank                                                                 6\n",
       "Department of Homeland Security                                                  6\n",
       "Nordstrom                                                                        6\n",
       "United Airlines                                                                  6\n",
       "US Army Corps of Engineers                                                       6\n",
       "Raytheon                                                                         6\n",
       "JP Morgan Chase                                                                  6\n",
       "BAE Systems                                                                      6\n",
       "Frito Lay                                                                        6\n",
       "Wal-Mart                                                                         6\n",
       "General Dynamics                                                                 6\n",
       "Credit Suisse                                                                    5\n",
       "bank of america                                                                  5\n",
       "Stanford University                                                              5\n",
       "Department of Defense                                                            5\n",
       "Marriott International                                                           5\n",
       "Cisco Systems                                                                    5\n",
       "United Parcel Service                                                            5\n",
       "Lockheed Martin                                                                  5\n",
       "Goldman Sachs                                                                    5\n",
       "URS                                                                              5\n",
       "American Airlines                                                                5\n",
       "us army                                                                          5\n",
       "General Motors                                                                   5\n",
       "U.S. Air Force                                                                   5\n",
       "Lockheed Martin Corp.                                                            5\n",
       "Bank Of America                                                                  5\n",
       "TIAA-CREF                                                                        5\n",
       "NYC Department of Education                                                      5\n",
       "United States Marine Corps                                                       5\n",
       "University of Florida                                                            4\n",
       "University of Minnesota                                                          4\n",
       "wells fargo                                                                      4\n",
       "Hewlett Packard                                                                  4\n",
       "Verizon Communications                                                           4\n",
       "walmart                                                                          4\n",
       "Edward Jones                                                                     4\n",
       "Department of Veterans Affairs                                                   4\n",
       "Progressive Insurance                                                            4\n",
       "Southwest Airlines                                                               4\n",
       "Travelers Insurance                                                              4\n",
       "State of Connecticut                                                             4\n",
       "ADP                                                                              4\n",
       "State of Texas                                                                   4\n",
       "Federal Aviation Administration                                                  4\n",
       "New York Life Insurance                                                          4\n",
       "USMC                                                                             4\n",
       "KPMG LLP                                                                         4\n",
       "Union Pacific Railroad                                                           4\n",
       "Macy's                                                                           4\n",
       "NYPD                                                                             4\n",
       "American Express                                                                 4\n",
       "usps                                                                             4\n",
       "General Electric                                                                 4\n",
       "PwC                                                                              4\n",
       "Morgan Stanley                                                                   4\n",
       "Army                                                                             4\n",
       "Citi                                                                             4\n",
       "Schneider Electric                                                               4\n",
       "Tech Data Corporation                                                            4\n",
       "US Government                                                                    4\n",
       "Los Angeles Unified School District                                              4\n",
       "Department of Justice                                                            4\n",
       "Network Interpreting Service                                                     4\n",
       "UPMC                                                                             4\n",
       "The Boeing Company                                                               4\n",
       "Rochester Institute of Technology                                                4\n",
       "Costco                                                                           4\n",
       "U.S. Navy                                                                        4\n",
       "Internal Revenue Service                                                         4\n",
       "Northwestern Mutual                                                              4\n",
       "Deutsche Bank                                                                    4\n",
       "Cornell University                                                               4\n",
       "Dept of Homeland Security                                                        4\n",
       "Subway                                                                           3\n",
       "University of Miami                                                              3\n",
       "verizon wireless                                                                 3\n",
       "Military                                                                         3\n",
       "Houston ISD                                                                      3\n",
       "Sears                                                                            3\n",
       "Commonwealth of Pennsylvania                                                     3\n",
       "Jacobs Engineering                                                               3\n",
       "Compass Group                                                                    3\n",
       "Cigna                                                                            3\n",
       "State of Illinois                                                                3\n",
       "Target Corporation                                                               3\n",
       "Bank of the West                                                                 3\n",
       "Cargill                                                                          3\n",
       "U.S. Coast Guard                                                                 3\n",
       "nypd                                                                             3\n",
       "Sodexo                                                                           3\n",
       "Pricewaterhouse Coopers                                                          3\n",
       "New York Presbyterian Hospital                                                   3\n",
       "home depot                                                                       3\n",
       "BNSF Railway                                                                     3\n",
       "Gap Inc                                                                          3\n",
       "The Ohio State University Medical Center                                         3\n",
       "Deloitte                                                                         3\n",
       "the home depot                                                                   3\n",
       "Walgreen                                                                         3\n",
       "T-Mobile USA                                                                     3\n",
       "Memorial Sloan-Kettering Cancer Center                                           3\n",
       "PricewaterhouseCoopers LLP                                                       3\n",
       "New York City Police Department                                                  3\n",
       "ING                                                                              3\n",
       "Silicon Valley Bank                                                              3\n",
       "Starbucks                                                                        3\n",
       "University of Chicago                                                            3\n",
       "SRA International                                                                3\n",
       "BBVA Compass                                                                     3\n",
       "verizon                                                                          3\n",
       "Rite Aid                                                                         3\n",
       "TSA                                                                              3\n",
       "Bechtel                                                                          3\n",
       "Williams Lea                                                                     3\n",
       "UCLA                                                                             3\n",
       "Wachovia Corp.                                                                   3\n",
       "VERIZON WIRELESS                                                                 3\n",
       "Navy                                                                             3\n",
       "Mayo Clinic                                                                      3\n",
       "Orange County Public Schools                                                     3\n",
       "Medco Health Solutions                                                           3\n",
       "wells fargo bank                                                                 3\n",
       "Sears Holdings                                                                   3\n",
       "Clark County School District                                                     3\n",
       "Harvard University                                                               3\n",
       "Self-Employed                                                                    3\n",
       "ups                                                                              3\n",
       "Fedex Express                                                                    3\n",
       "FAA                                                                              3\n",
       "ATK                                                                              3\n",
       "Cablevision                                                                      3\n",
       "Microsoft                                                                        3\n",
       "WalMart                                                                          3\n",
       "CVS Pharmacy                                                                     3\n",
       "Halliburton                                                                      3\n",
       "ATT                                                                              3\n",
       "Florida Highway Patrol                                                           3\n",
       "jp morgan chase                                                                  3\n",
       "SAIC                                                                             3\n",
       "Air Force                                                                        3\n",
       "Federal Bureau of Prisons                                                        3\n",
       "Merrill Lynch                                                                    3\n",
       "Geico                                                                            3\n",
       "Wells Fargo Home Mortgage                                                        3\n",
       "County of San Diego                                                              3\n",
       "MetLife                                                                          3\n",
       "Chase Bank                                                                       3\n",
       "td bank                                                                          2\n",
       "Frisco Independent School District                                               2\n",
       "Customs and Border Protection                                                    2\n",
       "Wells Fargo Advisors                                                             2\n",
       "Retired                                                                          2\n",
       "National Board of Trial Advocacy                                                 2\n",
       "TD Bank                                                                          2\n",
       "Charter Communications                                                           2\n",
       "US Security Associates                                                           2\n",
       "Post Office                                                                      2\n",
       "Citizens Bank                                                                    2\n",
       "Teleperformance USA                                                              2\n",
       "Hyatt                                                                            2\n",
       "Honeywell                                                                        2\n",
       "Carrington College                                                               2\n",
       "ccc transportation                                                               2\n",
       "Securitas                                                                        2\n",
       "tire kingdom                                                                     2\n",
       "AVX Corporation                                                                  2\n",
       "US POSTAL SERVICE                                                                2\n",
       "Precision Concrete, Inc.                                                         2\n",
       "Shands Healthcare                                                                2\n",
       "Nationwide Insurance                                                             2\n",
       "Federal Aviation Administration (FAA)                                            2\n",
       "Merck                                                                            2\n",
       "BNY Mellon                                                                       2\n",
       "VA Hospital                                                                      2\n",
       "Chicago Public Schools                                                           2\n",
       "First Financial Bank                                                             2\n",
       "L&L Parts & Repairs                                                              2\n",
       "City of San Francisco                                                            2\n",
       "State of Florida                                                                 2\n",
       "U S Postal Service                                                               2\n",
       "URS Corporation                                                                  2\n",
       "Spectrum Health                                                                  2\n",
       "Milliken & Company                                                               2\n",
       "UPS Freight                                                                      2\n",
       "Deloitte Tax LLP                                                                 2\n",
       "Township of North Bergen                                                         2\n",
       "Mount Sinai Hospital                                                             2\n",
       "GAP                                                                              2\n",
       "Carey International                                                              2\n",
       "US Navy                                                                          2\n",
       "Federal Government                                                               2\n",
       "Yale University                                                                  2\n",
       "Whitechapel Gallery                                                              2\n",
       "University of Washington                                                         2\n",
       "Best Buy Co. Inc.                                                                2\n",
       "Greenville Hospital System                                                       2\n",
       "PetSmart                                                                         2\n",
       "CH2M Hill                                                                        2\n",
       "New York Life Insurance Company                                                  2\n",
       "ITT Technical Institute                                                          2\n",
       "macys                                                                            2\n",
       "Gn Resound                                                                       2\n",
       "ford motor co                                                                    2\n",
       "Mcdonalds                                                                        2\n",
       "                                                                              ... \n",
       "Los Angeles County                                                               1\n",
       "Morton Arb                                                                       1\n",
       "U.S. Department of Treasury                                                      1\n",
       "NIEHS, NIH                                                                       1\n",
       "Georgia Institue of Technology                                                   1\n",
       "Holyoke Credit Union                                                             1\n",
       "U.S.P.S                                                                          1\n",
       "SimCom                                                                           1\n",
       "LITTLE JAPAN                                                                     1\n",
       "department of treasury                                                           1\n",
       "GF55 Architects                                                                  1\n",
       "Blade Technologies                                                               1\n",
       "New York State                                                                   1\n",
       "aspen square management                                                          1\n",
       "Nissan                                                                           1\n",
       "Pekin Hospital                                                                   1\n",
       "Tom King                                                                         1\n",
       "QinetiQ, North America                                                           1\n",
       "windsor staffing                                                                 1\n",
       "chevron                                                                          1\n",
       "VRMA                                                                             1\n",
       "Bloomsburg Hospital                                                              1\n",
       "Pacific Honda                                                                    1\n",
       "lahey clinic                                                                     1\n",
       "SSPS/State of Washington                                                         1\n",
       "Deutsche Boerse                                                                  1\n",
       "WILL-BURT                                                                        1\n",
       "Autonation                                                                       1\n",
       "ISAC                                                                             1\n",
       "American Home Bank                                                               1\n",
       "Exova Inc.                                                                       1\n",
       "UTHSC                                                                            1\n",
       "NW Engineers                                                                     1\n",
       "Us Dept of Homeland Security                                                     1\n",
       "City of Southlake                                                                1\n",
       "Cincinnati PC Solutions                                                          1\n",
       "Brawley Insurance Services                                                       1\n",
       "Macado's Restaurants, Inc                                                        1\n",
       "Philadelphia Federal Credit Union                                                1\n",
       "u.s. security assoiciates inc                                                    1\n",
       "Jpmorgan Chase                                                                   1\n",
       "Gleason Works                                                                    1\n",
       "Planview Inc                                                                     1\n",
       "International Paper                                                              1\n",
       "rac mechanical                                                                   1\n",
       "Iron Mountain Information Management                                             1\n",
       "Intuit                                                                           1\n",
       "Moody's Investors Service                                                        1\n",
       "Tegron                                                                           1\n",
       "CHARTIS-Broker Services                                                          1\n",
       "Great Hearts Academies                                                           1\n",
       "TCBY                                                                             1\n",
       "petitto mine equipment                                                           1\n",
       "AIU Holdings                                                                     1\n",
       "AAVMC                                                                            1\n",
       "Belly up                                                                         1\n",
       "McKinsey  and  Company                                                           1\n",
       "Fairfield Residential Company LLC                                                1\n",
       "Dynamic / NDL                                                                    1\n",
       "Orbital Sciences Corporation                                                     1\n",
       "Mosser Hotel                                                                     1\n",
       "Black Diamond Performance Reporting                                              1\n",
       "Schechner Lifson Corp                                                            1\n",
       "Premiere Response                                                                1\n",
       "Republic Airways Holdings                                                        1\n",
       "MI Windows and Doors                                                             1\n",
       "Lake. Co schools                                                                 1\n",
       "Citizen Relations                                                                1\n",
       "Mueller & Partin                                                                 1\n",
       "route relievers/bimbo bakeries                                                   1\n",
       "Italian Ministry of Foreign Affairs                                              1\n",
       "Rivetal                                                                          1\n",
       "Osprey Packs                                                                     1\n",
       "Orangeburg Consolidated District 3                                               1\n",
       "Ear Level Communication                                                          1\n",
       "bren-tronics                                                                     1\n",
       "Varian Medical Systems                                                           1\n",
       "tw telecom                                                                       1\n",
       "NYS Department of Labor                                                          1\n",
       "Waste Services Inc                                                               1\n",
       "Seminole High School                                                             1\n",
       "Cell Nation of Grameen Woodside Inc.                                             1\n",
       "AWI                                                                              1\n",
       "hap inc                                                                          1\n",
       "University of Virginia                                                           1\n",
       "NYC Veterinary Specialists                                                       1\n",
       "Martenson Enterprises                                                            1\n",
       "KPInterface, Inc.                                                                1\n",
       "UCSF Medical Center                                                              1\n",
       "beer capitol                                                                     1\n",
       "Westlake Woods Assisted Living                                                   1\n",
       "United Health Group Inc.                                                         1\n",
       "West Manatee Fire Rescue                                                         1\n",
       "Global Mortgage                                                                  1\n",
       "Central School District 301                                                      1\n",
       "Syzygy 3, Inc.                                                                   1\n",
       "Public Storage                                                                   1\n",
       "Arthrex                                                                          1\n",
       "Unifoil                                                                          1\n",
       "Providence Health and Services                                                   1\n",
       "Bender Helper Impact                                                             1\n",
       "Amphastar Pharmaceuticals, Inc                                                   1\n",
       "Sears Holding                                                                    1\n",
       "crump ins srvs                                                                   1\n",
       "Germfree Laboratories, Inc.                                                      1\n",
       "Federal Reserve System                                                           1\n",
       "Fusion Consulting Group                                                          1\n",
       "St. Johns Regional Hospital                                                      1\n",
       "LOCKHEED MARTIN                                                                  1\n",
       "Telstra Inc.                                                                     1\n",
       "Abt Associates Inc.                                                              1\n",
       "Morningstar                                                                      1\n",
       "Corporate Executive Board                                                        1\n",
       "Accurate Steel Erectors Inc.                                                     1\n",
       "RSI BUILDING PRODUCTS                                                            1\n",
       "professional wireline rentals                                                    1\n",
       "celebrate the children school for children with alternative learning styles      1\n",
       "MJJ Brilliant                                                                    1\n",
       "Timmons Group                                                                    1\n",
       "Cameron, Murphy & Spangler                                                       1\n",
       "glenwood foreign car                                                             1\n",
       "FORD CREDIT                                                                      1\n",
       "Adobe                                                                            1\n",
       "ARPC                                                                             1\n",
       "Clay County Medical Center                                                       1\n",
       "First Transit                                                                    1\n",
       "Marshfield Clinic                                                                1\n",
       "ABM                                                                              1\n",
       "bryant and straton college                                                       1\n",
       "Duke Energy                                                                      1\n",
       "meadwestvaco                                                                     1\n",
       "Logan County Schools                                                             1\n",
       "US Post Office                                                                   1\n",
       "Rocky Mountain Connections                                                       1\n",
       "Injured Workers Pharmacy                                                         1\n",
       "Independence School District                                                     1\n",
       "Innovative Computer Systems                                                      1\n",
       "NYP Holdings INC                                                                 1\n",
       "stericycle                                                                       1\n",
       "Codeminders                                                                      1\n",
       "Harding University                                                               1\n",
       "Telos Corporation                                                                1\n",
       "CHENEY BROTHERS                                                                  1\n",
       "Knight Industrial Supply, Inc.                                                   1\n",
       "Maroone Toyota                                                                   1\n",
       "Hill Country Community Clinic                                                    1\n",
       "Autoliv Night Vision                                                             1\n",
       "Hope Lake Lodge                                                                  1\n",
       "19th Circuit State Attorney's Office                                             1\n",
       "Bank of New Orleans                                                              1\n",
       "Harbor-UCLA Medical Center                                                       1\n",
       "SSD                                                                              1\n",
       "DEFENSE LANGUAGE INSTITUTE                                                       1\n",
       "Headsets.com                                                                     1\n",
       "ihss                                                                             1\n",
       "CSX Transportation                                                               1\n",
       "Baystate Medical Center                                                          1\n",
       "cleveland plain dealer                                                           1\n",
       "battaglia dist                                                                   1\n",
       "B & S Electrical Supply                                                          1\n",
       "Nikken Inc                                                                       1\n",
       "Nomura Securities                                                                1\n",
       "Nautilus Healthcare Management Group                                             1\n",
       "Kazork                                                                           1\n",
       "Child Care Careers                                                               1\n",
       "Kaiser Permanentee                                                               1\n",
       "Eyesfirst Vision Center                                                          1\n",
       "Acento Advertising                                                               1\n",
       "macerich                                                                         1\n",
       "Marion county fire rescue                                                        1\n",
       "US.  Dept of Labor                                                               1\n",
       "Norfolk Southern Corp.                                                           1\n",
       "sysco foods la                                                                   1\n",
       "piggly wiggly                                                                    1\n",
       "Aramark Sports and Entertainment                                                 1\n",
       "Golds Gym                                                                        1\n",
       "Virginia State Police                                                            1\n",
       "Cornerstone Advisors, Inc.                                                       1\n",
       "Jones Food Mart                                                                  1\n",
       "Washington State Department of Revenue                                           1\n",
       "St. Edward Mercy Medical Center                                                  1\n",
       "aspen waste systems                                                              1\n",
       "Montgomery Public Schools                                                        1\n",
       "Alameda County                                                                   1\n",
       "Tolleson Wealth Management                                                       1\n",
       "Lansingburgh Central School District                                             1\n",
       "SEI Investments, Co                                                              1\n",
       "Sparrow Specialty Hospital                                                       1\n",
       "Overwatch Systems                                                                1\n",
       "Gallup                                                                           1\n",
       "Hunter Industries                                                                1\n",
       "Danfoss                                                                          1\n",
       "Daimler Trucks North America                                                     1\n",
       "American Laser Centers                                                           1\n",
       "Sunset Country Club                                                              1\n",
       "veterans affairs medical center                                                  1\n",
       "Omega Home Care                                                                  1\n",
       "ThinkBold Corporate Communications, LLC                                          1\n",
       "U.S. District Court                                                              1\n",
       "Urban Outfitters                                                                 1\n",
       "M.C.DEAN                                                                         1\n",
       "Georgia Air National Guard                                                       1\n",
       "Pathway Homes Inc                                                                1\n",
       "Charlotte Mecklenburg Schools                                                    1\n",
       "IBC Bank                                                                         1\n",
       "Davis Wright Tremaine LLp                                                        1\n",
       "Triple Threat Performing Arts                                                    1\n",
       "Spartan Stores Inc.                                                              1\n",
       "Caky                                                                             1\n",
       "Select Portfolio Servicing                                                       1\n",
       "Beards Custom Cabinets                                                           1\n",
       "Walla Walla University                                                           1\n",
       "city of rowlett                                                                  1\n",
       "United States Army Reserves                                                      1\n",
       "Arrow International Inc                                                          1\n",
       "Volvo Group NA                                                                   1\n",
       "MHM Services Inc                                                                 1\n",
       "Wellpoint, Inc.                                                                  1\n",
       "Auto Club Of Southern California                                                 1\n",
       "Monster Cable Products                                                           1\n",
       "parsonskellogg                                                                   1\n",
       "bunzl                                                                            1\n",
       "Deyette McCloskey & Assoc                                                        1\n",
       "Williams-Sonoma Inc                                                              1\n",
       "Majestic West Excavation & Development                                           1\n",
       "AppSense Inc.                                                                    1\n",
       "Transamerica                                                                     1\n",
       "STARK COUNTY COMMISSIONERS                                                       1\n",
       "Superior Beverage Group                                                          1\n",
       "faa                                                                              1\n",
       "Bonte                                                                            1\n",
       "Challenger School                                                                1\n",
       "Arthur Middleton Capital Holdings                                                1\n",
       "Diversified Clinical Serivces                                                    1\n",
       "mcmaster-carr                                                                    1\n",
       "My Gym Children's Fitness Center                                                 1\n",
       "pci health training                                                              1\n",
       "U.S. Trust, Bank of America                                                      1\n",
       "Columbia Bank                                                                    1\n",
       "Sonny's BBQ                                                                      1\n",
       "Get Fit , Feel Fine                                                              1\n",
       "Beckman Coulter Inc.                                                             1\n",
       "Brigham  and  Women's Hospital                                                   1\n",
       "VCA pets are people too                                                          1\n",
       "Moberly Medical Clinics                                                          1\n",
       "SOMBRA HOMES, INC                                                                1\n",
       "manatee glens                                                                    1\n",
       "Munchkin, Inc                                                                    1\n",
       "tyco electronics                                                                 1\n",
       "CA Dept of Social Services                                                       1\n",
       "Name: emp_title, Length: 8215, dtype: int64"
      ]
     },
     "execution_count": 17,
     "metadata": {},
     "output_type": "execute_result"
    }
   ],
   "source": [
    "df.emp_title.value_counts(dropna=False)\n",
    "#too many categories, can onehot if needed; \n",
    "#but I doubt if there's much signal from employers (domain expert might think differently), \n",
    "#but rather the signal is from whether the borrower have employer or not ... \n",
    "#so simply create a binary indicator for NaN (assuming NaN here is unemployed - that might be wrong though)"
   ]
  },
  {
   "cell_type": "code",
   "execution_count": 18,
   "metadata": {
    "scrolled": true
   },
   "outputs": [
    {
     "data": {
      "text/plain": [
       "10    2160\n",
       "1     2083\n",
       "2     1183\n",
       "3     1010\n",
       "4      889\n",
       "5      779\n",
       "6      535\n",
       "7      421\n",
       "8      351\n",
       "9      331\n",
       "na     250\n",
       "22       5\n",
       "11       2\n",
       "33       1\n",
       "Name: emp_length, dtype: int64"
      ]
     },
     "execution_count": 18,
     "metadata": {},
     "output_type": "execute_result"
    }
   ],
   "source": [
    "df.emp_length.value_counts(dropna=False)\n",
    "# bin this something like (nan,1,2-3,4-6,7-9,10 and above) and pivot\n",
    "# why there's a spike at 10 years? (and very different from 9 or 11). \n",
    "#I guess after working for 10 years (after college) is about the right time for wedding and home? check their loan purpose next"
   ]
  },
  {
   "cell_type": "code",
   "execution_count": 19,
   "metadata": {
    "scrolled": true
   },
   "outputs": [
    {
     "data": {
      "text/plain": [
       "debt consolidation                   1000\n",
       "credit card                           263\n",
       "home improvement                      233\n",
       "other                                 214\n",
       "major purchase                        102\n",
       "small business                         91\n",
       "car                                    71\n",
       "medical                                42\n",
       "wedding                                33\n",
       "vacation                               25\n",
       "moving                                 19\n",
       "debt consolidation small business      18\n",
       "house                                  14\n",
       "educational                            14\n",
       "renewable energy                        5\n",
       "home improvement small business         4\n",
       "credit card small business              4\n",
       "other small business                    4\n",
       "small business small business           1\n",
       "major purchase small business           1\n",
       "car small business                      1\n",
       "vacation small business                 1\n",
       "Name: purpose_cat, dtype: int64"
      ]
     },
     "execution_count": 19,
     "metadata": {},
     "output_type": "execute_result"
    }
   ],
   "source": [
    "df.purpose_cat[df.emp_length=='10'].value_counts(dropna=False)\n",
    "#ok, the top reasons are not wedding or home\n",
    "#I wonder if this data of employment length is reliable...maybe it's a biased sample "
   ]
  },
  {
   "cell_type": "code",
   "execution_count": 20,
   "metadata": {},
   "outputs": [
    {
     "data": {
      "text/plain": [
       "RENT        4745\n",
       "MORTGAGE    4445\n",
       "OWN          775\n",
       "OTHER         34\n",
       "NONE           1\n",
       "Name: home_ownership, dtype: int64"
      ]
     },
     "execution_count": 20,
     "metadata": {},
     "output_type": "execute_result"
    }
   ],
   "source": [
    "df.home_ownership.value_counts()\n",
    "#pivot, or just get_dummies in this simple case as each row is for one Id.\n",
    "#pivoting multi-level categorical variables would help with the parameter penalty "
   ]
  },
  {
   "cell_type": "code",
   "execution_count": 21,
   "metadata": {},
   "outputs": [
    {
     "data": {
      "text/plain": [
       "count      9999.000000\n",
       "mean      68203.011539\n",
       "std       48590.252757\n",
       "min        2000.000000\n",
       "25%       40000.000000\n",
       "50%       58000.000000\n",
       "75%       82000.000000\n",
       "max      900000.000000\n",
       "Name: annual_inc, dtype: float64"
      ]
     },
     "execution_count": 21,
     "metadata": {},
     "output_type": "execute_result"
    }
   ],
   "source": [
    "df.annual_inc.describe()"
   ]
  },
  {
   "cell_type": "code",
   "execution_count": 22,
   "metadata": {},
   "outputs": [
    {
     "data": {
      "text/plain": [
       "<matplotlib.axes._subplots.AxesSubplot at 0x7fa41d2bb9e8>"
      ]
     },
     "execution_count": 22,
     "metadata": {},
     "output_type": "execute_result"
    },
    {
     "data": {
      "image/png": "[encoded data removed]",
      "text/plain": [
       "<Figure size 360x360 with 1 Axes>"
      ]
     },
     "metadata": {
      "needs_background": "light"
     },
     "output_type": "display_data"
    }
   ],
   "source": [
    "np.log(df.annual_inc+1).hist()\n",
    "#use log dollar for modeling; +1 to avoid log(0)"
   ]
  },
  {
   "cell_type": "code",
   "execution_count": 23,
   "metadata": {},
   "outputs": [
    {
     "data": {
      "text/html": [
       "<div>\n",
       "<style scoped>\n",
       "    .dataframe tbody tr th:only-of-type {\n",
       "        vertical-align: middle;\n",
       "    }\n",
       "\n",
       "    .dataframe tbody tr th {\n",
       "        vertical-align: top;\n",
       "    }\n",
       "\n",
       "    .dataframe thead th {\n",
       "        text-align: right;\n",
       "    }\n",
       "</style>\n",
       "<table border=\"1\" class=\"dataframe\">\n",
       "  <thead>\n",
       "    <tr style=\"text-align: right;\">\n",
       "      <th></th>\n",
       "      <th>is_bad</th>\n",
       "      <th>emp_title</th>\n",
       "      <th>emp_length</th>\n",
       "      <th>home_ownership</th>\n",
       "      <th>annual_inc</th>\n",
       "      <th>verification_status</th>\n",
       "      <th>pymnt_plan</th>\n",
       "      <th>Notes</th>\n",
       "      <th>purpose_cat</th>\n",
       "      <th>purpose</th>\n",
       "      <th>zip_code</th>\n",
       "      <th>addr_state</th>\n",
       "      <th>debt_to_income</th>\n",
       "      <th>delinq_2yrs</th>\n",
       "      <th>earliest_cr_line</th>\n",
       "      <th>inq_last_6mths</th>\n",
       "      <th>mths_since_last_delinq</th>\n",
       "      <th>mths_since_last_record</th>\n",
       "      <th>open_acc</th>\n",
       "      <th>pub_rec</th>\n",
       "      <th>revol_bal</th>\n",
       "      <th>revol_util</th>\n",
       "      <th>total_acc</th>\n",
       "      <th>initial_list_status</th>\n",
       "      <th>collections_12_mths_ex_med</th>\n",
       "      <th>mths_since_last_major_derog</th>\n",
       "      <th>policy_code</th>\n",
       "    </tr>\n",
       "    <tr>\n",
       "      <th>Id</th>\n",
       "      <th></th>\n",
       "      <th></th>\n",
       "      <th></th>\n",
       "      <th></th>\n",
       "      <th></th>\n",
       "      <th></th>\n",
       "      <th></th>\n",
       "      <th></th>\n",
       "      <th></th>\n",
       "      <th></th>\n",
       "      <th></th>\n",
       "      <th></th>\n",
       "      <th></th>\n",
       "      <th></th>\n",
       "      <th></th>\n",
       "      <th></th>\n",
       "      <th></th>\n",
       "      <th></th>\n",
       "      <th></th>\n",
       "      <th></th>\n",
       "      <th></th>\n",
       "      <th></th>\n",
       "      <th></th>\n",
       "      <th></th>\n",
       "      <th></th>\n",
       "      <th></th>\n",
       "      <th></th>\n",
       "    </tr>\n",
       "  </thead>\n",
       "  <tbody>\n",
       "    <tr>\n",
       "      <th>7593</th>\n",
       "      <td>0</td>\n",
       "      <td>NaN</td>\n",
       "      <td>1</td>\n",
       "      <td>NONE</td>\n",
       "      <td>NaN</td>\n",
       "      <td>not verified</td>\n",
       "      <td>n</td>\n",
       "      <td>I am moving to Florida and would like to borrow $6,700 to cover for expenses and security deposit.</td>\n",
       "      <td>other</td>\n",
       "      <td>Moving expenses and security deposit</td>\n",
       "      <td>100xx</td>\n",
       "      <td>NY</td>\n",
       "      <td>1.0</td>\n",
       "      <td>NaN</td>\n",
       "      <td>NaN</td>\n",
       "      <td>NaN</td>\n",
       "      <td>NaN</td>\n",
       "      <td>NaN</td>\n",
       "      <td>NaN</td>\n",
       "      <td>NaN</td>\n",
       "      <td>0</td>\n",
       "      <td>NaN</td>\n",
       "      <td>NaN</td>\n",
       "      <td>f</td>\n",
       "      <td>NaN</td>\n",
       "      <td>2</td>\n",
       "      <td>PC1</td>\n",
       "    </tr>\n",
       "  </tbody>\n",
       "</table>\n",
       "</div>"
      ],
      "text/plain": [
       "      is_bad emp_title emp_length home_ownership  annual_inc verification_status pymnt_plan                                                                                               Notes purpose_cat                               purpose zip_code addr_state  debt_to_income  delinq_2yrs earliest_cr_line  inq_last_6mths  mths_since_last_delinq  mths_since_last_record  open_acc  pub_rec  revol_bal  revol_util  total_acc initial_list_status  collections_12_mths_ex_med  mths_since_last_major_derog policy_code\n",
       "Id                                                                                                                                                                                                                                                                                                                                                                                                                                                                                                                               \n",
       "7593       0       NaN          1           NONE         NaN        not verified          n  I am moving to Florida and would like to borrow $6,700 to cover for expenses and security deposit.       other  Moving expenses and security deposit    100xx         NY             1.0          NaN              NaN             NaN                     NaN                     NaN       NaN      NaN          0         NaN        NaN                   f                         NaN                            2         PC1"
      ]
     },
     "execution_count": 23,
     "metadata": {},
     "output_type": "execute_result"
    }
   ],
   "source": [
    "df[df.annual_inc.isna()]\n",
    "#there is one person has NaN for annual income and employer, along with lots of other fields being NaN\n",
    "#yet is_bad = 0...this data point would favor low debt_to_income (=1)"
   ]
  },
  {
   "cell_type": "code",
   "execution_count": 24,
   "metadata": {},
   "outputs": [
    {
     "data": {
      "text/plain": [
       "not verified                4367\n",
       "VERIFIED - income           3214\n",
       "VERIFIED - income source    2419\n",
       "Name: verification_status, dtype: int64"
      ]
     },
     "execution_count": 24,
     "metadata": {},
     "output_type": "execute_result"
    }
   ],
   "source": [
    "df.verification_status.value_counts(dropna=False)\n",
    "#what's the difference between the two verified values? I think should combine those two"
   ]
  },
  {
   "cell_type": "code",
   "execution_count": 25,
   "metadata": {},
   "outputs": [
    {
     "data": {
      "text/plain": [
       "n    9998\n",
       "y       2\n",
       "Name: pymnt_plan, dtype: int64"
      ]
     },
     "execution_count": 25,
     "metadata": {},
     "output_type": "execute_result"
    }
   ],
   "source": [
    "df.pymnt_plan.value_counts(dropna=False)\n",
    "#"
   ]
  },
  {
   "cell_type": "code",
   "execution_count": 26,
   "metadata": {},
   "outputs": [
    {
     "data": {
      "text/html": [
       "<div>\n",
       "<style scoped>\n",
       "    .dataframe tbody tr th:only-of-type {\n",
       "        vertical-align: middle;\n",
       "    }\n",
       "\n",
       "    .dataframe tbody tr th {\n",
       "        vertical-align: top;\n",
       "    }\n",
       "\n",
       "    .dataframe thead th {\n",
       "        text-align: right;\n",
       "    }\n",
       "</style>\n",
       "<table border=\"1\" class=\"dataframe\">\n",
       "  <thead>\n",
       "    <tr style=\"text-align: right;\">\n",
       "      <th></th>\n",
       "      <th>is_bad</th>\n",
       "      <th>emp_title</th>\n",
       "      <th>emp_length</th>\n",
       "      <th>home_ownership</th>\n",
       "      <th>annual_inc</th>\n",
       "      <th>verification_status</th>\n",
       "      <th>pymnt_plan</th>\n",
       "      <th>Notes</th>\n",
       "      <th>purpose_cat</th>\n",
       "      <th>purpose</th>\n",
       "      <th>zip_code</th>\n",
       "      <th>addr_state</th>\n",
       "      <th>debt_to_income</th>\n",
       "      <th>delinq_2yrs</th>\n",
       "      <th>earliest_cr_line</th>\n",
       "      <th>inq_last_6mths</th>\n",
       "      <th>mths_since_last_delinq</th>\n",
       "      <th>mths_since_last_record</th>\n",
       "      <th>open_acc</th>\n",
       "      <th>pub_rec</th>\n",
       "      <th>revol_bal</th>\n",
       "      <th>revol_util</th>\n",
       "      <th>total_acc</th>\n",
       "      <th>initial_list_status</th>\n",
       "      <th>collections_12_mths_ex_med</th>\n",
       "      <th>mths_since_last_major_derog</th>\n",
       "      <th>policy_code</th>\n",
       "    </tr>\n",
       "    <tr>\n",
       "      <th>Id</th>\n",
       "      <th></th>\n",
       "      <th></th>\n",
       "      <th></th>\n",
       "      <th></th>\n",
       "      <th></th>\n",
       "      <th></th>\n",
       "      <th></th>\n",
       "      <th></th>\n",
       "      <th></th>\n",
       "      <th></th>\n",
       "      <th></th>\n",
       "      <th></th>\n",
       "      <th></th>\n",
       "      <th></th>\n",
       "      <th></th>\n",
       "      <th></th>\n",
       "      <th></th>\n",
       "      <th></th>\n",
       "      <th></th>\n",
       "      <th></th>\n",
       "      <th></th>\n",
       "      <th></th>\n",
       "      <th></th>\n",
       "      <th></th>\n",
       "      <th></th>\n",
       "      <th></th>\n",
       "      <th></th>\n",
       "    </tr>\n",
       "  </thead>\n",
       "  <tbody>\n",
       "    <tr>\n",
       "      <th>1222</th>\n",
       "      <td>1</td>\n",
       "      <td>emory adventist</td>\n",
       "      <td>1</td>\n",
       "      <td>RENT</td>\n",
       "      <td>84000.0</td>\n",
       "      <td>VERIFIED - income</td>\n",
       "      <td>y</td>\n",
       "      <td>Borrower added on 09/16/10 &gt; this loan is to help consolidate some business loans. My nursing ...</td>\n",
       "      <td>debt consolidation</td>\n",
       "      <td>inventory</td>\n",
       "      <td>300xx</td>\n",
       "      <td>GA</td>\n",
       "      <td>19.54</td>\n",
       "      <td>0.0</td>\n",
       "      <td>01/01/1992</td>\n",
       "      <td>0.0</td>\n",
       "      <td>NaN</td>\n",
       "      <td>NaN</td>\n",
       "      <td>11.0</td>\n",
       "      <td>0.0</td>\n",
       "      <td>42809</td>\n",
       "      <td>88.1</td>\n",
       "      <td>32.0</td>\n",
       "      <td>f</td>\n",
       "      <td>0.0</td>\n",
       "      <td>2</td>\n",
       "      <td>PC1</td>\n",
       "    </tr>\n",
       "    <tr>\n",
       "      <th>4719</th>\n",
       "      <td>1</td>\n",
       "      <td>Terumo Cardiovascular</td>\n",
       "      <td>2</td>\n",
       "      <td>MORTGAGE</td>\n",
       "      <td>158000.0</td>\n",
       "      <td>VERIFIED - income</td>\n",
       "      <td>y</td>\n",
       "      <td>Borrower added on 10/18/11 &gt; Unfortunately I was laid off from my job sometime ago and was out...</td>\n",
       "      <td>debt consolidation small business</td>\n",
       "      <td>debt consolidation</td>\n",
       "      <td>980xx</td>\n",
       "      <td>WA</td>\n",
       "      <td>16.81</td>\n",
       "      <td>1.0</td>\n",
       "      <td>01/01/1994</td>\n",
       "      <td>0.0</td>\n",
       "      <td>11.0</td>\n",
       "      <td>NaN</td>\n",
       "      <td>10.0</td>\n",
       "      <td>0.0</td>\n",
       "      <td>38283</td>\n",
       "      <td>70.3</td>\n",
       "      <td>27.0</td>\n",
       "      <td>f</td>\n",
       "      <td>0.0</td>\n",
       "      <td>1</td>\n",
       "      <td>PC4</td>\n",
       "    </tr>\n",
       "  </tbody>\n",
       "</table>\n",
       "</div>"
      ],
      "text/plain": [
       "      is_bad              emp_title emp_length home_ownership  annual_inc verification_status pymnt_plan                                                                                                Notes                        purpose_cat             purpose zip_code addr_state  debt_to_income  delinq_2yrs earliest_cr_line  inq_last_6mths  mths_since_last_delinq  mths_since_last_record  open_acc  pub_rec  revol_bal  revol_util  total_acc initial_list_status  collections_12_mths_ex_med  mths_since_last_major_derog policy_code\n",
       "Id                                                                                                                                                                                                                                                                                                                                                                                                                                                                                                                                                  \n",
       "1222       1        emory adventist          1           RENT     84000.0   VERIFIED - income          y    Borrower added on 09/16/10 > this loan is to help consolidate some business loans. My nursing ...                 debt consolidation           inventory    300xx         GA           19.54          0.0       01/01/1992             0.0                     NaN                     NaN      11.0      0.0      42809        88.1       32.0                   f                         0.0                            2         PC1\n",
       "4719       1  Terumo Cardiovascular          2       MORTGAGE    158000.0   VERIFIED - income          y    Borrower added on 10/18/11 > Unfortunately I was laid off from my job sometime ago and was out...  debt consolidation small business  debt consolidation    980xx         WA           16.81          1.0       01/01/1994             0.0                    11.0                     NaN      10.0      0.0      38283        70.3       27.0                   f                         0.0                            1         PC4"
      ]
     },
     "execution_count": 26,
     "metadata": {},
     "output_type": "execute_result"
    }
   ],
   "source": [
    "df[df.pymnt_plan=='y']\n",
    "#is_bad two for two... but probably too few data points to make it in the model"
   ]
  },
  {
   "cell_type": "code",
   "execution_count": 27,
   "metadata": {},
   "outputs": [
    {
     "data": {
      "text/plain": [
       "Id\n",
       "1                                                                                                     NaN\n",
       "2       Borrower added on 04/14/11 > I will be using this loan to pay off expenses accrued in the last...\n",
       "3                                                                                                     NaN\n",
       "4                                                                                                     NaN\n",
       "5                                       I want to consolidate my debt, pay for a vacation and buy a ring.\n",
       "6                                                                                                     NaN\n",
       "7       Borrower added on 05/18/10 > mick credit card consolidation loan - 100% payoff of credit card ...\n",
       "8       Borrower added on 11/29/11 > Loan is for debt consolidation and will be paid timely.  Employed...\n",
       "9                                                                                                     NaN\n",
       "10    This loan would be for a 2006 PT Cruiser with only 300 miles on it. There is still a full warran...\n",
       "Name: Notes, dtype: object"
      ]
     },
     "execution_count": 27,
     "metadata": {},
     "output_type": "execute_result"
    }
   ],
   "source": [
    "df.Notes[:10]"
   ]
  },
  {
   "cell_type": "code",
   "execution_count": 28,
   "metadata": {},
   "outputs": [
    {
     "data": {
      "text/plain": [
       "Id\n",
       "1                                    Medical\n",
       "2                 My Debt Consolidation Loan\n",
       "3                           AP Personal Loan\n",
       "4                    Debt Consolidation Loan\n",
       "5                                consolidate\n",
       "6                                  16-Oct-10\n",
       "7                      mick credit card loan\n",
       "8                                    CC loan\n",
       "9                              Consolidation\n",
       "10    FICO score 762 want's to buy a new car\n",
       "Name: purpose, dtype: object"
      ]
     },
     "execution_count": 28,
     "metadata": {},
     "output_type": "execute_result"
    }
   ],
   "source": [
    "df.purpose[:10]"
   ]
  },
  {
   "cell_type": "code",
   "execution_count": 29,
   "metadata": {},
   "outputs": [
    {
     "data": {
      "text/plain": [
       "Id\n",
       "1                medical\n",
       "2     debt consolidation\n",
       "3            credit card\n",
       "4     debt consolidation\n",
       "5     debt consolidation\n",
       "6                  other\n",
       "7            credit card\n",
       "8     debt consolidation\n",
       "9     debt consolidation\n",
       "10                   car\n",
       "Name: purpose_cat, dtype: object"
      ]
     },
     "execution_count": 29,
     "metadata": {},
     "output_type": "execute_result"
    }
   ],
   "source": [
    "df.purpose_cat[:10]"
   ]
  },
  {
   "cell_type": "code",
   "execution_count": 30,
   "metadata": {
    "scrolled": true
   },
   "outputs": [
    {
     "data": {
      "text/plain": [
       "debt consolidation                   4454\n",
       "credit card                          1273\n",
       "other                                1026\n",
       "home improvement                      800\n",
       "major purchase                        546\n",
       "small business                        461\n",
       "car                                   349\n",
       "wedding                               250\n",
       "medical                               183\n",
       "moving                                159\n",
       "educational                           107\n",
       "debt consolidation small business     102\n",
       "house                                  94\n",
       "vacation                               94\n",
       "renewable energy                       19\n",
       "other small business                   18\n",
       "credit card small business             17\n",
       "small business small business          12\n",
       "home improvement small business        11\n",
       "educational small business              5\n",
       "major purchase small business           5\n",
       "car small business                      3\n",
       "house small business                    3\n",
       "moving small business                   3\n",
       "vacation small business                 2\n",
       "wedding small business                  2\n",
       "medical small business                  2\n",
       "Name: purpose_cat, dtype: int64"
      ]
     },
     "execution_count": 30,
     "metadata": {},
     "output_type": "execute_result"
    }
   ],
   "source": [
    "df.purpose_cat.value_counts()\n",
    "# note > purpose > purpose_cat, the information gets more concise from notes to purpose_cat\n",
    "# There might be some useful signal from extracting Notes and Purpose but I doubt it...\n",
    "# but this is not NLP focused task... so dropping notes and purpose and onehot purpose_cat"
   ]
  },
  {
   "cell_type": "code",
   "execution_count": 31,
   "metadata": {},
   "outputs": [
    {
     "data": {
      "text/plain": [
       "Id\n",
       "1    766xx\n",
       "2    660xx\n",
       "3    916xx\n",
       "4    124xx\n",
       "5    439xx\n",
       "Name: zip_code, dtype: object"
      ]
     },
     "execution_count": 31,
     "metadata": {},
     "output_type": "execute_result"
    }
   ],
   "source": [
    "df.zip_code.head()\n",
    "#there some interesting socio-economic data available online (such as County Health Ranking and Area Deprivation Index) that map to zip.\n",
    "#but that's probably beyond the scope of this task, dropping zip code"
   ]
  },
  {
   "cell_type": "code",
   "execution_count": 32,
   "metadata": {
    "scrolled": true
   },
   "outputs": [
    {
     "data": {
      "text/plain": [
       "CA    1748\n",
       "NY     958\n",
       "FL     714\n",
       "TX     700\n",
       "NJ     482\n",
       "VA     392\n",
       "IL     386\n",
       "PA     378\n",
       "GA     357\n",
       "MA     331\n",
       "OH     292\n",
       "MD     282\n",
       "WA     217\n",
       "AZ     210\n",
       "CT     195\n",
       "NC     194\n",
       "MI     176\n",
       "CO     175\n",
       "MO     167\n",
       "MN     136\n",
       "SC     126\n",
       "WI     124\n",
       "AL     119\n",
       "NV     114\n",
       "OR     109\n",
       "KY     103\n",
       "OK      98\n",
       "LA      97\n",
       "UT      68\n",
       "KS      57\n",
       "DC      54\n",
       "RI      53\n",
       "NH      50\n",
       "AR      48\n",
       "WV      45\n",
       "NM      43\n",
       "DE      35\n",
       "HI      32\n",
       "AK      26\n",
       "MT      25\n",
       "WY      23\n",
       "SD      19\n",
       "VT      18\n",
       "MS       9\n",
       "TN       5\n",
       "NE       3\n",
       "IN       3\n",
       "IA       2\n",
       "ME       1\n",
       "ID       1\n",
       "Name: addr_state, dtype: int64"
      ]
     },
     "execution_count": 32,
     "metadata": {},
     "output_type": "execute_result"
    }
   ],
   "source": [
    "df.addr_state.value_counts(dropna=False)"
   ]
  },
  {
   "cell_type": "code",
   "execution_count": 33,
   "metadata": {
    "scrolled": true
   },
   "outputs": [
    {
     "data": {
      "text/plain": [
       "CA    261\n",
       "FL    112\n",
       "NY    108\n",
       "TX     74\n",
       "NJ     67\n",
       "GA     53\n",
       "VA     49\n",
       "MA     46\n",
       "IL     41\n",
       "PA     35\n",
       "NC     33\n",
       "MD     33\n",
       "OH     30\n",
       "WA     28\n",
       "AZ     28\n",
       "NV     27\n",
       "CT     27\n",
       "MO     26\n",
       "CO     22\n",
       "AL     21\n",
       "MI     20\n",
       "SC     17\n",
       "OK     13\n",
       "WI     12\n",
       "OR     12\n",
       "UT     10\n",
       "KY     10\n",
       "NM     10\n",
       "NH      8\n",
       "LA      8\n",
       "MN      8\n",
       "AK      7\n",
       "WV      5\n",
       "HI      5\n",
       "AR      5\n",
       "RI      5\n",
       "KS      4\n",
       "DC      3\n",
       "DE      3\n",
       "MT      3\n",
       "VT      2\n",
       "NE      1\n",
       "TN      1\n",
       "SD      1\n",
       "MS      1\n",
       "Name: addr_state, dtype: int64"
      ]
     },
     "execution_count": 33,
     "metadata": {},
     "output_type": "execute_result"
    }
   ],
   "source": [
    "df[df.is_bad==1]['addr_state'].value_counts(dropna=False)"
   ]
  },
  {
   "cell_type": "code",
   "execution_count": 34,
   "metadata": {
    "scrolled": true
   },
   "outputs": [
    {
     "data": {
      "text/plain": [
       "AK     3.714286\n",
       "AL     5.666667\n",
       "AR     9.600000\n",
       "AZ     7.500000\n",
       "CA     6.697318\n",
       "CO     7.954545\n",
       "CT     7.222222\n",
       "DC    18.000000\n",
       "DE    11.666667\n",
       "FL     6.375000\n",
       "GA     6.735849\n",
       "HI     6.400000\n",
       "IA          NaN\n",
       "ID          NaN\n",
       "IL     9.414634\n",
       "IN          NaN\n",
       "KS    14.250000\n",
       "KY    10.300000\n",
       "LA    12.125000\n",
       "MA     7.195652\n",
       "MD     8.545455\n",
       "ME          NaN\n",
       "MI     8.800000\n",
       "MN    17.000000\n",
       "MO     6.423077\n",
       "MS     9.000000\n",
       "MT     8.333333\n",
       "NC     5.878788\n",
       "NE     3.000000\n",
       "NH     6.250000\n",
       "NJ     7.194030\n",
       "NM     4.300000\n",
       "NV     4.222222\n",
       "NY     8.870370\n",
       "OH     9.733333\n",
       "OK     7.538462\n",
       "OR     9.083333\n",
       "PA    10.800000\n",
       "RI    10.600000\n",
       "SC     7.411765\n",
       "SD    19.000000\n",
       "TN     5.000000\n",
       "TX     9.459459\n",
       "UT     6.800000\n",
       "VA     8.000000\n",
       "VT     9.000000\n",
       "WA     7.750000\n",
       "WI    10.333333\n",
       "WV     9.000000\n",
       "WY          NaN\n",
       "Name: addr_state, dtype: float64"
      ]
     },
     "execution_count": 34,
     "metadata": {},
     "output_type": "execute_result"
    }
   ],
   "source": [
    "df.addr_state.value_counts(dropna=False)/df[df.is_bad==1]['addr_state'].value_counts(dropna=False)\n",
    "#I'm afraid the variance in this ratio isn't enough to justify the use of state in model...dropping it.\n",
    "#should avoid geo-discriminating algorithms?"
   ]
  },
  {
   "cell_type": "code",
   "execution_count": 35,
   "metadata": {},
   "outputs": [
    {
     "data": {
      "text/plain": [
       "array([<matplotlib.axes._subplots.AxesSubplot object at 0x7fa41c622d68>,\n",
       "       <matplotlib.axes._subplots.AxesSubplot object at 0x7fa41c5d0198>],\n",
       "      dtype=object)"
      ]
     },
     "execution_count": 35,
     "metadata": {},
     "output_type": "execute_result"
    },
    {
     "data": {
      "image/png": "[encoded data removed]",
      "text/plain": [
       "<Figure size 360x360 with 2 Axes>"
      ]
     },
     "metadata": {
      "needs_background": "light"
     },
     "output_type": "display_data"
    }
   ],
   "source": [
    "df.debt_to_income.hist(by=[df.is_bad])"
   ]
  },
  {
   "cell_type": "code",
   "execution_count": 36,
   "metadata": {},
   "outputs": [
    {
     "data": {
      "text/plain": [
       "is_bad\n",
       "0    13.260886\n",
       "1    13.861799\n",
       "Name: debt_to_income, dtype: float64"
      ]
     },
     "execution_count": 36,
     "metadata": {},
     "output_type": "execute_result"
    }
   ],
   "source": [
    "df.groupby(['is_bad'])['debt_to_income'].mean()"
   ]
  },
  {
   "cell_type": "code",
   "execution_count": 37,
   "metadata": {
    "scrolled": true
   },
   "outputs": [
    {
     "data": {
      "text/plain": [
       "0.0     8910\n",
       "1.0      822\n",
       "2.0      186\n",
       "3.0       50\n",
       "4.0       14\n",
       "5.0        6\n",
       "NaN        5\n",
       "6.0        3\n",
       "7.0        2\n",
       "11.0       1\n",
       "8.0        1\n",
       "Name: delinq_2yrs, dtype: int64"
      ]
     },
     "execution_count": 37,
     "metadata": {},
     "output_type": "execute_result"
    }
   ],
   "source": [
    "df.delinq_2yrs.value_counts(dropna=False)\n",
    "#bin and treat as category,0,1,2 and above\n",
    "#the more the worse obviously"
   ]
  },
  {
   "cell_type": "code",
   "execution_count": 38,
   "metadata": {},
   "outputs": [
    {
     "data": {
      "text/plain": [
       "array([<matplotlib.axes._subplots.AxesSubplot object at 0x7fa41c4f0588>,\n",
       "       <matplotlib.axes._subplots.AxesSubplot object at 0x7fa41c52a588>],\n",
       "      dtype=object)"
      ]
     },
     "execution_count": 38,
     "metadata": {},
     "output_type": "execute_result"
    },
    {
     "data": {
      "image/png": "[encoded data removed]",
      "text/plain": [
       "<Figure size 360x360 with 2 Axes>"
      ]
     },
     "metadata": {
      "needs_background": "light"
     },
     "output_type": "display_data"
    }
   ],
   "source": [
    "df.delinq_2yrs.hist(by=[df.is_bad])"
   ]
  },
  {
   "cell_type": "code",
   "execution_count": 39,
   "metadata": {},
   "outputs": [
    {
     "data": {
      "text/plain": [
       "is_bad\n",
       "0    0.143908\n",
       "1    0.176834\n",
       "Name: delinq_2yrs, dtype: float64"
      ]
     },
     "execution_count": 39,
     "metadata": {},
     "output_type": "execute_result"
    }
   ],
   "source": [
    "df.groupby(['is_bad'])['delinq_2yrs'].mean()"
   ]
  },
  {
   "cell_type": "code",
   "execution_count": 40,
   "metadata": {
    "scrolled": true
   },
   "outputs": [
    {
     "data": {
      "text/plain": [
       "Id\n",
       "1     12/01/1992\n",
       "2     11/01/2005\n",
       "3     06/01/1970\n",
       "4     09/01/1982\n",
       "5     10/01/1999\n",
       "6     12/01/1999\n",
       "7     11/01/1979\n",
       "8     04/01/2006\n",
       "9     02/01/2001\n",
       "10    05/01/1995\n",
       "11    12/01/1990\n",
       "12    06/01/1993\n",
       "13    04/01/1996\n",
       "14    10/01/1996\n",
       "15    10/01/1999\n",
       "16    01/01/1993\n",
       "17    09/01/1993\n",
       "18    01/01/2003\n",
       "19    11/01/1999\n",
       "20    12/01/1996\n",
       "Name: earliest_cr_line, dtype: object"
      ]
     },
     "execution_count": 40,
     "metadata": {},
     "output_type": "execute_result"
    }
   ],
   "source": [
    "df.earliest_cr_line[:20]\n",
    "#create a feature being length of credit history, only year needed"
   ]
  },
  {
   "cell_type": "code",
   "execution_count": 41,
   "metadata": {},
   "outputs": [],
   "source": [
    "#df['earliest_cr_line_date'] = pd.to_datetime(df.earliest_cr_line,format='%m/%d/%Y',errors='coerce')"
   ]
  },
  {
   "cell_type": "code",
   "execution_count": 42,
   "metadata": {
    "scrolled": true
   },
   "outputs": [],
   "source": [
    "#df.earliest_cr_line_date[:10]"
   ]
  },
  {
   "cell_type": "code",
   "execution_count": 43,
   "metadata": {},
   "outputs": [
    {
     "data": {
      "text/plain": [
       "1996"
      ]
     },
     "execution_count": 43,
     "metadata": {},
     "output_type": "execute_result"
    }
   ],
   "source": [
    "int('12/01/1996'[-4:])"
   ]
  },
  {
   "cell_type": "code",
   "execution_count": 44,
   "metadata": {},
   "outputs": [],
   "source": [
    "df['earliest_cr_year'] = df.earliest_cr_line.apply(lambda x: float(x[-4:]) if pd.notnull(x) else np.nan)"
   ]
  },
  {
   "cell_type": "code",
   "execution_count": 45,
   "metadata": {},
   "outputs": [
    {
     "data": {
      "text/plain": [
       "2008.0"
      ]
     },
     "execution_count": 45,
     "metadata": {},
     "output_type": "execute_result"
    },
    {
     "data": {
      "text/plain": [
       "1950.0"
      ]
     },
     "execution_count": 45,
     "metadata": {},
     "output_type": "execute_result"
    }
   ],
   "source": [
    "df['earliest_cr_year'].max()\n",
    "df['earliest_cr_year'].min()"
   ]
  },
  {
   "cell_type": "code",
   "execution_count": 46,
   "metadata": {
    "scrolled": true
   },
   "outputs": [
    {
     "data": {
      "text/plain": [
       "2000.0    839\n",
       "1998.0    748\n",
       "1999.0    715\n",
       "2001.0    642\n",
       "1997.0    601\n",
       "1996.0    592\n",
       "1995.0    518\n",
       "1994.0    513\n",
       "2002.0    503\n",
       "2003.0    455\n",
       "2004.0    439\n",
       "2005.0    401\n",
       "1993.0    383\n",
       "2006.0    323\n",
       "1991.0    257\n",
       "1990.0    255\n",
       "1992.0    254\n",
       "1989.0    208\n",
       "2007.0    180\n",
       "1987.0    176\n",
       "1988.0    159\n",
       "1986.0    116\n",
       "1984.0    112\n",
       "1985.0     92\n",
       "1983.0     74\n",
       "1982.0     65\n",
       "1979.0     43\n",
       "1978.0     40\n",
       "1980.0     39\n",
       "1981.0     38\n",
       "2008.0     34\n",
       "1976.0     31\n",
       "1977.0     28\n",
       "1973.0     18\n",
       "1975.0     17\n",
       "1970.0     14\n",
       "1974.0     14\n",
       "1972.0     13\n",
       "1971.0     11\n",
       "1969.0      9\n",
       "1968.0      7\n",
       "1967.0      6\n",
       "NaN         5\n",
       "1963.0      2\n",
       "1965.0      2\n",
       "1964.0      2\n",
       "1966.0      2\n",
       "1962.0      2\n",
       "1956.0      1\n",
       "1950.0      1\n",
       "1959.0      1\n",
       "Name: earliest_cr_year, dtype: int64"
      ]
     },
     "execution_count": 46,
     "metadata": {},
     "output_type": "execute_result"
    }
   ],
   "source": [
    "df.earliest_cr_year.value_counts(dropna=False)"
   ]
  },
  {
   "cell_type": "code",
   "execution_count": 47,
   "metadata": {},
   "outputs": [],
   "source": [
    "df['cr_line_history_yr'] = df['earliest_cr_year'].max() - df['earliest_cr_year']"
   ]
  },
  {
   "cell_type": "code",
   "execution_count": 48,
   "metadata": {
    "scrolled": true
   },
   "outputs": [
    {
     "data": {
      "text/plain": [
       "(5, 29)"
      ]
     },
     "execution_count": 48,
     "metadata": {},
     "output_type": "execute_result"
    }
   ],
   "source": [
    "df[df.cr_line_history_yr.isnull()].shape\n",
    "#few nan, can consider imputation...but imputation is generally a bad idea"
   ]
  },
  {
   "cell_type": "code",
   "execution_count": 49,
   "metadata": {},
   "outputs": [
    {
     "data": {
      "text/plain": [
       "<matplotlib.axes._subplots.AxesSubplot at 0x7fa41c4a8470>"
      ]
     },
     "execution_count": 49,
     "metadata": {},
     "output_type": "execute_result"
    },
    {
     "data": {
      "image/png": "[encoded data removed]",
      "text/plain": [
       "<Figure size 360x360 with 1 Axes>"
      ]
     },
     "metadata": {
      "needs_background": "light"
     },
     "output_type": "display_data"
    }
   ],
   "source": [
    "df.cr_line_history_yr.hist()"
   ]
  },
  {
   "cell_type": "code",
   "execution_count": 50,
   "metadata": {},
   "outputs": [
    {
     "data": {
      "text/plain": [
       "is_bad\n",
       "0    11.383908\n",
       "1    11.009266\n",
       "Name: cr_line_history_yr, dtype: float64"
      ]
     },
     "execution_count": 50,
     "metadata": {},
     "output_type": "execute_result"
    }
   ],
   "source": [
    "df.groupby(['is_bad'])['cr_line_history_yr'].mean()"
   ]
  },
  {
   "cell_type": "code",
   "execution_count": 51,
   "metadata": {},
   "outputs": [
    {
     "data": {
      "text/plain": [
       "array([<matplotlib.axes._subplots.AxesSubplot object at 0x7fa41c3daef0>,\n",
       "       <matplotlib.axes._subplots.AxesSubplot object at 0x7fa41c3934a8>],\n",
       "      dtype=object)"
      ]
     },
     "execution_count": 51,
     "metadata": {},
     "output_type": "execute_result"
    },
    {
     "data": {
      "image/png": "[encoded data removed]",
      "text/plain": [
       "<Figure size 360x360 with 2 Axes>"
      ]
     },
     "metadata": {
      "needs_background": "light"
     },
     "output_type": "display_data"
    }
   ],
   "source": [
    "df.cr_line_history_yr.hist(by=[df.is_bad])\n",
    "#binning is the way to go it seems"
   ]
  },
  {
   "cell_type": "code",
   "execution_count": 52,
   "metadata": {
    "scrolled": true
   },
   "outputs": [
    {
     "data": {
      "text/plain": [
       "<matplotlib.axes._subplots.AxesSubplot at 0x7fa41c2c4e80>"
      ]
     },
     "execution_count": 52,
     "metadata": {},
     "output_type": "execute_result"
    },
    {
     "data": {
      "text/plain": [
       "0.0     4602\n",
       "1.0     2684\n",
       "2.0     1431\n",
       "3.0      731\n",
       "4.0      227\n",
       "5.0      152\n",
       "6.0       76\n",
       "7.0       42\n",
       "8.0       27\n",
       "9.0       10\n",
       "NaN        5\n",
       "10.0       2\n",
       "11.0       2\n",
       "18.0       2\n",
       "16.0       1\n",
       "24.0       1\n",
       "14.0       1\n",
       "12.0       1\n",
       "25.0       1\n",
       "17.0       1\n",
       "15.0       1\n",
       "Name: inq_last_6mths, dtype: int64"
      ]
     },
     "execution_count": 52,
     "metadata": {},
     "output_type": "execute_result"
    },
    {
     "data": {
      "image/png": "[encoded data removed]",
      "text/plain": [
       "<Figure size 360x360 with 1 Axes>"
      ]
     },
     "metadata": {
      "needs_background": "light"
     },
     "output_type": "display_data"
    }
   ],
   "source": [
    "df.inq_last_6mths.hist()\n",
    "df.inq_last_6mths.value_counts(dropna=False)\n",
    "#bin it"
   ]
  },
  {
   "cell_type": "code",
   "execution_count": 53,
   "metadata": {},
   "outputs": [
    {
     "data": {
      "text/plain": [
       "<matplotlib.axes._subplots.AxesSubplot at 0x7fa41c2a4278>"
      ]
     },
     "execution_count": 53,
     "metadata": {},
     "output_type": "execute_result"
    },
    {
     "data": {
      "image/png": "[encoded data removed]",
      "text/plain": [
       "<Figure size 360x360 with 1 Axes>"
      ]
     },
     "metadata": {
      "needs_background": "light"
     },
     "output_type": "display_data"
    }
   ],
   "source": [
    "df.mths_since_last_delinq.hist()\n",
    "#bin: nan, 0-36, "
   ]
  },
  {
   "cell_type": "code",
   "execution_count": 54,
   "metadata": {
    "scrolled": true
   },
   "outputs": [
    {
     "data": {
      "text/plain": [
       "NaN      6316\n",
       "0.0       163\n",
       "30.0       69\n",
       "34.0       66\n",
       "38.0       65\n",
       "23.0       65\n",
       "44.0       64\n",
       "24.0       64\n",
       "33.0       63\n",
       "20.0       63\n",
       "18.0       61\n",
       "29.0       60\n",
       "17.0       60\n",
       "25.0       59\n",
       "19.0       59\n",
       "46.0       59\n",
       "14.0       58\n",
       "15.0       58\n",
       "13.0       57\n",
       "37.0       56\n",
       "39.0       55\n",
       "41.0       54\n",
       "26.0       54\n",
       "22.0       53\n",
       "16.0       53\n",
       "12.0       52\n",
       "40.0       52\n",
       "35.0       52\n",
       "28.0       52\n",
       "31.0       51\n",
       "27.0       50\n",
       "43.0       49\n",
       "36.0       49\n",
       "8.0        48\n",
       "47.0       48\n",
       "32.0       47\n",
       "21.0       47\n",
       "42.0       47\n",
       "48.0       46\n",
       "45.0       46\n",
       "6.0        45\n",
       "7.0        45\n",
       "58.0       43\n",
       "55.0       42\n",
       "53.0       42\n",
       "10.0       42\n",
       "11.0       42\n",
       "49.0       41\n",
       "3.0        40\n",
       "71.0       40\n",
       "62.0       39\n",
       "61.0       39\n",
       "60.0       37\n",
       "4.0        37\n",
       "59.0       36\n",
       "76.0       36\n",
       "50.0       36\n",
       "73.0       35\n",
       "9.0        34\n",
       "56.0       34\n",
       "70.0       33\n",
       "69.0       32\n",
       "68.0       32\n",
       "72.0       31\n",
       "5.0        31\n",
       "54.0       30\n",
       "66.0       29\n",
       "2.0        29\n",
       "52.0       29\n",
       "79.0       28\n",
       "75.0       28\n",
       "67.0       28\n",
       "57.0       28\n",
       "78.0       27\n",
       "80.0       26\n",
       "65.0       25\n",
       "81.0       24\n",
       "63.0       24\n",
       "51.0       24\n",
       "74.0       23\n",
       "64.0       22\n",
       "82.0       15\n",
       "77.0       12\n",
       "1.0         6\n",
       "83.0        2\n",
       "115.0       1\n",
       "89.0        1\n",
       "120.0       1\n",
       "85.0        1\n",
       "96.0        1\n",
       "97.0        1\n",
       "95.0        1\n",
       "Name: mths_since_last_delinq, dtype: int64"
      ]
     },
     "execution_count": 54,
     "metadata": {},
     "output_type": "execute_result"
    }
   ],
   "source": [
    "df.mths_since_last_delinq.value_counts(dropna=False)"
   ]
  },
  {
   "cell_type": "code",
   "execution_count": 55,
   "metadata": {},
   "outputs": [
    {
     "data": {
      "text/plain": [
       "is_bad\n",
       "0    35.878225\n",
       "1    35.966403\n",
       "Name: mths_since_last_delinq, dtype: float64"
      ]
     },
     "execution_count": 55,
     "metadata": {},
     "output_type": "execute_result"
    },
    {
     "data": {
      "text/plain": [
       "is_bad\n",
       "0    34.0\n",
       "1    34.0\n",
       "Name: mths_since_last_delinq, dtype: float64"
      ]
     },
     "execution_count": 55,
     "metadata": {},
     "output_type": "execute_result"
    }
   ],
   "source": [
    "df.groupby(['is_bad'])['mths_since_last_delinq'].mean()\n",
    "df.groupby(['is_bad'])['mths_since_last_delinq'].median()"
   ]
  },
  {
   "cell_type": "code",
   "execution_count": 56,
   "metadata": {},
   "outputs": [
    {
     "data": {
      "text/plain": [
       "<matplotlib.axes._subplots.AxesSubplot at 0x7fa41c264b70>"
      ]
     },
     "execution_count": 56,
     "metadata": {},
     "output_type": "execute_result"
    },
    {
     "data": {
      "image/png": "[encoded data removed]",
      "text/plain": [
       "<Figure size 360x360 with 1 Axes>"
      ]
     },
     "metadata": {
      "needs_background": "light"
     },
     "output_type": "display_data"
    }
   ],
   "source": [
    "df.mths_since_last_record.hist()"
   ]
  },
  {
   "cell_type": "code",
   "execution_count": 57,
   "metadata": {
    "scrolled": true
   },
   "outputs": [
    {
     "data": {
      "text/plain": [
       "NaN      9160\n",
       "0.0       267\n",
       "89.0       21\n",
       "116.0      18\n",
       "86.0       17\n",
       "87.0       17\n",
       "92.0       17\n",
       "100.0      16\n",
       "114.0      16\n",
       "104.0      16\n",
       "105.0      15\n",
       "106.0      15\n",
       "88.0       15\n",
       "96.0       14\n",
       "95.0       14\n",
       "111.0      13\n",
       "94.0       13\n",
       "101.0      13\n",
       "85.0       13\n",
       "113.0      13\n",
       "109.0      13\n",
       "98.0       12\n",
       "91.0       12\n",
       "99.0       12\n",
       "93.0       11\n",
       "108.0      11\n",
       "118.0      11\n",
       "110.0      10\n",
       "115.0      10\n",
       "117.0      10\n",
       "107.0      10\n",
       "90.0        9\n",
       "112.0       9\n",
       "97.0        9\n",
       "102.0       8\n",
       "103.0       7\n",
       "63.0        7\n",
       "67.0        6\n",
       "45.0        5\n",
       "55.0        5\n",
       "61.0        5\n",
       "38.0        4\n",
       "73.0        4\n",
       "77.0        4\n",
       "76.0        4\n",
       "56.0        4\n",
       "119.0       3\n",
       "65.0        3\n",
       "62.0        3\n",
       "54.0        3\n",
       "43.0        3\n",
       "72.0        3\n",
       "80.0        3\n",
       "26.0        3\n",
       "66.0        3\n",
       "58.0        3\n",
       "82.0        2\n",
       "50.0        2\n",
       "60.0        2\n",
       "40.0        2\n",
       "44.0        2\n",
       "20.0        2\n",
       "27.0        2\n",
       "30.0        2\n",
       "51.0        2\n",
       "49.0        2\n",
       "71.0        2\n",
       "53.0        2\n",
       "70.0        2\n",
       "46.0        2\n",
       "25.0        2\n",
       "39.0        2\n",
       "6.0         1\n",
       "22.0        1\n",
       "29.0        1\n",
       "36.0        1\n",
       "11.0        1\n",
       "28.0        1\n",
       "81.0        1\n",
       "75.0        1\n",
       "48.0        1\n",
       "64.0        1\n",
       "52.0        1\n",
       "31.0        1\n",
       "24.0        1\n",
       "69.0        1\n",
       "59.0        1\n",
       "17.0        1\n",
       "68.0        1\n",
       "57.0        1\n",
       "78.0        1\n",
       "47.0        1\n",
       "74.0        1\n",
       "41.0        1\n",
       "33.0        1\n",
       "Name: mths_since_last_record, dtype: int64"
      ]
     },
     "execution_count": 57,
     "metadata": {},
     "output_type": "execute_result"
    }
   ],
   "source": [
    "df.mths_since_last_record.value_counts(dropna=False)"
   ]
  },
  {
   "cell_type": "code",
   "execution_count": 58,
   "metadata": {},
   "outputs": [
    {
     "data": {
      "text/plain": [
       "is_bad\n",
       "0    59.057183\n",
       "1    76.780488\n",
       "Name: mths_since_last_record, dtype: float64"
      ]
     },
     "execution_count": 58,
     "metadata": {},
     "output_type": "execute_result"
    },
    {
     "data": {
      "text/plain": [
       "is_bad\n",
       "0    85.0\n",
       "1    92.0\n",
       "Name: mths_since_last_record, dtype: float64"
      ]
     },
     "execution_count": 58,
     "metadata": {},
     "output_type": "execute_result"
    }
   ],
   "source": [
    "df.groupby(['is_bad'])['mths_since_last_record'].mean()\n",
    "df.groupby(['is_bad'])['mths_since_last_record'].median()\n",
    "#bin: nan, 0,20-80,80 and above"
   ]
  },
  {
   "cell_type": "code",
   "execution_count": 59,
   "metadata": {},
   "outputs": [
    {
     "data": {
      "text/plain": [
       "<matplotlib.axes._subplots.AxesSubplot at 0x7fa41c1eb898>"
      ]
     },
     "execution_count": 59,
     "metadata": {},
     "output_type": "execute_result"
    },
    {
     "data": {
      "image/png": "[encoded data removed]",
      "text/plain": [
       "<Figure size 360x360 with 1 Axes>"
      ]
     },
     "metadata": {
      "needs_background": "light"
     },
     "output_type": "display_data"
    }
   ],
   "source": [
    "df.open_acc.hist()#bin or impute"
   ]
  },
  {
   "cell_type": "code",
   "execution_count": 60,
   "metadata": {},
   "outputs": [
    {
     "data": {
      "text/plain": [
       "<matplotlib.axes._subplots.AxesSubplot at 0x7fa41c10f400>"
      ]
     },
     "execution_count": 60,
     "metadata": {},
     "output_type": "execute_result"
    },
    {
     "data": {
      "text/plain": [
       "0.0    9422\n",
       "1.0     550\n",
       "2.0      18\n",
       "NaN       5\n",
       "3.0       5\n",
       "Name: pub_rec, dtype: int64"
      ]
     },
     "execution_count": 60,
     "metadata": {},
     "output_type": "execute_result"
    },
    {
     "data": {
      "image/png": "[encoded data removed]",
      "text/plain": [
       "<Figure size 360x360 with 1 Axes>"
      ]
     },
     "metadata": {
      "needs_background": "light"
     },
     "output_type": "display_data"
    }
   ],
   "source": [
    "df.pub_rec.hist()\n",
    "df.pub_rec.value_counts(dropna=False)#categorize"
   ]
  },
  {
   "cell_type": "code",
   "execution_count": 61,
   "metadata": {},
   "outputs": [
    {
     "data": {
      "text/plain": [
       "<matplotlib.axes._subplots.AxesSubplot at 0x7fa41c095630>"
      ]
     },
     "execution_count": 61,
     "metadata": {},
     "output_type": "execute_result"
    },
    {
     "data": {
      "image/png": "[encoded data removed]",
      "text/plain": [
       "<Figure size 360x360 with 1 Axes>"
      ]
     },
     "metadata": {
      "needs_background": "light"
     },
     "output_type": "display_data"
    }
   ],
   "source": [
    "df.revol_bal.hist()#very skewed, log($+1) "
   ]
  },
  {
   "cell_type": "code",
   "execution_count": 62,
   "metadata": {},
   "outputs": [
    {
     "data": {
      "text/plain": [
       "<matplotlib.axes._subplots.AxesSubplot at 0x7fa41c05a8d0>"
      ]
     },
     "execution_count": 62,
     "metadata": {},
     "output_type": "execute_result"
    },
    {
     "data": {
      "image/png": "[encoded data removed]",
      "text/plain": [
       "<Figure size 360x360 with 1 Axes>"
      ]
     },
     "metadata": {
      "needs_background": "light"
     },
     "output_type": "display_data"
    }
   ],
   "source": [
    "np.log(df.revol_bal+1).hist()"
   ]
  },
  {
   "cell_type": "code",
   "execution_count": 63,
   "metadata": {},
   "outputs": [
    {
     "data": {
      "text/plain": [
       "<matplotlib.axes._subplots.AxesSubplot at 0x7fa4136b4940>"
      ]
     },
     "execution_count": 63,
     "metadata": {},
     "output_type": "execute_result"
    },
    {
     "data": {
      "image/png": "[encoded data removed]",
      "text/plain": [
       "<Figure size 360x360 with 1 Axes>"
      ]
     },
     "metadata": {
      "needs_background": "light"
     },
     "output_type": "display_data"
    }
   ],
   "source": [
    "df.revol_util.hist()"
   ]
  },
  {
   "cell_type": "code",
   "execution_count": 64,
   "metadata": {},
   "outputs": [
    {
     "data": {
      "text/plain": [
       "<matplotlib.axes._subplots.AxesSubplot at 0x7fa4136a20f0>"
      ]
     },
     "execution_count": 64,
     "metadata": {},
     "output_type": "execute_result"
    },
    {
     "data": {
      "image/png": "[encoded data removed]",
      "text/plain": [
       "<Figure size 360x360 with 1 Axes>"
      ]
     },
     "metadata": {
      "needs_background": "light"
     },
     "output_type": "display_data"
    }
   ],
   "source": [
    "df.total_acc.hist()"
   ]
  },
  {
   "cell_type": "code",
   "execution_count": 65,
   "metadata": {},
   "outputs": [
    {
     "data": {
      "text/plain": [
       "f    9983\n",
       "m      17\n",
       "Name: initial_list_status, dtype: int64"
      ]
     },
     "execution_count": 65,
     "metadata": {},
     "output_type": "execute_result"
    }
   ],
   "source": [
    "df.initial_list_status.value_counts(dropna=False)"
   ]
  },
  {
   "cell_type": "code",
   "execution_count": 66,
   "metadata": {},
   "outputs": [
    {
     "data": {
      "text/plain": [
       "count    9968.0\n",
       "mean        0.0\n",
       "std         0.0\n",
       "min         0.0\n",
       "25%         0.0\n",
       "50%         0.0\n",
       "75%         0.0\n",
       "max         0.0\n",
       "Name: collections_12_mths_ex_med, dtype: float64"
      ]
     },
     "execution_count": 66,
     "metadata": {},
     "output_type": "execute_result"
    }
   ],
   "source": [
    "df.collections_12_mths_ex_med.describe()"
   ]
  },
  {
   "cell_type": "code",
   "execution_count": 67,
   "metadata": {},
   "outputs": [
    {
     "data": {
      "text/plain": [
       "0.0    9968\n",
       "NaN      32\n",
       "Name: collections_12_mths_ex_med, dtype: int64"
      ]
     },
     "execution_count": 67,
     "metadata": {},
     "output_type": "execute_result"
    }
   ],
   "source": [
    "df.collections_12_mths_ex_med.value_counts(dropna=False)\n",
    "#this one is weird"
   ]
  },
  {
   "cell_type": "code",
   "execution_count": 68,
   "metadata": {},
   "outputs": [
    {
     "data": {
      "text/plain": [
       "is_bad\n",
       "0    31\n",
       "1     1\n",
       "Name: collections_12_mths_ex_med, dtype: int64"
      ]
     },
     "execution_count": 68,
     "metadata": {},
     "output_type": "execute_result"
    }
   ],
   "source": [
    "df.groupby(['is_bad'])['collections_12_mths_ex_med'].apply(lambda x: x.isna().sum())\n",
    "#this one is not as useful as it sounds"
   ]
  },
  {
   "cell_type": "code",
   "execution_count": 69,
   "metadata": {},
   "outputs": [
    {
     "data": {
      "text/plain": [
       "<matplotlib.axes._subplots.AxesSubplot at 0x7fa4135bf198>"
      ]
     },
     "execution_count": 69,
     "metadata": {},
     "output_type": "execute_result"
    },
    {
     "data": {
      "image/png": "[encoded data removed]",
      "text/plain": [
       "<Figure size 360x360 with 1 Axes>"
      ]
     },
     "metadata": {
      "needs_background": "light"
     },
     "output_type": "display_data"
    }
   ],
   "source": [
    "df.mths_since_last_major_derog.hist()"
   ]
  },
  {
   "cell_type": "code",
   "execution_count": 70,
   "metadata": {},
   "outputs": [
    {
     "data": {
      "text/plain": [
       "2    3424\n",
       "3    3299\n",
       "1    3277\n",
       "Name: mths_since_last_major_derog, dtype: int64"
      ]
     },
     "execution_count": 70,
     "metadata": {},
     "output_type": "execute_result"
    }
   ],
   "source": [
    "df.mths_since_last_major_derog.value_counts()"
   ]
  },
  {
   "cell_type": "code",
   "execution_count": 71,
   "metadata": {},
   "outputs": [
    {
     "data": {
      "text/plain": [
       "PC3    2098\n",
       "PC5    2025\n",
       "PC1    1978\n",
       "PC2    1962\n",
       "PC4    1937\n",
       "Name: policy_code, dtype: int64"
      ]
     },
     "execution_count": 71,
     "metadata": {},
     "output_type": "execute_result"
    }
   ],
   "source": [
    "df.policy_code.value_counts()\n",
    "#can use but cannot explain without code mapping/description."
   ]
  },
  {
   "cell_type": "code",
   "execution_count": 72,
   "metadata": {},
   "outputs": [
    {
     "data": {
      "text/plain": [
       "policy_code\n",
       "PC1    253\n",
       "PC2    285\n",
       "PC3    239\n",
       "PC4    254\n",
       "PC5    264\n",
       "Name: is_bad, dtype: int64"
      ]
     },
     "execution_count": 72,
     "metadata": {},
     "output_type": "execute_result"
    }
   ],
   "source": [
    "df.groupby(['policy_code'])['is_bad'].sum()\n",
    "#probably not much signal from policy "
   ]
  },
  {
   "cell_type": "code",
   "execution_count": null,
   "metadata": {},
   "outputs": [],
   "source": []
  },
  {
   "cell_type": "markdown",
   "metadata": {},
   "source": [
    "# data processing"
   ]
  },
  {
   "cell_type": "code",
   "execution_count": 73,
   "metadata": {},
   "outputs": [],
   "source": [
    "#adding prefix \"input_cat/input_num/output\" for model ready engineered features: \n",
    "#categorial and numerical (continuous) input, and output (target)"
   ]
  },
  {
   "cell_type": "code",
   "execution_count": 74,
   "metadata": {},
   "outputs": [],
   "source": [
    "# we'll have to repeat to pd.cut and pd.get_dummies a couple times, \n",
    "# as it's hard to automate since each variable would need different cut"
   ]
  },
  {
   "cell_type": "code",
   "execution_count": 75,
   "metadata": {},
   "outputs": [],
   "source": [
    "df = pd.read_csv(os.path.join(LOCAL_PATH,FILENAME))"
   ]
  },
  {
   "cell_type": "code",
   "execution_count": 76,
   "metadata": {},
   "outputs": [],
   "source": [
    "df.set_index('Id',inplace=True)"
   ]
  },
  {
   "cell_type": "code",
   "execution_count": 77,
   "metadata": {},
   "outputs": [
    {
     "data": {
      "text/plain": [
       "(10000, 27)"
      ]
     },
     "execution_count": 77,
     "metadata": {},
     "output_type": "execute_result"
    }
   ],
   "source": [
    "df.shape"
   ]
  },
  {
   "cell_type": "code",
   "execution_count": 78,
   "metadata": {},
   "outputs": [
    {
     "data": {
      "text/html": [
       "<div>\n",
       "<style scoped>\n",
       "    .dataframe tbody tr th:only-of-type {\n",
       "        vertical-align: middle;\n",
       "    }\n",
       "\n",
       "    .dataframe tbody tr th {\n",
       "        vertical-align: top;\n",
       "    }\n",
       "\n",
       "    .dataframe thead th {\n",
       "        text-align: right;\n",
       "    }\n",
       "</style>\n",
       "<table border=\"1\" class=\"dataframe\">\n",
       "  <thead>\n",
       "    <tr style=\"text-align: right;\">\n",
       "      <th></th>\n",
       "      <th>is_bad</th>\n",
       "      <th>emp_title</th>\n",
       "      <th>emp_length</th>\n",
       "      <th>home_ownership</th>\n",
       "      <th>annual_inc</th>\n",
       "      <th>verification_status</th>\n",
       "      <th>pymnt_plan</th>\n",
       "      <th>Notes</th>\n",
       "      <th>purpose_cat</th>\n",
       "      <th>purpose</th>\n",
       "      <th>zip_code</th>\n",
       "      <th>addr_state</th>\n",
       "      <th>debt_to_income</th>\n",
       "      <th>delinq_2yrs</th>\n",
       "      <th>earliest_cr_line</th>\n",
       "      <th>inq_last_6mths</th>\n",
       "      <th>mths_since_last_delinq</th>\n",
       "      <th>mths_since_last_record</th>\n",
       "      <th>open_acc</th>\n",
       "      <th>pub_rec</th>\n",
       "      <th>revol_bal</th>\n",
       "      <th>revol_util</th>\n",
       "      <th>total_acc</th>\n",
       "      <th>initial_list_status</th>\n",
       "      <th>collections_12_mths_ex_med</th>\n",
       "      <th>mths_since_last_major_derog</th>\n",
       "      <th>policy_code</th>\n",
       "    </tr>\n",
       "    <tr>\n",
       "      <th>Id</th>\n",
       "      <th></th>\n",
       "      <th></th>\n",
       "      <th></th>\n",
       "      <th></th>\n",
       "      <th></th>\n",
       "      <th></th>\n",
       "      <th></th>\n",
       "      <th></th>\n",
       "      <th></th>\n",
       "      <th></th>\n",
       "      <th></th>\n",
       "      <th></th>\n",
       "      <th></th>\n",
       "      <th></th>\n",
       "      <th></th>\n",
       "      <th></th>\n",
       "      <th></th>\n",
       "      <th></th>\n",
       "      <th></th>\n",
       "      <th></th>\n",
       "      <th></th>\n",
       "      <th></th>\n",
       "      <th></th>\n",
       "      <th></th>\n",
       "      <th></th>\n",
       "      <th></th>\n",
       "      <th></th>\n",
       "    </tr>\n",
       "  </thead>\n",
       "  <tbody>\n",
       "    <tr>\n",
       "      <th>1</th>\n",
       "      <td>0</td>\n",
       "      <td>Time Warner Cable</td>\n",
       "      <td>10</td>\n",
       "      <td>MORTGAGE</td>\n",
       "      <td>50000.0</td>\n",
       "      <td>not verified</td>\n",
       "      <td>n</td>\n",
       "      <td>NaN</td>\n",
       "      <td>medical</td>\n",
       "      <td>Medical</td>\n",
       "      <td>766xx</td>\n",
       "      <td>TX</td>\n",
       "      <td>10.87</td>\n",
       "      <td>0.0</td>\n",
       "      <td>12/01/1992</td>\n",
       "      <td>0.0</td>\n",
       "      <td>NaN</td>\n",
       "      <td>NaN</td>\n",
       "      <td>15.0</td>\n",
       "      <td>0.0</td>\n",
       "      <td>12087</td>\n",
       "      <td>12.1</td>\n",
       "      <td>44.0</td>\n",
       "      <td>f</td>\n",
       "      <td>0.0</td>\n",
       "      <td>1</td>\n",
       "      <td>PC4</td>\n",
       "    </tr>\n",
       "    <tr>\n",
       "      <th>2</th>\n",
       "      <td>0</td>\n",
       "      <td>Ottawa University</td>\n",
       "      <td>1</td>\n",
       "      <td>RENT</td>\n",
       "      <td>39216.0</td>\n",
       "      <td>not verified</td>\n",
       "      <td>n</td>\n",
       "      <td>Borrower added on 04/14/11 &gt; I will be using this loan to pay off expenses accrued in the last...</td>\n",
       "      <td>debt consolidation</td>\n",
       "      <td>My Debt Consolidation Loan</td>\n",
       "      <td>660xx</td>\n",
       "      <td>KS</td>\n",
       "      <td>9.15</td>\n",
       "      <td>0.0</td>\n",
       "      <td>11/01/2005</td>\n",
       "      <td>2.0</td>\n",
       "      <td>NaN</td>\n",
       "      <td>NaN</td>\n",
       "      <td>4.0</td>\n",
       "      <td>0.0</td>\n",
       "      <td>10114</td>\n",
       "      <td>64.0</td>\n",
       "      <td>5.0</td>\n",
       "      <td>f</td>\n",
       "      <td>0.0</td>\n",
       "      <td>2</td>\n",
       "      <td>PC1</td>\n",
       "    </tr>\n",
       "    <tr>\n",
       "      <th>3</th>\n",
       "      <td>0</td>\n",
       "      <td>Kennedy Wilson</td>\n",
       "      <td>4</td>\n",
       "      <td>RENT</td>\n",
       "      <td>65000.0</td>\n",
       "      <td>not verified</td>\n",
       "      <td>n</td>\n",
       "      <td>NaN</td>\n",
       "      <td>credit card</td>\n",
       "      <td>AP Personal Loan</td>\n",
       "      <td>916xx</td>\n",
       "      <td>CA</td>\n",
       "      <td>11.24</td>\n",
       "      <td>0.0</td>\n",
       "      <td>06/01/1970</td>\n",
       "      <td>0.0</td>\n",
       "      <td>NaN</td>\n",
       "      <td>NaN</td>\n",
       "      <td>4.0</td>\n",
       "      <td>0.0</td>\n",
       "      <td>81</td>\n",
       "      <td>0.6</td>\n",
       "      <td>8.0</td>\n",
       "      <td>f</td>\n",
       "      <td>0.0</td>\n",
       "      <td>3</td>\n",
       "      <td>PC4</td>\n",
       "    </tr>\n",
       "    <tr>\n",
       "      <th>4</th>\n",
       "      <td>0</td>\n",
       "      <td>TOWN OF PLATTEKILL</td>\n",
       "      <td>10</td>\n",
       "      <td>MORTGAGE</td>\n",
       "      <td>57500.0</td>\n",
       "      <td>not verified</td>\n",
       "      <td>n</td>\n",
       "      <td>NaN</td>\n",
       "      <td>debt consolidation</td>\n",
       "      <td>Debt Consolidation Loan</td>\n",
       "      <td>124xx</td>\n",
       "      <td>NY</td>\n",
       "      <td>6.18</td>\n",
       "      <td>1.0</td>\n",
       "      <td>09/01/1982</td>\n",
       "      <td>0.0</td>\n",
       "      <td>16.0</td>\n",
       "      <td>NaN</td>\n",
       "      <td>6.0</td>\n",
       "      <td>0.0</td>\n",
       "      <td>10030</td>\n",
       "      <td>37.1</td>\n",
       "      <td>23.0</td>\n",
       "      <td>f</td>\n",
       "      <td>0.0</td>\n",
       "      <td>2</td>\n",
       "      <td>PC2</td>\n",
       "    </tr>\n",
       "    <tr>\n",
       "      <th>5</th>\n",
       "      <td>0</td>\n",
       "      <td>Belmont Correctional</td>\n",
       "      <td>10</td>\n",
       "      <td>MORTGAGE</td>\n",
       "      <td>50004.0</td>\n",
       "      <td>VERIFIED - income</td>\n",
       "      <td>n</td>\n",
       "      <td>I want to consolidate my debt, pay for a vacation and buy a ring.</td>\n",
       "      <td>debt consolidation</td>\n",
       "      <td>consolidate</td>\n",
       "      <td>439xx</td>\n",
       "      <td>OH</td>\n",
       "      <td>19.03</td>\n",
       "      <td>0.0</td>\n",
       "      <td>10/01/1999</td>\n",
       "      <td>4.0</td>\n",
       "      <td>NaN</td>\n",
       "      <td>NaN</td>\n",
       "      <td>8.0</td>\n",
       "      <td>0.0</td>\n",
       "      <td>10740</td>\n",
       "      <td>40.4</td>\n",
       "      <td>21.0</td>\n",
       "      <td>f</td>\n",
       "      <td>0.0</td>\n",
       "      <td>3</td>\n",
       "      <td>PC3</td>\n",
       "    </tr>\n",
       "  </tbody>\n",
       "</table>\n",
       "</div>"
      ],
      "text/plain": [
       "    is_bad             emp_title emp_length home_ownership  annual_inc verification_status pymnt_plan                                                                                                Notes         purpose_cat                     purpose zip_code addr_state  debt_to_income  delinq_2yrs earliest_cr_line  inq_last_6mths  mths_since_last_delinq  mths_since_last_record  open_acc  pub_rec  revol_bal  revol_util  total_acc initial_list_status  collections_12_mths_ex_med  mths_since_last_major_derog policy_code\n",
       "Id                                                                                                                                                                                                                                                                                                                                                                                                                                                                                                                                        \n",
       "1        0     Time Warner Cable         10       MORTGAGE     50000.0        not verified          n                                                                                                  NaN             medical                     Medical    766xx         TX           10.87          0.0       12/01/1992             0.0                     NaN                     NaN      15.0      0.0      12087        12.1       44.0                   f                         0.0                            1         PC4\n",
       "2        0     Ottawa University          1           RENT     39216.0        not verified          n    Borrower added on 04/14/11 > I will be using this loan to pay off expenses accrued in the last...  debt consolidation  My Debt Consolidation Loan    660xx         KS            9.15          0.0       11/01/2005             2.0                     NaN                     NaN       4.0      0.0      10114        64.0        5.0                   f                         0.0                            2         PC1\n",
       "3        0        Kennedy Wilson          4           RENT     65000.0        not verified          n                                                                                                  NaN         credit card            AP Personal Loan    916xx         CA           11.24          0.0       06/01/1970             0.0                     NaN                     NaN       4.0      0.0         81         0.6        8.0                   f                         0.0                            3         PC4\n",
       "4        0    TOWN OF PLATTEKILL         10       MORTGAGE     57500.0        not verified          n                                                                                                  NaN  debt consolidation     Debt Consolidation Loan    124xx         NY            6.18          1.0       09/01/1982             0.0                    16.0                     NaN       6.0      0.0      10030        37.1       23.0                   f                         0.0                            2         PC2\n",
       "5        0  Belmont Correctional         10       MORTGAGE     50004.0   VERIFIED - income          n                                    I want to consolidate my debt, pay for a vacation and buy a ring.  debt consolidation                 consolidate    439xx         OH           19.03          0.0       10/01/1999             4.0                     NaN                     NaN       8.0      0.0      10740        40.4       21.0                   f                         0.0                            3         PC3"
      ]
     },
     "execution_count": 78,
     "metadata": {},
     "output_type": "execute_result"
    }
   ],
   "source": [
    "df.head()"
   ]
  },
  {
   "cell_type": "code",
   "execution_count": null,
   "metadata": {},
   "outputs": [],
   "source": []
  },
  {
   "cell_type": "code",
   "execution_count": 79,
   "metadata": {},
   "outputs": [],
   "source": [
    "df['output_is_bad'] = df.is_bad "
   ]
  },
  {
   "cell_type": "code",
   "execution_count": 80,
   "metadata": {},
   "outputs": [],
   "source": [
    "df['input_cat_employerNA'] = df.emp_title.apply(lambda x: 1 if pd.isnull(x) else 0)"
   ]
  },
  {
   "cell_type": "code",
   "execution_count": 81,
   "metadata": {},
   "outputs": [
    {
     "data": {
      "text/plain": [
       "0    9408\n",
       "1     592\n",
       "Name: input_cat_employerNA, dtype: int64"
      ]
     },
     "execution_count": 81,
     "metadata": {},
     "output_type": "execute_result"
    }
   ],
   "source": [
    "df.input_cat_employerNA.value_counts()"
   ]
  },
  {
   "cell_type": "code",
   "execution_count": 82,
   "metadata": {},
   "outputs": [],
   "source": [
    "df[\"emp_length\"] = df.emp_length.apply(lambda x: float(x) if x!='na' else 0)"
   ]
  },
  {
   "cell_type": "code",
   "execution_count": 83,
   "metadata": {},
   "outputs": [
    {
     "data": {
      "text/plain": [
       "10.0    2160\n",
       "1.0     2083\n",
       "2.0     1183\n",
       "3.0     1010\n",
       "4.0      889\n",
       "5.0      779\n",
       "6.0      535\n",
       "7.0      421\n",
       "8.0      351\n",
       "9.0      331\n",
       "0.0      250\n",
       "22.0       5\n",
       "11.0       2\n",
       "33.0       1\n",
       "Name: emp_length, dtype: int64"
      ]
     },
     "execution_count": 83,
     "metadata": {},
     "output_type": "execute_result"
    }
   ],
   "source": [
    "df.emp_length.value_counts()"
   ]
  },
  {
   "cell_type": "code",
   "execution_count": 84,
   "metadata": {},
   "outputs": [],
   "source": [
    "df[\"input_cat_emp_length\"] = pd.cut(df[\"emp_length\"],\n",
    "                               bins=[-1,0.,1.,3.,6.,9.,np.inf],\n",
    "                               labels=['NA','1yr','3yr','6yr','9yr','10plusyr']\n",
    "                                   )"
   ]
  },
  {
   "cell_type": "code",
   "execution_count": 85,
   "metadata": {},
   "outputs": [
    {
     "data": {
      "text/plain": [
       "6yr         2203\n",
       "3yr         2193\n",
       "10plusyr    2168\n",
       "1yr         2083\n",
       "9yr         1103\n",
       "NA           250\n",
       "Name: input_cat_emp_length, dtype: int64"
      ]
     },
     "execution_count": 85,
     "metadata": {},
     "output_type": "execute_result"
    }
   ],
   "source": [
    "df.input_cat_emp_length.value_counts(dropna=False)"
   ]
  },
  {
   "cell_type": "code",
   "execution_count": 86,
   "metadata": {},
   "outputs": [
    {
     "data": {
      "text/plain": [
       "(10000, 30)"
      ]
     },
     "execution_count": 86,
     "metadata": {},
     "output_type": "execute_result"
    }
   ],
   "source": [
    "df.shape"
   ]
  },
  {
   "cell_type": "code",
   "execution_count": 87,
   "metadata": {},
   "outputs": [],
   "source": [
    "df = pd.concat([df,pd.get_dummies(df['input_cat_emp_length'], prefix='input_cat_emp_length')],axis=1)\n",
    "df.drop(['input_cat_emp_length'],axis=1, inplace=True)"
   ]
  },
  {
   "cell_type": "code",
   "execution_count": 88,
   "metadata": {},
   "outputs": [
    {
     "data": {
      "text/plain": [
       "(10000, 35)"
      ]
     },
     "execution_count": 88,
     "metadata": {},
     "output_type": "execute_result"
    }
   ],
   "source": [
    "df.shape"
   ]
  },
  {
   "cell_type": "code",
   "execution_count": 89,
   "metadata": {},
   "outputs": [
    {
     "data": {
      "text/plain": [
       "0    7917\n",
       "1    2083\n",
       "Name: input_cat_emp_length_1yr, dtype: int64"
      ]
     },
     "execution_count": 89,
     "metadata": {},
     "output_type": "execute_result"
    }
   ],
   "source": [
    "df.input_cat_emp_length_1yr.value_counts()"
   ]
  },
  {
   "cell_type": "code",
   "execution_count": 90,
   "metadata": {},
   "outputs": [],
   "source": [
    "df = pd.concat([df,pd.get_dummies(df['home_ownership'], prefix='input_cat_home_ownership')],axis=1)\n",
    "df.drop(['home_ownership'],axis=1, inplace=True)"
   ]
  },
  {
   "cell_type": "code",
   "execution_count": 91,
   "metadata": {},
   "outputs": [],
   "source": [
    "# need to be careful about the highly correlated variables generated from onehot of categorical variable (for example, male, female)\n",
    "# here we are not using drop_first=True as we would like to see the effect of each category level."
   ]
  },
  {
   "cell_type": "code",
   "execution_count": 92,
   "metadata": {},
   "outputs": [
    {
     "data": {
      "text/plain": [
       "0    5255\n",
       "1    4745\n",
       "Name: input_cat_home_ownership_RENT, dtype: int64"
      ]
     },
     "execution_count": 92,
     "metadata": {},
     "output_type": "execute_result"
    }
   ],
   "source": [
    "df.input_cat_home_ownership_RENT.value_counts()"
   ]
  },
  {
   "cell_type": "code",
   "execution_count": 93,
   "metadata": {},
   "outputs": [
    {
     "data": {
      "text/plain": [
       "58000.0"
      ]
     },
     "execution_count": 93,
     "metadata": {},
     "output_type": "execute_result"
    }
   ],
   "source": [
    "df.annual_inc.median()"
   ]
  },
  {
   "cell_type": "code",
   "execution_count": 94,
   "metadata": {},
   "outputs": [],
   "source": [
    "df.annual_inc.fillna(df.annual_inc.median(),inplace=True)\n",
    "#impute this NA as median income"
   ]
  },
  {
   "cell_type": "code",
   "execution_count": 95,
   "metadata": {},
   "outputs": [
    {
     "data": {
      "text/plain": [
       "count     10000.000000\n",
       "mean      68201.991238\n",
       "std       48587.930068\n",
       "min        2000.000000\n",
       "25%       40000.000000\n",
       "50%       58000.000000\n",
       "75%       82000.000000\n",
       "max      900000.000000\n",
       "Name: annual_inc, dtype: float64"
      ]
     },
     "execution_count": 95,
     "metadata": {},
     "output_type": "execute_result"
    }
   ],
   "source": [
    "df.annual_inc.describe()"
   ]
  },
  {
   "cell_type": "code",
   "execution_count": 96,
   "metadata": {},
   "outputs": [],
   "source": [
    "df['input_num_log_annual_inc'] = np.log(df.annual_inc+1)"
   ]
  },
  {
   "cell_type": "code",
   "execution_count": 97,
   "metadata": {},
   "outputs": [
    {
     "data": {
      "text/plain": [
       "<matplotlib.axes._subplots.AxesSubplot at 0x7fa4127bcc18>"
      ]
     },
     "execution_count": 97,
     "metadata": {},
     "output_type": "execute_result"
    },
    {
     "data": {
      "image/png": "[encoded data removed]",
      "text/plain": [
       "<Figure size 360x360 with 1 Axes>"
      ]
     },
     "metadata": {
      "needs_background": "light"
     },
     "output_type": "display_data"
    }
   ],
   "source": [
    "df.input_num_log_annual_inc.hist(bins=50)"
   ]
  },
  {
   "cell_type": "code",
   "execution_count": 98,
   "metadata": {},
   "outputs": [],
   "source": [
    "df['input_cat_verified'] = df.verification_status.apply(lambda x: 0 if x=='not verified' else 1)"
   ]
  },
  {
   "cell_type": "code",
   "execution_count": 99,
   "metadata": {},
   "outputs": [
    {
     "data": {
      "text/plain": [
       "1    5633\n",
       "0    4367\n",
       "Name: input_cat_verified, dtype: int64"
      ]
     },
     "execution_count": 99,
     "metadata": {},
     "output_type": "execute_result"
    }
   ],
   "source": [
    "df.input_cat_verified.value_counts()"
   ]
  },
  {
   "cell_type": "code",
   "execution_count": 100,
   "metadata": {},
   "outputs": [],
   "source": [
    "df['input_cat_pymnt_plan'] = df.pymnt_plan.apply(lambda x: 1 if x=='y' else 0)"
   ]
  },
  {
   "cell_type": "code",
   "execution_count": 101,
   "metadata": {},
   "outputs": [
    {
     "data": {
      "text/plain": [
       "0    9998\n",
       "1       2\n",
       "Name: input_cat_pymnt_plan, dtype: int64"
      ]
     },
     "execution_count": 101,
     "metadata": {},
     "output_type": "execute_result"
    }
   ],
   "source": [
    "df.input_cat_pymnt_plan.value_counts()"
   ]
  },
  {
   "cell_type": "code",
   "execution_count": 102,
   "metadata": {},
   "outputs": [
    {
     "data": {
      "text/plain": [
       "(10000, 42)"
      ]
     },
     "execution_count": 102,
     "metadata": {},
     "output_type": "execute_result"
    }
   ],
   "source": [
    "df.shape"
   ]
  },
  {
   "cell_type": "code",
   "execution_count": 103,
   "metadata": {},
   "outputs": [],
   "source": [
    "df = pd.concat([df,pd.get_dummies(df['purpose_cat'], prefix='input_cat_purpose_cat')],axis=1)\n",
    "df.drop(['purpose_cat'],axis=1, inplace=True)"
   ]
  },
  {
   "cell_type": "code",
   "execution_count": 104,
   "metadata": {},
   "outputs": [],
   "source": [
    "df.columns = df.columns.str.replace(' ', '_')"
   ]
  },
  {
   "cell_type": "code",
   "execution_count": 105,
   "metadata": {},
   "outputs": [
    {
     "data": {
      "text/plain": [
       "0    9995\n",
       "1       5\n",
       "Name: input_cat_purpose_cat_major_purchase_small_business, dtype: int64"
      ]
     },
     "execution_count": 105,
     "metadata": {},
     "output_type": "execute_result"
    }
   ],
   "source": [
    "df.input_cat_purpose_cat_major_purchase_small_business.value_counts()"
   ]
  },
  {
   "cell_type": "code",
   "execution_count": 106,
   "metadata": {},
   "outputs": [],
   "source": [
    "df['input_num_debt_to_income'] = df.debt_to_income\n",
    "#good as is"
   ]
  },
  {
   "cell_type": "code",
   "execution_count": 107,
   "metadata": {},
   "outputs": [],
   "source": [
    "df[\"input_cat_delinq_2yrs\"] = pd.cut(df[\"delinq_2yrs\"],\n",
    "                               bins=[-1,0.,1.,2.,np.inf],\n",
    "                               labels=['0','1','2','gt2']\n",
    "                                   )"
   ]
  },
  {
   "cell_type": "code",
   "execution_count": 108,
   "metadata": {},
   "outputs": [
    {
     "data": {
      "text/plain": [
       "0      8910\n",
       "1       822\n",
       "2       186\n",
       "gt2      77\n",
       "NaN       5\n",
       "Name: input_cat_delinq_2yrs, dtype: int64"
      ]
     },
     "execution_count": 108,
     "metadata": {},
     "output_type": "execute_result"
    }
   ],
   "source": [
    "df.input_cat_delinq_2yrs.value_counts(dropna=False)"
   ]
  },
  {
   "cell_type": "code",
   "execution_count": 109,
   "metadata": {},
   "outputs": [],
   "source": [
    "df = pd.concat([df,pd.get_dummies(df['input_cat_delinq_2yrs'], prefix='input_cat_delinq_2yrs',dummy_na=True)],axis=1)\n",
    "df.drop(['input_cat_delinq_2yrs'],axis=1, inplace=True)"
   ]
  },
  {
   "cell_type": "code",
   "execution_count": 110,
   "metadata": {},
   "outputs": [],
   "source": [
    "df['earliest_cr_year'] = df.earliest_cr_line.apply(lambda x: float(x[-4:]) if pd.notnull(x) else np.nan)"
   ]
  },
  {
   "cell_type": "code",
   "execution_count": 111,
   "metadata": {
    "scrolled": true
   },
   "outputs": [],
   "source": [
    "df['cr_line_history_yr'] = df['earliest_cr_year'].max() - df['earliest_cr_year']\n",
    "#don't know when is application year so assuming the max, it's relative so signal won't be affected"
   ]
  },
  {
   "cell_type": "code",
   "execution_count": 112,
   "metadata": {},
   "outputs": [],
   "source": [
    "df[\"input_cat_cr_line_history_yr\"] = pd.cut(df[\"cr_line_history_yr\"],\n",
    "                               bins=[-1,5.,10.,15.,20.,np.inf],\n",
    "                               labels=['5yr','10yr','15yr','20yr','gt20yr']\n",
    "                                   )"
   ]
  },
  {
   "cell_type": "code",
   "execution_count": 113,
   "metadata": {},
   "outputs": [
    {
     "data": {
      "text/plain": [
       "10yr      3447\n",
       "15yr      2607\n",
       "5yr       1832\n",
       "20yr      1133\n",
       "gt20yr     976\n",
       "NaN          5\n",
       "Name: input_cat_cr_line_history_yr, dtype: int64"
      ]
     },
     "execution_count": 113,
     "metadata": {},
     "output_type": "execute_result"
    }
   ],
   "source": [
    "df.input_cat_cr_line_history_yr.value_counts(dropna=False)"
   ]
  },
  {
   "cell_type": "code",
   "execution_count": 114,
   "metadata": {},
   "outputs": [],
   "source": [
    "df = pd.concat([df,pd.get_dummies(df['input_cat_cr_line_history_yr'], prefix='input_cat_cr_line_history_yr',dummy_na=True)],axis=1)\n",
    "df.drop(['input_cat_cr_line_history_yr'],axis=1, inplace=True)"
   ]
  },
  {
   "cell_type": "code",
   "execution_count": 115,
   "metadata": {},
   "outputs": [
    {
     "data": {
      "text/plain": [
       "(10000, 82)"
      ]
     },
     "execution_count": 115,
     "metadata": {},
     "output_type": "execute_result"
    }
   ],
   "source": [
    "df.shape"
   ]
  },
  {
   "cell_type": "code",
   "execution_count": 116,
   "metadata": {},
   "outputs": [],
   "source": [
    "df[\"input_cat_inq_last_6mths\"] = pd.cut(df[\"inq_last_6mths\"],\n",
    "                               bins=[-1,0.,1.,2.,np.inf],\n",
    "                               labels=['0','1','2','gt2']\n",
    "                                   )"
   ]
  },
  {
   "cell_type": "code",
   "execution_count": 117,
   "metadata": {},
   "outputs": [
    {
     "data": {
      "text/plain": [
       "0      4602\n",
       "1      2684\n",
       "2      1431\n",
       "gt2    1278\n",
       "NaN       5\n",
       "Name: input_cat_inq_last_6mths, dtype: int64"
      ]
     },
     "execution_count": 117,
     "metadata": {},
     "output_type": "execute_result"
    }
   ],
   "source": [
    "df.input_cat_inq_last_6mths.value_counts(dropna=False)"
   ]
  },
  {
   "cell_type": "code",
   "execution_count": 118,
   "metadata": {},
   "outputs": [],
   "source": [
    "df = pd.concat([df,pd.get_dummies(df['input_cat_inq_last_6mths'], prefix='input_cat_inq_last_6mths',dummy_na=True)],axis=1)\n",
    "df.drop(['input_cat_inq_last_6mths'],axis=1, inplace=True)"
   ]
  },
  {
   "cell_type": "code",
   "execution_count": 119,
   "metadata": {},
   "outputs": [],
   "source": [
    "df[\"input_cat_mths_since_last_delinq\"] = pd.cut(df[\"mths_since_last_delinq\"],\n",
    "                               bins=[-1,24.,48.,np.inf],\n",
    "                               labels=['2yr','4yr','gt4yr']\n",
    "                                   )"
   ]
  },
  {
   "cell_type": "code",
   "execution_count": 120,
   "metadata": {},
   "outputs": [
    {
     "data": {
      "text/plain": [
       "NaN      6316\n",
       "4yr      1313\n",
       "2yr      1312\n",
       "gt4yr    1059\n",
       "Name: input_cat_mths_since_last_delinq, dtype: int64"
      ]
     },
     "execution_count": 120,
     "metadata": {},
     "output_type": "execute_result"
    }
   ],
   "source": [
    "df.input_cat_mths_since_last_delinq.value_counts(dropna=False)"
   ]
  },
  {
   "cell_type": "code",
   "execution_count": 121,
   "metadata": {},
   "outputs": [],
   "source": [
    "df = pd.concat([df,pd.get_dummies(df['input_cat_mths_since_last_delinq'], prefix='input_cat_mths_since_last_delinq',dummy_na=True)],axis=1)\n",
    "df.drop(['input_cat_mths_since_last_delinq'],axis=1, inplace=True)"
   ]
  },
  {
   "cell_type": "code",
   "execution_count": 122,
   "metadata": {},
   "outputs": [],
   "source": [
    "df[\"input_cat_mths_since_last_record\"] = pd.cut(df[\"mths_since_last_record\"],\n",
    "                               bins=[-1,0.,84.,np.inf],\n",
    "                               labels=['0','7yr','gt7yr']\n",
    "                                   )\n",
    "#7-yr ARM? "
   ]
  },
  {
   "cell_type": "code",
   "execution_count": 123,
   "metadata": {},
   "outputs": [
    {
     "data": {
      "text/plain": [
       "NaN      9160\n",
       "gt7yr     443\n",
       "0         267\n",
       "7yr       130\n",
       "Name: input_cat_mths_since_last_record, dtype: int64"
      ]
     },
     "execution_count": 123,
     "metadata": {},
     "output_type": "execute_result"
    }
   ],
   "source": [
    "df.input_cat_mths_since_last_record.value_counts(dropna=False)"
   ]
  },
  {
   "cell_type": "code",
   "execution_count": 124,
   "metadata": {},
   "outputs": [],
   "source": [
    "df = pd.concat([df,pd.get_dummies(df['input_cat_mths_since_last_record'], prefix='input_cat_mths_since_last_record',dummy_na=True)],axis=1)\n",
    "df.drop(['input_cat_mths_since_last_record'],axis=1, inplace=True)"
   ]
  },
  {
   "cell_type": "code",
   "execution_count": 125,
   "metadata": {},
   "outputs": [],
   "source": [
    "df['input_num_open_acc'] = df.open_acc.fillna(df.open_acc.median())\n",
    "#impute with median (only 5 NaN)"
   ]
  },
  {
   "cell_type": "code",
   "execution_count": 126,
   "metadata": {},
   "outputs": [],
   "source": [
    "df[\"input_cat_pub_rec\"] = pd.cut(df[\"pub_rec\"],\n",
    "                               bins=[-1,0.,1.,np.inf],\n",
    "                               labels=['0','1','gt1']\n",
    "                                   )"
   ]
  },
  {
   "cell_type": "code",
   "execution_count": 127,
   "metadata": {},
   "outputs": [
    {
     "data": {
      "text/plain": [
       "0      9422\n",
       "1       550\n",
       "gt1      23\n",
       "NaN       5\n",
       "Name: input_cat_pub_rec, dtype: int64"
      ]
     },
     "execution_count": 127,
     "metadata": {},
     "output_type": "execute_result"
    }
   ],
   "source": [
    "df.input_cat_pub_rec.value_counts(dropna=False)"
   ]
  },
  {
   "cell_type": "code",
   "execution_count": 128,
   "metadata": {},
   "outputs": [],
   "source": [
    "df = pd.concat([df,pd.get_dummies(df['input_cat_pub_rec'], prefix='input_cat_pub_rec',dummy_na=True)],axis=1)\n",
    "df.drop(['input_cat_pub_rec'],axis=1, inplace=True)"
   ]
  },
  {
   "cell_type": "code",
   "execution_count": 129,
   "metadata": {},
   "outputs": [],
   "source": [
    "df['input_num_log_revol_bal'] = np.log(df.revol_bal+1)"
   ]
  },
  {
   "cell_type": "code",
   "execution_count": 130,
   "metadata": {},
   "outputs": [],
   "source": [
    "df['input_num_revol_util'] = df.revol_util.fillna(df.revol_util.median())"
   ]
  },
  {
   "cell_type": "code",
   "execution_count": 131,
   "metadata": {},
   "outputs": [],
   "source": [
    "df['input_num_total_acc'] = df.total_acc.fillna(df.total_acc.median())"
   ]
  },
  {
   "cell_type": "code",
   "execution_count": 132,
   "metadata": {},
   "outputs": [],
   "source": [
    "df['input_cat_initial_list_status_m'] = df.initial_list_status.apply(lambda x: 1 if x=='m' else 0)"
   ]
  },
  {
   "cell_type": "code",
   "execution_count": 133,
   "metadata": {},
   "outputs": [],
   "source": [
    "df['input_cat_collections_12_mths_ex_med_NA'] = df.collections_12_mths_ex_med.apply(lambda x: 0 if x==0 else 1)\n",
    "#it's either 0 or NA, get_dummies for both levels would be wrong"
   ]
  },
  {
   "cell_type": "code",
   "execution_count": 134,
   "metadata": {},
   "outputs": [],
   "source": [
    "df['input_cat_mths_since_last_major_derog'] = df.mths_since_last_major_derog.astype(str)\n",
    "\n",
    "df = pd.concat([df,pd.get_dummies(df['input_cat_mths_since_last_major_derog'], prefix='input_cat_mths_since_last_major_derog',dummy_na=False)],axis=1)\n",
    "df.drop(['input_cat_mths_since_last_major_derog'],axis=1, inplace=True)"
   ]
  },
  {
   "cell_type": "code",
   "execution_count": 135,
   "metadata": {},
   "outputs": [],
   "source": [
    "df = pd.concat([df,pd.get_dummies(df['policy_code'], prefix='input_cat_policy_code',dummy_na=False)],axis=1)"
   ]
  },
  {
   "cell_type": "code",
   "execution_count": 136,
   "metadata": {},
   "outputs": [
    {
     "data": {
      "text/plain": [
       "0    8063\n",
       "1    1937\n",
       "Name: input_cat_policy_code_PC4, dtype: int64"
      ]
     },
     "execution_count": 136,
     "metadata": {},
     "output_type": "execute_result"
    }
   ],
   "source": [
    "df.input_cat_policy_code_PC4.value_counts()"
   ]
  },
  {
   "cell_type": "code",
   "execution_count": 137,
   "metadata": {
    "scrolled": true
   },
   "outputs": [
    {
     "data": {
      "text/plain": [
       "(10000, 86)"
      ]
     },
     "execution_count": 137,
     "metadata": {},
     "output_type": "execute_result"
    },
    {
     "data": {
      "text/plain": [
       "Index(['output_is_bad', 'input_cat_employerNA', 'input_cat_emp_length_NA', 'input_cat_emp_length_1yr', 'input_cat_emp_length_3yr', 'input_cat_emp_length_6yr', 'input_cat_emp_length_9yr', 'input_cat_emp_length_10plusyr', 'input_cat_home_ownership_MORTGAGE', 'input_cat_home_ownership_NONE', 'input_cat_home_ownership_OTHER', 'input_cat_home_ownership_OWN', 'input_cat_home_ownership_RENT', 'input_num_log_annual_inc', 'input_cat_verified', 'input_cat_pymnt_plan', 'input_cat_purpose_cat_car', 'input_cat_purpose_cat_car_small_business', 'input_cat_purpose_cat_credit_card', 'input_cat_purpose_cat_credit_card_small_business', 'input_cat_purpose_cat_debt_consolidation', 'input_cat_purpose_cat_debt_consolidation_small_business', 'input_cat_purpose_cat_educational', 'input_cat_purpose_cat_educational_small_business', 'input_cat_purpose_cat_home_improvement', 'input_cat_purpose_cat_home_improvement_small_business', 'input_cat_purpose_cat_house', 'input_cat_purpose_cat_house_small_business',\n",
       "       'input_cat_purpose_cat_major_purchase', 'input_cat_purpose_cat_major_purchase_small_business', 'input_cat_purpose_cat_medical', 'input_cat_purpose_cat_medical_small_business', 'input_cat_purpose_cat_moving', 'input_cat_purpose_cat_moving_small_business', 'input_cat_purpose_cat_other', 'input_cat_purpose_cat_other_small_business', 'input_cat_purpose_cat_renewable_energy', 'input_cat_purpose_cat_small_business', 'input_cat_purpose_cat_small_business_small_business', 'input_cat_purpose_cat_vacation', 'input_cat_purpose_cat_vacation_small_business', 'input_cat_purpose_cat_wedding', 'input_cat_purpose_cat_wedding_small_business', 'input_num_debt_to_income', 'input_cat_delinq_2yrs_0', 'input_cat_delinq_2yrs_1', 'input_cat_delinq_2yrs_2', 'input_cat_delinq_2yrs_gt2', 'input_cat_delinq_2yrs_nan', 'input_cat_cr_line_history_yr_5yr', 'input_cat_cr_line_history_yr_10yr', 'input_cat_cr_line_history_yr_15yr', 'input_cat_cr_line_history_yr_20yr', 'input_cat_cr_line_history_yr_gt20yr',\n",
       "       'input_cat_cr_line_history_yr_nan', 'input_cat_inq_last_6mths_0', 'input_cat_inq_last_6mths_1', 'input_cat_inq_last_6mths_2', 'input_cat_inq_last_6mths_gt2', 'input_cat_inq_last_6mths_nan', 'input_cat_mths_since_last_delinq_2yr', 'input_cat_mths_since_last_delinq_4yr', 'input_cat_mths_since_last_delinq_gt4yr', 'input_cat_mths_since_last_delinq_nan', 'input_cat_mths_since_last_record_0', 'input_cat_mths_since_last_record_7yr', 'input_cat_mths_since_last_record_gt7yr', 'input_cat_mths_since_last_record_nan', 'input_num_open_acc', 'input_cat_pub_rec_0', 'input_cat_pub_rec_1', 'input_cat_pub_rec_gt1', 'input_cat_pub_rec_nan', 'input_num_log_revol_bal', 'input_num_revol_util', 'input_num_total_acc', 'input_cat_initial_list_status_m', 'input_cat_collections_12_mths_ex_med_NA', 'input_cat_mths_since_last_major_derog_1', 'input_cat_mths_since_last_major_derog_2', 'input_cat_mths_since_last_major_derog_3', 'input_cat_policy_code_PC1', 'input_cat_policy_code_PC2',\n",
       "       'input_cat_policy_code_PC3', 'input_cat_policy_code_PC4', 'input_cat_policy_code_PC5'],\n",
       "      dtype='object')"
      ]
     },
     "execution_count": 137,
     "metadata": {},
     "output_type": "execute_result"
    },
    {
     "data": {
      "text/plain": [
       "output_is_bad                                                int64\n",
       "input_cat_employerNA                                         int64\n",
       "input_cat_emp_length_NA                                      uint8\n",
       "input_cat_emp_length_1yr                                     uint8\n",
       "input_cat_emp_length_3yr                                     uint8\n",
       "input_cat_emp_length_6yr                                     uint8\n",
       "input_cat_emp_length_9yr                                     uint8\n",
       "input_cat_emp_length_10plusyr                                uint8\n",
       "input_cat_home_ownership_MORTGAGE                            uint8\n",
       "input_cat_home_ownership_NONE                                uint8\n",
       "input_cat_home_ownership_OTHER                               uint8\n",
       "input_cat_home_ownership_OWN                                 uint8\n",
       "input_cat_home_ownership_RENT                                uint8\n",
       "input_num_log_annual_inc                                   float64\n",
       "input_cat_verified                                           int64\n",
       "input_cat_pymnt_plan                                         int64\n",
       "input_cat_purpose_cat_car                                    uint8\n",
       "input_cat_purpose_cat_car_small_business                     uint8\n",
       "input_cat_purpose_cat_credit_card                            uint8\n",
       "input_cat_purpose_cat_credit_card_small_business             uint8\n",
       "input_cat_purpose_cat_debt_consolidation                     uint8\n",
       "input_cat_purpose_cat_debt_consolidation_small_business      uint8\n",
       "input_cat_purpose_cat_educational                            uint8\n",
       "input_cat_purpose_cat_educational_small_business             uint8\n",
       "input_cat_purpose_cat_home_improvement                       uint8\n",
       "input_cat_purpose_cat_home_improvement_small_business        uint8\n",
       "input_cat_purpose_cat_house                                  uint8\n",
       "input_cat_purpose_cat_house_small_business                   uint8\n",
       "input_cat_purpose_cat_major_purchase                         uint8\n",
       "input_cat_purpose_cat_major_purchase_small_business          uint8\n",
       "input_cat_purpose_cat_medical                                uint8\n",
       "input_cat_purpose_cat_medical_small_business                 uint8\n",
       "input_cat_purpose_cat_moving                                 uint8\n",
       "input_cat_purpose_cat_moving_small_business                  uint8\n",
       "input_cat_purpose_cat_other                                  uint8\n",
       "input_cat_purpose_cat_other_small_business                   uint8\n",
       "input_cat_purpose_cat_renewable_energy                       uint8\n",
       "input_cat_purpose_cat_small_business                         uint8\n",
       "input_cat_purpose_cat_small_business_small_business          uint8\n",
       "input_cat_purpose_cat_vacation                               uint8\n",
       "input_cat_purpose_cat_vacation_small_business                uint8\n",
       "input_cat_purpose_cat_wedding                                uint8\n",
       "input_cat_purpose_cat_wedding_small_business                 uint8\n",
       "input_num_debt_to_income                                   float64\n",
       "input_cat_delinq_2yrs_0                                      uint8\n",
       "input_cat_delinq_2yrs_1                                      uint8\n",
       "input_cat_delinq_2yrs_2                                      uint8\n",
       "input_cat_delinq_2yrs_gt2                                    uint8\n",
       "input_cat_delinq_2yrs_nan                                    uint8\n",
       "input_cat_cr_line_history_yr_5yr                             uint8\n",
       "input_cat_cr_line_history_yr_10yr                            uint8\n",
       "input_cat_cr_line_history_yr_15yr                            uint8\n",
       "input_cat_cr_line_history_yr_20yr                            uint8\n",
       "input_cat_cr_line_history_yr_gt20yr                          uint8\n",
       "input_cat_cr_line_history_yr_nan                             uint8\n",
       "input_cat_inq_last_6mths_0                                   uint8\n",
       "input_cat_inq_last_6mths_1                                   uint8\n",
       "input_cat_inq_last_6mths_2                                   uint8\n",
       "input_cat_inq_last_6mths_gt2                                 uint8\n",
       "input_cat_inq_last_6mths_nan                                 uint8\n",
       "input_cat_mths_since_last_delinq_2yr                         uint8\n",
       "input_cat_mths_since_last_delinq_4yr                         uint8\n",
       "input_cat_mths_since_last_delinq_gt4yr                       uint8\n",
       "input_cat_mths_since_last_delinq_nan                         uint8\n",
       "input_cat_mths_since_last_record_0                           uint8\n",
       "input_cat_mths_since_last_record_7yr                         uint8\n",
       "input_cat_mths_since_last_record_gt7yr                       uint8\n",
       "input_cat_mths_since_last_record_nan                         uint8\n",
       "input_num_open_acc                                         float64\n",
       "input_cat_pub_rec_0                                          uint8\n",
       "input_cat_pub_rec_1                                          uint8\n",
       "input_cat_pub_rec_gt1                                        uint8\n",
       "input_cat_pub_rec_nan                                        uint8\n",
       "input_num_log_revol_bal                                    float64\n",
       "input_num_revol_util                                       float64\n",
       "input_num_total_acc                                        float64\n",
       "input_cat_initial_list_status_m                              int64\n",
       "input_cat_collections_12_mths_ex_med_NA                      int64\n",
       "input_cat_mths_since_last_major_derog_1                      uint8\n",
       "input_cat_mths_since_last_major_derog_2                      uint8\n",
       "input_cat_mths_since_last_major_derog_3                      uint8\n",
       "input_cat_policy_code_PC1                                    uint8\n",
       "input_cat_policy_code_PC2                                    uint8\n",
       "input_cat_policy_code_PC3                                    uint8\n",
       "input_cat_policy_code_PC4                                    uint8\n",
       "input_cat_policy_code_PC5                                    uint8\n",
       "dtype: object"
      ]
     },
     "execution_count": 137,
     "metadata": {},
     "output_type": "execute_result"
    }
   ],
   "source": [
    "df.filter(regex='input|output').shape\n",
    "df.filter(regex='input|output').columns\n",
    "df.filter(regex='input|output').dtypes"
   ]
  },
  {
   "cell_type": "code",
   "execution_count": 138,
   "metadata": {},
   "outputs": [],
   "source": [
    "#save modeling data frame\n",
    "#could round the float64 to reduce the size of csv...but not really necessary for small data\n",
    "df.filter(regex='input|output').to_csv(os.path.join(LOCAL_PATH,'df.csv'))"
   ]
  },
  {
   "cell_type": "markdown",
   "metadata": {},
   "source": [
    "# pilot models"
   ]
  },
  {
   "cell_type": "code",
   "execution_count": 139,
   "metadata": {},
   "outputs": [],
   "source": [
    "df = pd.read_csv(os.path.join(LOCAL_PATH,'df.csv'))"
   ]
  },
  {
   "cell_type": "code",
   "execution_count": 140,
   "metadata": {},
   "outputs": [],
   "source": [
    "#df = pd.read_csv(os.path.join(LOCAL_PATH,FILENAME))"
   ]
  },
  {
   "cell_type": "code",
   "execution_count": 141,
   "metadata": {},
   "outputs": [],
   "source": [
    "df.set_index('Id',inplace=True)"
   ]
  },
  {
   "cell_type": "code",
   "execution_count": 142,
   "metadata": {
    "scrolled": true
   },
   "outputs": [
    {
     "name": "stdout",
     "output_type": "stream",
     "text": [
      "<class 'pandas.core.frame.DataFrame'>\n",
      "Int64Index: 10000 entries, 1 to 10000\n",
      "Data columns (total 86 columns):\n",
      "output_is_bad                                              10000 non-null int64\n",
      "input_cat_employerNA                                       10000 non-null int64\n",
      "input_cat_emp_length_NA                                    10000 non-null int64\n",
      "input_cat_emp_length_1yr                                   10000 non-null int64\n",
      "input_cat_emp_length_3yr                                   10000 non-null int64\n",
      "input_cat_emp_length_6yr                                   10000 non-null int64\n",
      "input_cat_emp_length_9yr                                   10000 non-null int64\n",
      "input_cat_emp_length_10plusyr                              10000 non-null int64\n",
      "input_cat_home_ownership_MORTGAGE                          10000 non-null int64\n",
      "input_cat_home_ownership_NONE                              10000 non-null int64\n",
      "input_cat_home_ownership_OTHER                             10000 non-null int64\n",
      "input_cat_home_ownership_OWN                               10000 non-null int64\n",
      "input_cat_home_ownership_RENT                              10000 non-null int64\n",
      "input_num_log_annual_inc                                   10000 non-null float64\n",
      "input_cat_verified                                         10000 non-null int64\n",
      "input_cat_pymnt_plan                                       10000 non-null int64\n",
      "input_cat_purpose_cat_car                                  10000 non-null int64\n",
      "input_cat_purpose_cat_car_small_business                   10000 non-null int64\n",
      "input_cat_purpose_cat_credit_card                          10000 non-null int64\n",
      "input_cat_purpose_cat_credit_card_small_business           10000 non-null int64\n",
      "input_cat_purpose_cat_debt_consolidation                   10000 non-null int64\n",
      "input_cat_purpose_cat_debt_consolidation_small_business    10000 non-null int64\n",
      "input_cat_purpose_cat_educational                          10000 non-null int64\n",
      "input_cat_purpose_cat_educational_small_business           10000 non-null int64\n",
      "input_cat_purpose_cat_home_improvement                     10000 non-null int64\n",
      "input_cat_purpose_cat_home_improvement_small_business      10000 non-null int64\n",
      "input_cat_purpose_cat_house                                10000 non-null int64\n",
      "input_cat_purpose_cat_house_small_business                 10000 non-null int64\n",
      "input_cat_purpose_cat_major_purchase                       10000 non-null int64\n",
      "input_cat_purpose_cat_major_purchase_small_business        10000 non-null int64\n",
      "input_cat_purpose_cat_medical                              10000 non-null int64\n",
      "input_cat_purpose_cat_medical_small_business               10000 non-null int64\n",
      "input_cat_purpose_cat_moving                               10000 non-null int64\n",
      "input_cat_purpose_cat_moving_small_business                10000 non-null int64\n",
      "input_cat_purpose_cat_other                                10000 non-null int64\n",
      "input_cat_purpose_cat_other_small_business                 10000 non-null int64\n",
      "input_cat_purpose_cat_renewable_energy                     10000 non-null int64\n",
      "input_cat_purpose_cat_small_business                       10000 non-null int64\n",
      "input_cat_purpose_cat_small_business_small_business        10000 non-null int64\n",
      "input_cat_purpose_cat_vacation                             10000 non-null int64\n",
      "input_cat_purpose_cat_vacation_small_business              10000 non-null int64\n",
      "input_cat_purpose_cat_wedding                              10000 non-null int64\n",
      "input_cat_purpose_cat_wedding_small_business               10000 non-null int64\n",
      "input_num_debt_to_income                                   10000 non-null float64\n",
      "input_cat_delinq_2yrs_0                                    10000 non-null int64\n",
      "input_cat_delinq_2yrs_1                                    10000 non-null int64\n",
      "input_cat_delinq_2yrs_2                                    10000 non-null int64\n",
      "input_cat_delinq_2yrs_gt2                                  10000 non-null int64\n",
      "input_cat_delinq_2yrs_nan                                  10000 non-null int64\n",
      "input_cat_cr_line_history_yr_5yr                           10000 non-null int64\n",
      "input_cat_cr_line_history_yr_10yr                          10000 non-null int64\n",
      "input_cat_cr_line_history_yr_15yr                          10000 non-null int64\n",
      "input_cat_cr_line_history_yr_20yr                          10000 non-null int64\n",
      "input_cat_cr_line_history_yr_gt20yr                        10000 non-null int64\n",
      "input_cat_cr_line_history_yr_nan                           10000 non-null int64\n",
      "input_cat_inq_last_6mths_0                                 10000 non-null int64\n",
      "input_cat_inq_last_6mths_1                                 10000 non-null int64\n",
      "input_cat_inq_last_6mths_2                                 10000 non-null int64\n",
      "input_cat_inq_last_6mths_gt2                               10000 non-null int64\n",
      "input_cat_inq_last_6mths_nan                               10000 non-null int64\n",
      "input_cat_mths_since_last_delinq_2yr                       10000 non-null int64\n",
      "input_cat_mths_since_last_delinq_4yr                       10000 non-null int64\n",
      "input_cat_mths_since_last_delinq_gt4yr                     10000 non-null int64\n",
      "input_cat_mths_since_last_delinq_nan                       10000 non-null int64\n",
      "input_cat_mths_since_last_record_0                         10000 non-null int64\n",
      "input_cat_mths_since_last_record_7yr                       10000 non-null int64\n",
      "input_cat_mths_since_last_record_gt7yr                     10000 non-null int64\n",
      "input_cat_mths_since_last_record_nan                       10000 non-null int64\n",
      "input_num_open_acc                                         10000 non-null float64\n",
      "input_cat_pub_rec_0                                        10000 non-null int64\n",
      "input_cat_pub_rec_1                                        10000 non-null int64\n",
      "input_cat_pub_rec_gt1                                      10000 non-null int64\n",
      "input_cat_pub_rec_nan                                      10000 non-null int64\n",
      "input_num_log_revol_bal                                    10000 non-null float64\n",
      "input_num_revol_util                                       10000 non-null float64\n",
      "input_num_total_acc                                        10000 non-null float64\n",
      "input_cat_initial_list_status_m                            10000 non-null int64\n",
      "input_cat_collections_12_mths_ex_med_NA                    10000 non-null int64\n",
      "input_cat_mths_since_last_major_derog_1                    10000 non-null int64\n",
      "input_cat_mths_since_last_major_derog_2                    10000 non-null int64\n",
      "input_cat_mths_since_last_major_derog_3                    10000 non-null int64\n",
      "input_cat_policy_code_PC1                                  10000 non-null int64\n",
      "input_cat_policy_code_PC2                                  10000 non-null int64\n",
      "input_cat_policy_code_PC3                                  10000 non-null int64\n",
      "input_cat_policy_code_PC4                                  10000 non-null int64\n",
      "input_cat_policy_code_PC5                                  10000 non-null int64\n",
      "dtypes: float64(6), int64(80)\n",
      "memory usage: 6.6 MB\n"
     ]
    }
   ],
   "source": [
    "df.info()"
   ]
  },
  {
   "cell_type": "code",
   "execution_count": 143,
   "metadata": {
    "scrolled": true
   },
   "outputs": [
    {
     "data": {
      "text/html": [
       "<div>\n",
       "<style scoped>\n",
       "    .dataframe tbody tr th:only-of-type {\n",
       "        vertical-align: middle;\n",
       "    }\n",
       "\n",
       "    .dataframe tbody tr th {\n",
       "        vertical-align: top;\n",
       "    }\n",
       "\n",
       "    .dataframe thead th {\n",
       "        text-align: right;\n",
       "    }\n",
       "</style>\n",
       "<table border=\"1\" class=\"dataframe\">\n",
       "  <thead>\n",
       "    <tr style=\"text-align: right;\">\n",
       "      <th></th>\n",
       "      <th>output_is_bad</th>\n",
       "      <th>input_cat_employerNA</th>\n",
       "      <th>input_cat_emp_length_NA</th>\n",
       "      <th>input_cat_emp_length_1yr</th>\n",
       "      <th>input_cat_emp_length_3yr</th>\n",
       "      <th>input_cat_emp_length_6yr</th>\n",
       "      <th>input_cat_emp_length_9yr</th>\n",
       "      <th>input_cat_emp_length_10plusyr</th>\n",
       "      <th>input_cat_home_ownership_MORTGAGE</th>\n",
       "      <th>input_cat_home_ownership_NONE</th>\n",
       "      <th>input_cat_home_ownership_OTHER</th>\n",
       "      <th>input_cat_home_ownership_OWN</th>\n",
       "      <th>input_cat_home_ownership_RENT</th>\n",
       "      <th>input_num_log_annual_inc</th>\n",
       "      <th>input_cat_verified</th>\n",
       "      <th>input_cat_pymnt_plan</th>\n",
       "      <th>input_cat_purpose_cat_car</th>\n",
       "      <th>input_cat_purpose_cat_car_small_business</th>\n",
       "      <th>input_cat_purpose_cat_credit_card</th>\n",
       "      <th>input_cat_purpose_cat_credit_card_small_business</th>\n",
       "      <th>input_cat_purpose_cat_debt_consolidation</th>\n",
       "      <th>input_cat_purpose_cat_debt_consolidation_small_business</th>\n",
       "      <th>input_cat_purpose_cat_educational</th>\n",
       "      <th>input_cat_purpose_cat_educational_small_business</th>\n",
       "      <th>input_cat_purpose_cat_home_improvement</th>\n",
       "      <th>input_cat_purpose_cat_home_improvement_small_business</th>\n",
       "      <th>input_cat_purpose_cat_house</th>\n",
       "      <th>input_cat_purpose_cat_house_small_business</th>\n",
       "      <th>input_cat_purpose_cat_major_purchase</th>\n",
       "      <th>input_cat_purpose_cat_major_purchase_small_business</th>\n",
       "      <th>input_cat_purpose_cat_medical</th>\n",
       "      <th>input_cat_purpose_cat_medical_small_business</th>\n",
       "      <th>input_cat_purpose_cat_moving</th>\n",
       "      <th>input_cat_purpose_cat_moving_small_business</th>\n",
       "      <th>input_cat_purpose_cat_other</th>\n",
       "      <th>input_cat_purpose_cat_other_small_business</th>\n",
       "      <th>input_cat_purpose_cat_renewable_energy</th>\n",
       "      <th>input_cat_purpose_cat_small_business</th>\n",
       "      <th>input_cat_purpose_cat_small_business_small_business</th>\n",
       "      <th>input_cat_purpose_cat_vacation</th>\n",
       "      <th>input_cat_purpose_cat_vacation_small_business</th>\n",
       "      <th>input_cat_purpose_cat_wedding</th>\n",
       "      <th>input_cat_purpose_cat_wedding_small_business</th>\n",
       "      <th>input_num_debt_to_income</th>\n",
       "      <th>input_cat_delinq_2yrs_0</th>\n",
       "      <th>input_cat_delinq_2yrs_1</th>\n",
       "      <th>input_cat_delinq_2yrs_2</th>\n",
       "      <th>input_cat_delinq_2yrs_gt2</th>\n",
       "      <th>input_cat_delinq_2yrs_nan</th>\n",
       "      <th>input_cat_cr_line_history_yr_5yr</th>\n",
       "      <th>input_cat_cr_line_history_yr_10yr</th>\n",
       "      <th>input_cat_cr_line_history_yr_15yr</th>\n",
       "      <th>input_cat_cr_line_history_yr_20yr</th>\n",
       "      <th>input_cat_cr_line_history_yr_gt20yr</th>\n",
       "      <th>input_cat_cr_line_history_yr_nan</th>\n",
       "      <th>input_cat_inq_last_6mths_0</th>\n",
       "      <th>input_cat_inq_last_6mths_1</th>\n",
       "      <th>input_cat_inq_last_6mths_2</th>\n",
       "      <th>input_cat_inq_last_6mths_gt2</th>\n",
       "      <th>input_cat_inq_last_6mths_nan</th>\n",
       "      <th>input_cat_mths_since_last_delinq_2yr</th>\n",
       "      <th>input_cat_mths_since_last_delinq_4yr</th>\n",
       "      <th>input_cat_mths_since_last_delinq_gt4yr</th>\n",
       "      <th>input_cat_mths_since_last_delinq_nan</th>\n",
       "      <th>input_cat_mths_since_last_record_0</th>\n",
       "      <th>input_cat_mths_since_last_record_7yr</th>\n",
       "      <th>input_cat_mths_since_last_record_gt7yr</th>\n",
       "      <th>input_cat_mths_since_last_record_nan</th>\n",
       "      <th>input_num_open_acc</th>\n",
       "      <th>input_cat_pub_rec_0</th>\n",
       "      <th>input_cat_pub_rec_1</th>\n",
       "      <th>input_cat_pub_rec_gt1</th>\n",
       "      <th>input_cat_pub_rec_nan</th>\n",
       "      <th>input_num_log_revol_bal</th>\n",
       "      <th>input_num_revol_util</th>\n",
       "      <th>input_num_total_acc</th>\n",
       "      <th>input_cat_initial_list_status_m</th>\n",
       "      <th>input_cat_collections_12_mths_ex_med_NA</th>\n",
       "      <th>input_cat_mths_since_last_major_derog_1</th>\n",
       "      <th>input_cat_mths_since_last_major_derog_2</th>\n",
       "      <th>input_cat_mths_since_last_major_derog_3</th>\n",
       "      <th>input_cat_policy_code_PC1</th>\n",
       "      <th>input_cat_policy_code_PC2</th>\n",
       "      <th>input_cat_policy_code_PC3</th>\n",
       "      <th>input_cat_policy_code_PC4</th>\n",
       "      <th>input_cat_policy_code_PC5</th>\n",
       "    </tr>\n",
       "    <tr>\n",
       "      <th>Id</th>\n",
       "      <th></th>\n",
       "      <th></th>\n",
       "      <th></th>\n",
       "      <th></th>\n",
       "      <th></th>\n",
       "      <th></th>\n",
       "      <th></th>\n",
       "      <th></th>\n",
       "      <th></th>\n",
       "      <th></th>\n",
       "      <th></th>\n",
       "      <th></th>\n",
       "      <th></th>\n",
       "      <th></th>\n",
       "      <th></th>\n",
       "      <th></th>\n",
       "      <th></th>\n",
       "      <th></th>\n",
       "      <th></th>\n",
       "      <th></th>\n",
       "      <th></th>\n",
       "      <th></th>\n",
       "      <th></th>\n",
       "      <th></th>\n",
       "      <th></th>\n",
       "      <th></th>\n",
       "      <th></th>\n",
       "      <th></th>\n",
       "      <th></th>\n",
       "      <th></th>\n",
       "      <th></th>\n",
       "      <th></th>\n",
       "      <th></th>\n",
       "      <th></th>\n",
       "      <th></th>\n",
       "      <th></th>\n",
       "      <th></th>\n",
       "      <th></th>\n",
       "      <th></th>\n",
       "      <th></th>\n",
       "      <th></th>\n",
       "      <th></th>\n",
       "      <th></th>\n",
       "      <th></th>\n",
       "      <th></th>\n",
       "      <th></th>\n",
       "      <th></th>\n",
       "      <th></th>\n",
       "      <th></th>\n",
       "      <th></th>\n",
       "      <th></th>\n",
       "      <th></th>\n",
       "      <th></th>\n",
       "      <th></th>\n",
       "      <th></th>\n",
       "      <th></th>\n",
       "      <th></th>\n",
       "      <th></th>\n",
       "      <th></th>\n",
       "      <th></th>\n",
       "      <th></th>\n",
       "      <th></th>\n",
       "      <th></th>\n",
       "      <th></th>\n",
       "      <th></th>\n",
       "      <th></th>\n",
       "      <th></th>\n",
       "      <th></th>\n",
       "      <th></th>\n",
       "      <th></th>\n",
       "      <th></th>\n",
       "      <th></th>\n",
       "      <th></th>\n",
       "      <th></th>\n",
       "      <th></th>\n",
       "      <th></th>\n",
       "      <th></th>\n",
       "      <th></th>\n",
       "      <th></th>\n",
       "      <th></th>\n",
       "      <th></th>\n",
       "      <th></th>\n",
       "      <th></th>\n",
       "      <th></th>\n",
       "      <th></th>\n",
       "      <th></th>\n",
       "    </tr>\n",
       "  </thead>\n",
       "  <tbody>\n",
       "    <tr>\n",
       "      <th>1</th>\n",
       "      <td>0</td>\n",
       "      <td>0</td>\n",
       "      <td>0</td>\n",
       "      <td>0</td>\n",
       "      <td>0</td>\n",
       "      <td>0</td>\n",
       "      <td>0</td>\n",
       "      <td>1</td>\n",
       "      <td>1</td>\n",
       "      <td>0</td>\n",
       "      <td>0</td>\n",
       "      <td>0</td>\n",
       "      <td>0</td>\n",
       "      <td>10.819798</td>\n",
       "      <td>0</td>\n",
       "      <td>0</td>\n",
       "      <td>0</td>\n",
       "      <td>0</td>\n",
       "      <td>0</td>\n",
       "      <td>0</td>\n",
       "      <td>0</td>\n",
       "      <td>0</td>\n",
       "      <td>0</td>\n",
       "      <td>0</td>\n",
       "      <td>0</td>\n",
       "      <td>0</td>\n",
       "      <td>0</td>\n",
       "      <td>0</td>\n",
       "      <td>0</td>\n",
       "      <td>0</td>\n",
       "      <td>1</td>\n",
       "      <td>0</td>\n",
       "      <td>0</td>\n",
       "      <td>0</td>\n",
       "      <td>0</td>\n",
       "      <td>0</td>\n",
       "      <td>0</td>\n",
       "      <td>0</td>\n",
       "      <td>0</td>\n",
       "      <td>0</td>\n",
       "      <td>0</td>\n",
       "      <td>0</td>\n",
       "      <td>0</td>\n",
       "      <td>10.87</td>\n",
       "      <td>1</td>\n",
       "      <td>0</td>\n",
       "      <td>0</td>\n",
       "      <td>0</td>\n",
       "      <td>0</td>\n",
       "      <td>0</td>\n",
       "      <td>0</td>\n",
       "      <td>0</td>\n",
       "      <td>1</td>\n",
       "      <td>0</td>\n",
       "      <td>0</td>\n",
       "      <td>1</td>\n",
       "      <td>0</td>\n",
       "      <td>0</td>\n",
       "      <td>0</td>\n",
       "      <td>0</td>\n",
       "      <td>0</td>\n",
       "      <td>0</td>\n",
       "      <td>0</td>\n",
       "      <td>1</td>\n",
       "      <td>0</td>\n",
       "      <td>0</td>\n",
       "      <td>0</td>\n",
       "      <td>1</td>\n",
       "      <td>15.0</td>\n",
       "      <td>1</td>\n",
       "      <td>0</td>\n",
       "      <td>0</td>\n",
       "      <td>0</td>\n",
       "      <td>9.399969</td>\n",
       "      <td>12.1</td>\n",
       "      <td>44.0</td>\n",
       "      <td>0</td>\n",
       "      <td>0</td>\n",
       "      <td>1</td>\n",
       "      <td>0</td>\n",
       "      <td>0</td>\n",
       "      <td>0</td>\n",
       "      <td>0</td>\n",
       "      <td>0</td>\n",
       "      <td>1</td>\n",
       "      <td>0</td>\n",
       "    </tr>\n",
       "    <tr>\n",
       "      <th>2</th>\n",
       "      <td>0</td>\n",
       "      <td>0</td>\n",
       "      <td>0</td>\n",
       "      <td>1</td>\n",
       "      <td>0</td>\n",
       "      <td>0</td>\n",
       "      <td>0</td>\n",
       "      <td>0</td>\n",
       "      <td>0</td>\n",
       "      <td>0</td>\n",
       "      <td>0</td>\n",
       "      <td>0</td>\n",
       "      <td>1</td>\n",
       "      <td>10.576866</td>\n",
       "      <td>0</td>\n",
       "      <td>0</td>\n",
       "      <td>0</td>\n",
       "      <td>0</td>\n",
       "      <td>0</td>\n",
       "      <td>0</td>\n",
       "      <td>1</td>\n",
       "      <td>0</td>\n",
       "      <td>0</td>\n",
       "      <td>0</td>\n",
       "      <td>0</td>\n",
       "      <td>0</td>\n",
       "      <td>0</td>\n",
       "      <td>0</td>\n",
       "      <td>0</td>\n",
       "      <td>0</td>\n",
       "      <td>0</td>\n",
       "      <td>0</td>\n",
       "      <td>0</td>\n",
       "      <td>0</td>\n",
       "      <td>0</td>\n",
       "      <td>0</td>\n",
       "      <td>0</td>\n",
       "      <td>0</td>\n",
       "      <td>0</td>\n",
       "      <td>0</td>\n",
       "      <td>0</td>\n",
       "      <td>0</td>\n",
       "      <td>0</td>\n",
       "      <td>9.15</td>\n",
       "      <td>1</td>\n",
       "      <td>0</td>\n",
       "      <td>0</td>\n",
       "      <td>0</td>\n",
       "      <td>0</td>\n",
       "      <td>1</td>\n",
       "      <td>0</td>\n",
       "      <td>0</td>\n",
       "      <td>0</td>\n",
       "      <td>0</td>\n",
       "      <td>0</td>\n",
       "      <td>0</td>\n",
       "      <td>0</td>\n",
       "      <td>1</td>\n",
       "      <td>0</td>\n",
       "      <td>0</td>\n",
       "      <td>0</td>\n",
       "      <td>0</td>\n",
       "      <td>0</td>\n",
       "      <td>1</td>\n",
       "      <td>0</td>\n",
       "      <td>0</td>\n",
       "      <td>0</td>\n",
       "      <td>1</td>\n",
       "      <td>4.0</td>\n",
       "      <td>1</td>\n",
       "      <td>0</td>\n",
       "      <td>0</td>\n",
       "      <td>0</td>\n",
       "      <td>9.221775</td>\n",
       "      <td>64.0</td>\n",
       "      <td>5.0</td>\n",
       "      <td>0</td>\n",
       "      <td>0</td>\n",
       "      <td>0</td>\n",
       "      <td>1</td>\n",
       "      <td>0</td>\n",
       "      <td>1</td>\n",
       "      <td>0</td>\n",
       "      <td>0</td>\n",
       "      <td>0</td>\n",
       "      <td>0</td>\n",
       "    </tr>\n",
       "    <tr>\n",
       "      <th>3</th>\n",
       "      <td>0</td>\n",
       "      <td>0</td>\n",
       "      <td>0</td>\n",
       "      <td>0</td>\n",
       "      <td>0</td>\n",
       "      <td>1</td>\n",
       "      <td>0</td>\n",
       "      <td>0</td>\n",
       "      <td>0</td>\n",
       "      <td>0</td>\n",
       "      <td>0</td>\n",
       "      <td>0</td>\n",
       "      <td>1</td>\n",
       "      <td>11.082158</td>\n",
       "      <td>0</td>\n",
       "      <td>0</td>\n",
       "      <td>0</td>\n",
       "      <td>0</td>\n",
       "      <td>1</td>\n",
       "      <td>0</td>\n",
       "      <td>0</td>\n",
       "      <td>0</td>\n",
       "      <td>0</td>\n",
       "      <td>0</td>\n",
       "      <td>0</td>\n",
       "      <td>0</td>\n",
       "      <td>0</td>\n",
       "      <td>0</td>\n",
       "      <td>0</td>\n",
       "      <td>0</td>\n",
       "      <td>0</td>\n",
       "      <td>0</td>\n",
       "      <td>0</td>\n",
       "      <td>0</td>\n",
       "      <td>0</td>\n",
       "      <td>0</td>\n",
       "      <td>0</td>\n",
       "      <td>0</td>\n",
       "      <td>0</td>\n",
       "      <td>0</td>\n",
       "      <td>0</td>\n",
       "      <td>0</td>\n",
       "      <td>0</td>\n",
       "      <td>11.24</td>\n",
       "      <td>1</td>\n",
       "      <td>0</td>\n",
       "      <td>0</td>\n",
       "      <td>0</td>\n",
       "      <td>0</td>\n",
       "      <td>0</td>\n",
       "      <td>0</td>\n",
       "      <td>0</td>\n",
       "      <td>0</td>\n",
       "      <td>1</td>\n",
       "      <td>0</td>\n",
       "      <td>1</td>\n",
       "      <td>0</td>\n",
       "      <td>0</td>\n",
       "      <td>0</td>\n",
       "      <td>0</td>\n",
       "      <td>0</td>\n",
       "      <td>0</td>\n",
       "      <td>0</td>\n",
       "      <td>1</td>\n",
       "      <td>0</td>\n",
       "      <td>0</td>\n",
       "      <td>0</td>\n",
       "      <td>1</td>\n",
       "      <td>4.0</td>\n",
       "      <td>1</td>\n",
       "      <td>0</td>\n",
       "      <td>0</td>\n",
       "      <td>0</td>\n",
       "      <td>4.406719</td>\n",
       "      <td>0.6</td>\n",
       "      <td>8.0</td>\n",
       "      <td>0</td>\n",
       "      <td>0</td>\n",
       "      <td>0</td>\n",
       "      <td>0</td>\n",
       "      <td>1</td>\n",
       "      <td>0</td>\n",
       "      <td>0</td>\n",
       "      <td>0</td>\n",
       "      <td>1</td>\n",
       "      <td>0</td>\n",
       "    </tr>\n",
       "    <tr>\n",
       "      <th>4</th>\n",
       "      <td>0</td>\n",
       "      <td>0</td>\n",
       "      <td>0</td>\n",
       "      <td>0</td>\n",
       "      <td>0</td>\n",
       "      <td>0</td>\n",
       "      <td>0</td>\n",
       "      <td>1</td>\n",
       "      <td>1</td>\n",
       "      <td>0</td>\n",
       "      <td>0</td>\n",
       "      <td>0</td>\n",
       "      <td>0</td>\n",
       "      <td>10.959558</td>\n",
       "      <td>0</td>\n",
       "      <td>0</td>\n",
       "      <td>0</td>\n",
       "      <td>0</td>\n",
       "      <td>0</td>\n",
       "      <td>0</td>\n",
       "      <td>1</td>\n",
       "      <td>0</td>\n",
       "      <td>0</td>\n",
       "      <td>0</td>\n",
       "      <td>0</td>\n",
       "      <td>0</td>\n",
       "      <td>0</td>\n",
       "      <td>0</td>\n",
       "      <td>0</td>\n",
       "      <td>0</td>\n",
       "      <td>0</td>\n",
       "      <td>0</td>\n",
       "      <td>0</td>\n",
       "      <td>0</td>\n",
       "      <td>0</td>\n",
       "      <td>0</td>\n",
       "      <td>0</td>\n",
       "      <td>0</td>\n",
       "      <td>0</td>\n",
       "      <td>0</td>\n",
       "      <td>0</td>\n",
       "      <td>0</td>\n",
       "      <td>0</td>\n",
       "      <td>6.18</td>\n",
       "      <td>0</td>\n",
       "      <td>1</td>\n",
       "      <td>0</td>\n",
       "      <td>0</td>\n",
       "      <td>0</td>\n",
       "      <td>0</td>\n",
       "      <td>0</td>\n",
       "      <td>0</td>\n",
       "      <td>0</td>\n",
       "      <td>1</td>\n",
       "      <td>0</td>\n",
       "      <td>1</td>\n",
       "      <td>0</td>\n",
       "      <td>0</td>\n",
       "      <td>0</td>\n",
       "      <td>0</td>\n",
       "      <td>1</td>\n",
       "      <td>0</td>\n",
       "      <td>0</td>\n",
       "      <td>0</td>\n",
       "      <td>0</td>\n",
       "      <td>0</td>\n",
       "      <td>0</td>\n",
       "      <td>1</td>\n",
       "      <td>6.0</td>\n",
       "      <td>1</td>\n",
       "      <td>0</td>\n",
       "      <td>0</td>\n",
       "      <td>0</td>\n",
       "      <td>9.213436</td>\n",
       "      <td>37.1</td>\n",
       "      <td>23.0</td>\n",
       "      <td>0</td>\n",
       "      <td>0</td>\n",
       "      <td>0</td>\n",
       "      <td>1</td>\n",
       "      <td>0</td>\n",
       "      <td>0</td>\n",
       "      <td>1</td>\n",
       "      <td>0</td>\n",
       "      <td>0</td>\n",
       "      <td>0</td>\n",
       "    </tr>\n",
       "    <tr>\n",
       "      <th>5</th>\n",
       "      <td>0</td>\n",
       "      <td>0</td>\n",
       "      <td>0</td>\n",
       "      <td>0</td>\n",
       "      <td>0</td>\n",
       "      <td>0</td>\n",
       "      <td>0</td>\n",
       "      <td>1</td>\n",
       "      <td>1</td>\n",
       "      <td>0</td>\n",
       "      <td>0</td>\n",
       "      <td>0</td>\n",
       "      <td>0</td>\n",
       "      <td>10.819878</td>\n",
       "      <td>1</td>\n",
       "      <td>0</td>\n",
       "      <td>0</td>\n",
       "      <td>0</td>\n",
       "      <td>0</td>\n",
       "      <td>0</td>\n",
       "      <td>1</td>\n",
       "      <td>0</td>\n",
       "      <td>0</td>\n",
       "      <td>0</td>\n",
       "      <td>0</td>\n",
       "      <td>0</td>\n",
       "      <td>0</td>\n",
       "      <td>0</td>\n",
       "      <td>0</td>\n",
       "      <td>0</td>\n",
       "      <td>0</td>\n",
       "      <td>0</td>\n",
       "      <td>0</td>\n",
       "      <td>0</td>\n",
       "      <td>0</td>\n",
       "      <td>0</td>\n",
       "      <td>0</td>\n",
       "      <td>0</td>\n",
       "      <td>0</td>\n",
       "      <td>0</td>\n",
       "      <td>0</td>\n",
       "      <td>0</td>\n",
       "      <td>0</td>\n",
       "      <td>19.03</td>\n",
       "      <td>1</td>\n",
       "      <td>0</td>\n",
       "      <td>0</td>\n",
       "      <td>0</td>\n",
       "      <td>0</td>\n",
       "      <td>0</td>\n",
       "      <td>1</td>\n",
       "      <td>0</td>\n",
       "      <td>0</td>\n",
       "      <td>0</td>\n",
       "      <td>0</td>\n",
       "      <td>0</td>\n",
       "      <td>0</td>\n",
       "      <td>0</td>\n",
       "      <td>1</td>\n",
       "      <td>0</td>\n",
       "      <td>0</td>\n",
       "      <td>0</td>\n",
       "      <td>0</td>\n",
       "      <td>1</td>\n",
       "      <td>0</td>\n",
       "      <td>0</td>\n",
       "      <td>0</td>\n",
       "      <td>1</td>\n",
       "      <td>8.0</td>\n",
       "      <td>1</td>\n",
       "      <td>0</td>\n",
       "      <td>0</td>\n",
       "      <td>0</td>\n",
       "      <td>9.281823</td>\n",
       "      <td>40.4</td>\n",
       "      <td>21.0</td>\n",
       "      <td>0</td>\n",
       "      <td>0</td>\n",
       "      <td>0</td>\n",
       "      <td>0</td>\n",
       "      <td>1</td>\n",
       "      <td>0</td>\n",
       "      <td>0</td>\n",
       "      <td>1</td>\n",
       "      <td>0</td>\n",
       "      <td>0</td>\n",
       "    </tr>\n",
       "  </tbody>\n",
       "</table>\n",
       "</div>"
      ],
      "text/plain": [
       "    output_is_bad  input_cat_employerNA  input_cat_emp_length_NA  input_cat_emp_length_1yr  input_cat_emp_length_3yr  input_cat_emp_length_6yr  input_cat_emp_length_9yr  input_cat_emp_length_10plusyr  input_cat_home_ownership_MORTGAGE  input_cat_home_ownership_NONE  input_cat_home_ownership_OTHER  input_cat_home_ownership_OWN  input_cat_home_ownership_RENT  input_num_log_annual_inc  input_cat_verified  input_cat_pymnt_plan  input_cat_purpose_cat_car  input_cat_purpose_cat_car_small_business  input_cat_purpose_cat_credit_card  input_cat_purpose_cat_credit_card_small_business  input_cat_purpose_cat_debt_consolidation  input_cat_purpose_cat_debt_consolidation_small_business  input_cat_purpose_cat_educational  input_cat_purpose_cat_educational_small_business  input_cat_purpose_cat_home_improvement  input_cat_purpose_cat_home_improvement_small_business  input_cat_purpose_cat_house  input_cat_purpose_cat_house_small_business  input_cat_purpose_cat_major_purchase  \\\n",
       "Id                                                                                                                                                                                                                                                                                                                                                                                                                                                                                                                                                                                                                                                                                                                                                                                                                                                                                                                                                                                                           \n",
       "1               0                     0                        0                         0                         0                         0                         0                              1                                  1                              0                               0                             0                              0                 10.819798                   0                     0                          0                                         0                                  0                                                 0                                         0                                                        0                                  0                                                 0                                       0                                                      0                            0                                           0                                     0   \n",
       "2               0                     0                        0                         1                         0                         0                         0                              0                                  0                              0                               0                             0                              1                 10.576866                   0                     0                          0                                         0                                  0                                                 0                                         1                                                        0                                  0                                                 0                                       0                                                      0                            0                                           0                                     0   \n",
       "3               0                     0                        0                         0                         0                         1                         0                              0                                  0                              0                               0                             0                              1                 11.082158                   0                     0                          0                                         0                                  1                                                 0                                         0                                                        0                                  0                                                 0                                       0                                                      0                            0                                           0                                     0   \n",
       "4               0                     0                        0                         0                         0                         0                         0                              1                                  1                              0                               0                             0                              0                 10.959558                   0                     0                          0                                         0                                  0                                                 0                                         1                                                        0                                  0                                                 0                                       0                                                      0                            0                                           0                                     0   \n",
       "5               0                     0                        0                         0                         0                         0                         0                              1                                  1                              0                               0                             0                              0                 10.819878                   1                     0                          0                                         0                                  0                                                 0                                         1                                                        0                                  0                                                 0                                       0                                                      0                            0                                           0                                     0   \n",
       "\n",
       "    input_cat_purpose_cat_major_purchase_small_business  input_cat_purpose_cat_medical  input_cat_purpose_cat_medical_small_business  input_cat_purpose_cat_moving  input_cat_purpose_cat_moving_small_business  input_cat_purpose_cat_other  input_cat_purpose_cat_other_small_business  input_cat_purpose_cat_renewable_energy  input_cat_purpose_cat_small_business  input_cat_purpose_cat_small_business_small_business  input_cat_purpose_cat_vacation  input_cat_purpose_cat_vacation_small_business  input_cat_purpose_cat_wedding  input_cat_purpose_cat_wedding_small_business  input_num_debt_to_income  input_cat_delinq_2yrs_0  input_cat_delinq_2yrs_1  input_cat_delinq_2yrs_2  input_cat_delinq_2yrs_gt2  input_cat_delinq_2yrs_nan  input_cat_cr_line_history_yr_5yr  input_cat_cr_line_history_yr_10yr  input_cat_cr_line_history_yr_15yr  input_cat_cr_line_history_yr_20yr  input_cat_cr_line_history_yr_gt20yr  input_cat_cr_line_history_yr_nan  input_cat_inq_last_6mths_0  input_cat_inq_last_6mths_1  \\\n",
       "Id                                                                                                                                                                                                                                                                                                                                                                                                                                                                                                                                                                                                                                                                                                                                                                                                                                                                                                                                                                                                                             \n",
       "1                                                     0                              1                                             0                             0                                            0                            0                                           0                                       0                                     0                                                    0                               0                                              0                              0                                             0                     10.87                        1                        0                        0                          0                          0                                 0                                  0                                  0                                  1                                    0                                 0                           1                           0   \n",
       "2                                                     0                              0                                             0                             0                                            0                            0                                           0                                       0                                     0                                                    0                               0                                              0                              0                                             0                      9.15                        1                        0                        0                          0                          0                                 1                                  0                                  0                                  0                                    0                                 0                           0                           0   \n",
       "3                                                     0                              0                                             0                             0                                            0                            0                                           0                                       0                                     0                                                    0                               0                                              0                              0                                             0                     11.24                        1                        0                        0                          0                          0                                 0                                  0                                  0                                  0                                    1                                 0                           1                           0   \n",
       "4                                                     0                              0                                             0                             0                                            0                            0                                           0                                       0                                     0                                                    0                               0                                              0                              0                                             0                      6.18                        0                        1                        0                          0                          0                                 0                                  0                                  0                                  0                                    1                                 0                           1                           0   \n",
       "5                                                     0                              0                                             0                             0                                            0                            0                                           0                                       0                                     0                                                    0                               0                                              0                              0                                             0                     19.03                        1                        0                        0                          0                          0                                 0                                  1                                  0                                  0                                    0                                 0                           0                           0   \n",
       "\n",
       "    input_cat_inq_last_6mths_2  input_cat_inq_last_6mths_gt2  input_cat_inq_last_6mths_nan  input_cat_mths_since_last_delinq_2yr  input_cat_mths_since_last_delinq_4yr  input_cat_mths_since_last_delinq_gt4yr  input_cat_mths_since_last_delinq_nan  input_cat_mths_since_last_record_0  input_cat_mths_since_last_record_7yr  input_cat_mths_since_last_record_gt7yr  input_cat_mths_since_last_record_nan  input_num_open_acc  input_cat_pub_rec_0  input_cat_pub_rec_1  input_cat_pub_rec_gt1  input_cat_pub_rec_nan  input_num_log_revol_bal  input_num_revol_util  input_num_total_acc  input_cat_initial_list_status_m  input_cat_collections_12_mths_ex_med_NA  input_cat_mths_since_last_major_derog_1  input_cat_mths_since_last_major_derog_2  input_cat_mths_since_last_major_derog_3  input_cat_policy_code_PC1  input_cat_policy_code_PC2  input_cat_policy_code_PC3  input_cat_policy_code_PC4  input_cat_policy_code_PC5  \n",
       "Id                                                                                                                                                                                                                                                                                                                                                                                                                                                                                                                                                                                                                                                                                                                                                                                                                                                                                                                                        \n",
       "1                            0                             0                             0                                     0                                     0                                       0                                     1                                   0                                     0                                       0                                     1                15.0                    1                    0                      0                      0                 9.399969                  12.1                 44.0                                0                                        0                                        1                                        0                                        0                          0                          0                          0                          1                          0  \n",
       "2                            1                             0                             0                                     0                                     0                                       0                                     1                                   0                                     0                                       0                                     1                 4.0                    1                    0                      0                      0                 9.221775                  64.0                  5.0                                0                                        0                                        0                                        1                                        0                          1                          0                          0                          0                          0  \n",
       "3                            0                             0                             0                                     0                                     0                                       0                                     1                                   0                                     0                                       0                                     1                 4.0                    1                    0                      0                      0                 4.406719                   0.6                  8.0                                0                                        0                                        0                                        0                                        1                          0                          0                          0                          1                          0  \n",
       "4                            0                             0                             0                                     1                                     0                                       0                                     0                                   0                                     0                                       0                                     1                 6.0                    1                    0                      0                      0                 9.213436                  37.1                 23.0                                0                                        0                                        0                                        1                                        0                          0                          1                          0                          0                          0  \n",
       "5                            0                             1                             0                                     0                                     0                                       0                                     1                                   0                                     0                                       0                                     1                 8.0                    1                    0                      0                      0                 9.281823                  40.4                 21.0                                0                                        0                                        0                                        0                                        1                          0                          0                          1                          0                          0  "
      ]
     },
     "execution_count": 143,
     "metadata": {},
     "output_type": "execute_result"
    }
   ],
   "source": [
    "df.head()"
   ]
  },
  {
   "cell_type": "code",
   "execution_count": 144,
   "metadata": {},
   "outputs": [
    {
     "data": {
      "text/plain": [
       "0.1295"
      ]
     },
     "execution_count": 144,
     "metadata": {},
     "output_type": "execute_result"
    }
   ],
   "source": [
    "df.output_is_bad.mean()"
   ]
  },
  {
   "cell_type": "code",
   "execution_count": 145,
   "metadata": {},
   "outputs": [],
   "source": [
    "from sklearn.model_selection import train_test_split"
   ]
  },
  {
   "cell_type": "code",
   "execution_count": 146,
   "metadata": {},
   "outputs": [],
   "source": [
    "from sklearn import metrics"
   ]
  },
  {
   "cell_type": "code",
   "execution_count": 147,
   "metadata": {},
   "outputs": [],
   "source": [
    "y = df.output_is_bad.values\n",
    "\n",
    "X = df.filter(regex='input').values"
   ]
  },
  {
   "cell_type": "code",
   "execution_count": 148,
   "metadata": {},
   "outputs": [
    {
     "data": {
      "text/plain": [
       "100.6"
      ]
     },
     "execution_count": 148,
     "metadata": {},
     "output_type": "execute_result"
    },
    {
     "data": {
      "text/plain": [
       "0.0"
      ]
     },
     "execution_count": 148,
     "metadata": {},
     "output_type": "execute_result"
    },
    {
     "data": {
      "text/plain": [
       "1"
      ]
     },
     "execution_count": 148,
     "metadata": {},
     "output_type": "execute_result"
    },
    {
     "data": {
      "text/plain": [
       "0"
      ]
     },
     "execution_count": 148,
     "metadata": {},
     "output_type": "execute_result"
    }
   ],
   "source": [
    "X.max()\n",
    "X.min()\n",
    "y.max()\n",
    "y.min()"
   ]
  },
  {
   "cell_type": "code",
   "execution_count": 149,
   "metadata": {},
   "outputs": [
    {
     "data": {
      "text/plain": [
       "(10000, 85)"
      ]
     },
     "execution_count": 149,
     "metadata": {},
     "output_type": "execute_result"
    },
    {
     "data": {
      "text/plain": [
       "(10000,)"
      ]
     },
     "execution_count": 149,
     "metadata": {},
     "output_type": "execute_result"
    }
   ],
   "source": [
    "X.shape\n",
    "y.shape"
   ]
  },
  {
   "cell_type": "markdown",
   "metadata": {},
   "source": [
    "## MLP"
   ]
  },
  {
   "cell_type": "code",
   "execution_count": 150,
   "metadata": {},
   "outputs": [],
   "source": [
    "#probably not much benefit to use neural network for such small dataset"
   ]
  },
  {
   "cell_type": "code",
   "execution_count": 151,
   "metadata": {},
   "outputs": [],
   "source": [
    "#Here scaling is used (for practical reason) for faster approaching to global minima at error surface"
   ]
  },
  {
   "cell_type": "code",
   "execution_count": 152,
   "metadata": {},
   "outputs": [],
   "source": [
    "from sklearn.preprocessing import MinMaxScaler\n",
    "\n",
    "scaler = MinMaxScaler()"
   ]
  },
  {
   "cell_type": "code",
   "execution_count": 153,
   "metadata": {},
   "outputs": [],
   "source": [
    "X_scale = scaler.fit_transform(X)"
   ]
  },
  {
   "cell_type": "code",
   "execution_count": 154,
   "metadata": {},
   "outputs": [
    {
     "data": {
      "text/plain": [
       "(10000, 85)"
      ]
     },
     "execution_count": 154,
     "metadata": {},
     "output_type": "execute_result"
    },
    {
     "data": {
      "text/plain": [
       "1.0"
      ]
     },
     "execution_count": 154,
     "metadata": {},
     "output_type": "execute_result"
    }
   ],
   "source": [
    "X_scale.shape\n",
    "X_scale.max()"
   ]
  },
  {
   "cell_type": "code",
   "execution_count": 155,
   "metadata": {},
   "outputs": [],
   "source": [
    "X_train, X_test, y_train, y_test = train_test_split(X_scale, y, test_size=0.2, random_state = 42)"
   ]
  },
  {
   "cell_type": "code",
   "execution_count": 156,
   "metadata": {},
   "outputs": [
    {
     "name": "stdout",
     "output_type": "stream",
     "text": [
      "8000 train samples\n",
      "2000 test samples\n"
     ]
    }
   ],
   "source": [
    "print(len(y_train),'train samples')\n",
    "print(len(y_test),'test samples')"
   ]
  },
  {
   "cell_type": "code",
   "execution_count": 157,
   "metadata": {
    "scrolled": true
   },
   "outputs": [
    {
     "name": "stderr",
     "output_type": "stream",
     "text": [
      "Using TensorFlow backend.\n"
     ]
    },
    {
     "name": "stdout",
     "output_type": "stream",
     "text": [
      "WARNING:tensorflow:From /home/nli/anaconda3/lib/python3.7/site-packages/tensorflow/python/framework/op_def_library.py:263: colocate_with (from tensorflow.python.framework.ops) is deprecated and will be removed in a future version.\n",
      "Instructions for updating:\n",
      "Colocations handled automatically by placer.\n",
      "WARNING:tensorflow:From /home/nli/anaconda3/lib/python3.7/site-packages/keras/backend/tensorflow_backend.py:3445: calling dropout (from tensorflow.python.ops.nn_ops) with keep_prob is deprecated and will be removed in a future version.\n",
      "Instructions for updating:\n",
      "Please use `rate` instead of `keep_prob`. Rate should be set to `rate = 1 - keep_prob`.\n",
      "_________________________________________________________________\n",
      "Layer (type)                 Output Shape              Param #   \n",
      "=================================================================\n",
      "dense_1 (Dense)              (None, 64)                5504      \n",
      "_________________________________________________________________\n",
      "dropout_1 (Dropout)          (None, 64)                0         \n",
      "_________________________________________________________________\n",
      "dense_2 (Dense)              (None, 64)                4160      \n",
      "_________________________________________________________________\n",
      "dropout_2 (Dropout)          (None, 64)                0         \n",
      "_________________________________________________________________\n",
      "preds (Dense)                (None, 1)                 65        \n",
      "=================================================================\n",
      "Total params: 9,729\n",
      "Trainable params: 9,729\n",
      "Non-trainable params: 0\n",
      "_________________________________________________________________\n",
      "WARNING:tensorflow:From /home/nli/anaconda3/lib/python3.7/site-packages/tensorflow/python/ops/math_ops.py:3066: to_int32 (from tensorflow.python.ops.math_ops) is deprecated and will be removed in a future version.\n",
      "Instructions for updating:\n",
      "Use tf.cast instead.\n",
      "Train on 8000 samples, validate on 2000 samples\n",
      "Epoch 1/20\n",
      "8000/8000 [==============================] - 0s 33us/step - loss: 0.5431 - acc: 0.7576 - val_loss: 0.4353 - val_acc: 0.8635\n",
      "Epoch 2/20\n",
      "8000/8000 [==============================] - 0s 5us/step - loss: 0.4395 - acc: 0.8613 - val_loss: 0.4077 - val_acc: 0.8635\n",
      "Epoch 3/20\n",
      "8000/8000 [==============================] - 0s 4us/step - loss: 0.4341 - acc: 0.8714 - val_loss: 0.4114 - val_acc: 0.8635\n",
      "Epoch 4/20\n",
      "8000/8000 [==============================] - 0s 4us/step - loss: 0.4189 - acc: 0.8720 - val_loss: 0.4057 - val_acc: 0.8635\n",
      "Epoch 5/20\n",
      "8000/8000 [==============================] - 0s 3us/step - loss: 0.4174 - acc: 0.8718 - val_loss: 0.4030 - val_acc: 0.8635\n",
      "Epoch 6/20\n",
      "8000/8000 [==============================] - 0s 4us/step - loss: 0.4122 - acc: 0.8719 - val_loss: 0.4028 - val_acc: 0.8635\n",
      "Epoch 7/20\n",
      "8000/8000 [==============================] - 0s 4us/step - loss: 0.4126 - acc: 0.8721 - val_loss: 0.4023 - val_acc: 0.8635\n",
      "Epoch 8/20\n",
      "8000/8000 [==============================] - 0s 4us/step - loss: 0.4124 - acc: 0.8721 - val_loss: 0.4016 - val_acc: 0.8635\n",
      "Epoch 9/20\n",
      "8000/8000 [==============================] - 0s 4us/step - loss: 0.4091 - acc: 0.8722 - val_loss: 0.4008 - val_acc: 0.8635\n",
      "Epoch 10/20\n",
      "8000/8000 [==============================] - 0s 3us/step - loss: 0.4031 - acc: 0.8723 - val_loss: 0.4000 - val_acc: 0.8635\n",
      "Epoch 11/20\n",
      "8000/8000 [==============================] - 0s 3us/step - loss: 0.4008 - acc: 0.8722 - val_loss: 0.3995 - val_acc: 0.8635\n",
      "Epoch 12/20\n",
      "8000/8000 [==============================] - 0s 3us/step - loss: 0.4000 - acc: 0.8722 - val_loss: 0.3993 - val_acc: 0.8635\n",
      "Epoch 13/20\n",
      "8000/8000 [==============================] - 0s 3us/step - loss: 0.4000 - acc: 0.8723 - val_loss: 0.3990 - val_acc: 0.8635\n",
      "Epoch 14/20\n",
      "8000/8000 [==============================] - 0s 3us/step - loss: 0.4012 - acc: 0.8723 - val_loss: 0.3988 - val_acc: 0.8635\n",
      "Epoch 15/20\n",
      "8000/8000 [==============================] - 0s 3us/step - loss: 0.3974 - acc: 0.8723 - val_loss: 0.3986 - val_acc: 0.8635\n",
      "Epoch 16/20\n",
      "8000/8000 [==============================] - 0s 3us/step - loss: 0.3997 - acc: 0.8723 - val_loss: 0.3984 - val_acc: 0.8635\n",
      "Epoch 17/20\n",
      "8000/8000 [==============================] - 0s 3us/step - loss: 0.4007 - acc: 0.8723 - val_loss: 0.3982 - val_acc: 0.8635\n",
      "Epoch 18/20\n",
      "8000/8000 [==============================] - 0s 3us/step - loss: 0.3944 - acc: 0.8722 - val_loss: 0.3978 - val_acc: 0.8635\n",
      "Epoch 19/20\n",
      "8000/8000 [==============================] - 0s 3us/step - loss: 0.3946 - acc: 0.8723 - val_loss: 0.3974 - val_acc: 0.8635\n",
      "Epoch 20/20\n",
      "8000/8000 [==============================] - 0s 4us/step - loss: 0.3982 - acc: 0.8722 - val_loss: 0.3972 - val_acc: 0.8635\n",
      "2000/2000 [==============================] - 0s 2us/step\n",
      "_________________________________________________________________\n",
      "Layer (type)                 Output Shape              Param #   \n",
      "=================================================================\n",
      "dense_1 (Dense)              (None, 64)                5504      \n",
      "_________________________________________________________________\n",
      "dropout_1 (Dropout)          (None, 64)                0         \n",
      "_________________________________________________________________\n",
      "dense_2 (Dense)              (None, 64)                4160      \n",
      "_________________________________________________________________\n",
      "dropout_2 (Dropout)          (None, 64)                0         \n",
      "_________________________________________________________________\n",
      "preds (Dense)                (None, 1)                 65        \n",
      "=================================================================\n",
      "Total params: 9,729\n",
      "Trainable params: 9,729\n",
      "Non-trainable params: 0\n",
      "_________________________________________________________________\n"
     ]
    }
   ],
   "source": [
    "import keras\n",
    "from keras.models import Sequential\n",
    "from keras.layers import Dense, Dropout, Activation\n",
    "from keras.optimizers import SGD\n",
    "\n",
    "#rmsprop seems to overfit when many inputs to my previous experience (and sgd is normally better)\n",
    "model = Sequential()\n",
    "model.add(Dense(64, input_dim=X_train.shape[1], activation='relu'))\n",
    "model.add(Dropout(0.5))\n",
    "model.add(Dense(64, activation='relu'))\n",
    "model.add(Dropout(0.5))\n",
    "model.add(Dense(1, activation='sigmoid',name='preds'))\n",
    "\n",
    "model.summary()\n",
    "sgd = SGD(lr=0.01, decay=1e-6, momentum=0.9, nesterov=True)\n",
    "model.compile(loss='binary_crossentropy',\n",
    "              optimizer=sgd,\n",
    "              metrics=['accuracy'])\n",
    "\n",
    "history = model.fit(X_train, y_train,\n",
    "                    validation_data=(X_test,y_test),\n",
    "                    epochs=20,\n",
    "                    batch_size=1000)\n",
    "score = model.evaluate(X_test, y_test, batch_size=1000)\n",
    "\n",
    "\n",
    "model.summary()"
   ]
  },
  {
   "cell_type": "code",
   "execution_count": 158,
   "metadata": {},
   "outputs": [],
   "source": [
    "from sklearn import metrics"
   ]
  },
  {
   "cell_type": "code",
   "execution_count": 159,
   "metadata": {},
   "outputs": [
    {
     "data": {
      "text/plain": [
       "0.150643"
      ]
     },
     "execution_count": 159,
     "metadata": {},
     "output_type": "execute_result"
    },
    {
     "data": {
      "text/plain": [
       "0.1365"
      ]
     },
     "execution_count": 159,
     "metadata": {},
     "output_type": "execute_result"
    }
   ],
   "source": [
    "y_score = model.predict(X_test)\n",
    "\n",
    "y_score = y_score.reshape(y_test.shape[0],)\n",
    "\n",
    "y_score.mean()\n",
    "y_test.mean()\n"
   ]
  },
  {
   "cell_type": "code",
   "execution_count": 160,
   "metadata": {},
   "outputs": [
    {
     "data": {
      "image/png": "[encoded data removed]",
      "text/plain": [
       "<Figure size 360x360 with 1 Axes>"
      ]
     },
     "metadata": {
      "needs_background": "light"
     },
     "output_type": "display_data"
    }
   ],
   "source": [
    "plt.hist(y_score);#weird distribution"
   ]
  },
  {
   "cell_type": "code",
   "execution_count": 161,
   "metadata": {},
   "outputs": [
    {
     "data": {
      "image/png": "[encoded data removed]",
      "text/plain": [
       "<Figure size 360x360 with 1 Axes>"
      ]
     },
     "metadata": {
      "needs_background": "light"
     },
     "output_type": "display_data"
    }
   ],
   "source": [
    "fpr, tpr, _ = metrics.roc_curve(y_test, y_score)\n",
    "plt.plot(fpr,tpr);"
   ]
  },
  {
   "cell_type": "code",
   "execution_count": 162,
   "metadata": {},
   "outputs": [
    {
     "data": {
      "text/plain": [
       "0.5546279622712743"
      ]
     },
     "execution_count": 162,
     "metadata": {},
     "output_type": "execute_result"
    }
   ],
   "source": [
    "metrics.auc(fpr,tpr)"
   ]
  },
  {
   "cell_type": "code",
   "execution_count": 163,
   "metadata": {},
   "outputs": [
    {
     "name": "stdout",
     "output_type": "stream",
     "text": [
      "AUC: 0.55\n"
     ]
    }
   ],
   "source": [
    "auc=metrics.roc_auc_score(y_test, y_score)\n",
    "\n",
    "print('AUC: {0:0.2f}'.format(auc))"
   ]
  },
  {
   "cell_type": "code",
   "execution_count": 164,
   "metadata": {},
   "outputs": [
    {
     "data": {
      "text/plain": [
       "0.15012829"
      ]
     },
     "execution_count": 164,
     "metadata": {},
     "output_type": "execute_result"
    },
    {
     "data": {
      "text/plain": [
       "0.12775"
      ]
     },
     "execution_count": 164,
     "metadata": {},
     "output_type": "execute_result"
    }
   ],
   "source": [
    "y_score = model.predict(X_train)\n",
    "y_score = y_score.reshape(y_train.shape[0],)\n",
    "y_score.mean()\n",
    "y_train.mean()"
   ]
  },
  {
   "cell_type": "code",
   "execution_count": 165,
   "metadata": {
    "scrolled": false
   },
   "outputs": [
    {
     "data": {
      "text/plain": [
       "[<matplotlib.lines.Line2D at 0x7fa3e8775c50>]"
      ]
     },
     "execution_count": 165,
     "metadata": {},
     "output_type": "execute_result"
    },
    {
     "data": {
      "text/plain": [
       "0.5721678251861175"
      ]
     },
     "execution_count": 165,
     "metadata": {},
     "output_type": "execute_result"
    },
    {
     "name": "stdout",
     "output_type": "stream",
     "text": [
      "AUC: 0.57\n"
     ]
    },
    {
     "data": {
      "image/png": "[encoded data removed]",
      "text/plain": [
       "<Figure size 360x360 with 1 Axes>"
      ]
     },
     "metadata": {
      "needs_background": "light"
     },
     "output_type": "display_data"
    }
   ],
   "source": [
    "fpr, tpr, _ = metrics.roc_curve(y_train, y_score)\n",
    "\n",
    "plt.plot(fpr,tpr);\n",
    "\n",
    "metrics.auc(fpr,tpr)\n",
    "\n",
    "auc=metrics.roc_auc_score(y_train, y_score)\n",
    "\n",
    "print('AUC: {0:0.2f}'.format(auc))"
   ]
  },
  {
   "cell_type": "code",
   "execution_count": null,
   "metadata": {},
   "outputs": [],
   "source": []
  },
  {
   "cell_type": "markdown",
   "metadata": {},
   "source": [
    "## LR"
   ]
  },
  {
   "cell_type": "code",
   "execution_count": 166,
   "metadata": {},
   "outputs": [],
   "source": [
    "from sklearn.linear_model import LogisticRegressionCV#so no need to manually regularize LR with CV\n",
    "from sklearn import metrics\n",
    "from sklearn.preprocessing import MinMaxScaler\n",
    "\n",
    "scaler = MinMaxScaler()"
   ]
  },
  {
   "cell_type": "code",
   "execution_count": 167,
   "metadata": {},
   "outputs": [],
   "source": [
    "y = df.output_is_bad.values\n",
    "X = df.filter(regex='input').values\n",
    "X_scale = scaler.fit_transform(X)"
   ]
  },
  {
   "cell_type": "code",
   "execution_count": 168,
   "metadata": {},
   "outputs": [],
   "source": [
    "#for LR scaling helps a bit"
   ]
  },
  {
   "cell_type": "code",
   "execution_count": 169,
   "metadata": {
    "scrolled": true
   },
   "outputs": [
    {
     "data": {
      "text/plain": [
       "LogisticRegressionCV(Cs=10, class_weight=None, cv=5, dual=False,\n",
       "           fit_intercept=True, intercept_scaling=1.0, max_iter=100,\n",
       "           multi_class='warn', n_jobs=None, penalty='l2',\n",
       "           random_state=None, refit=True, scoring=None, solver='liblinear',\n",
       "           tol=0.0001, verbose=0)"
      ]
     },
     "execution_count": 169,
     "metadata": {},
     "output_type": "execute_result"
    }
   ],
   "source": [
    "X_train, X_test, y_train, y_test = train_test_split(X_scale, y, test_size=0.3, random_state=0)\n",
    "logreg = LogisticRegressionCV(cv=5,solver='liblinear')\n",
    "#tried a few solver but little difference in result\n",
    "logreg.fit(X_train, y_train)"
   ]
  },
  {
   "cell_type": "code",
   "execution_count": 170,
   "metadata": {},
   "outputs": [
    {
     "name": "stdout",
     "output_type": "stream",
     "text": [
      "Accuracy of logistic regression classifier on test set: 0.89\n"
     ]
    }
   ],
   "source": [
    "y_pred = logreg.predict(X_test)\n",
    "print('Accuracy of logistic regression classifier on test set: {:.2f}'.format(logreg.score(X_test, y_test)))"
   ]
  },
  {
   "cell_type": "code",
   "execution_count": 171,
   "metadata": {},
   "outputs": [
    {
     "name": "stdout",
     "output_type": "stream",
     "text": [
      "[[2622    3]\n",
      " [ 321   54]]\n"
     ]
    }
   ],
   "source": [
    "from sklearn.metrics import confusion_matrix\n",
    "confusion_matrix = confusion_matrix(y_test, y_pred)\n",
    "print(confusion_matrix)"
   ]
  },
  {
   "cell_type": "code",
   "execution_count": 172,
   "metadata": {},
   "outputs": [
    {
     "name": "stdout",
     "output_type": "stream",
     "text": [
      "              precision    recall  f1-score   support\n",
      "\n",
      "           0       0.89      1.00      0.94      2625\n",
      "           1       0.95      0.14      0.25       375\n",
      "\n",
      "   micro avg       0.89      0.89      0.89      3000\n",
      "   macro avg       0.92      0.57      0.60      3000\n",
      "weighted avg       0.90      0.89      0.86      3000\n",
      "\n"
     ]
    }
   ],
   "source": [
    "from sklearn.metrics import classification_report\n",
    "print(classification_report(y_test, y_pred))"
   ]
  },
  {
   "cell_type": "code",
   "execution_count": 173,
   "metadata": {},
   "outputs": [],
   "source": [
    "from sklearn.metrics import roc_auc_score,roc_curve,log_loss,average_precision_score,precision_recall_curve"
   ]
  },
  {
   "cell_type": "code",
   "execution_count": 174,
   "metadata": {},
   "outputs": [],
   "source": [
    "plt.rcParams[\"figure.figsize\"] = [5,5]"
   ]
  },
  {
   "cell_type": "code",
   "execution_count": 175,
   "metadata": {},
   "outputs": [
    {
     "name": "stdout",
     "output_type": "stream",
     "text": [
      "log loss:  3.8782115207417274\n"
     ]
    },
    {
     "data": {
      "image/png": "[encoded data removed]",
      "text/plain": [
       "<Figure size 360x360 with 1 Axes>"
      ]
     },
     "metadata": {
      "needs_background": "light"
     },
     "output_type": "display_data"
    }
   ],
   "source": [
    "logloss = log_loss(y_train, logreg.predict(X_train))\n",
    "print('log loss: ',logloss)\n",
    "logit_roc_auc = roc_auc_score(y_train, logreg.predict(X_train))\n",
    "fpr, tpr, thresholds = roc_curve(y_train, logreg.predict_proba(X_train)[:,1])\n",
    "plt.figure()\n",
    "plt.plot(fpr, tpr, label='Logistic Regression (area = %0.2f)' % logit_roc_auc)\n",
    "plt.plot([0, 1], [0, 1],'r--')\n",
    "plt.xlim([0.0, 1.0]);\n",
    "plt.ylim([0.0, 1.05]);\n",
    "plt.xlabel('False Positive Rate')\n",
    "plt.ylabel('True Positive Rate')\n",
    "plt.title('Receiver operating characteristic')\n",
    "plt.legend(loc=\"lower right\")\n",
    "#plt.savefig('Log_ROC')\n",
    "plt.show();"
   ]
  },
  {
   "cell_type": "code",
   "execution_count": 176,
   "metadata": {},
   "outputs": [
    {
     "name": "stdout",
     "output_type": "stream",
     "text": [
      "log loss:  3.7301886502477846\n"
     ]
    },
    {
     "data": {
      "image/png": "[encoded data removed]",
      "text/plain": [
       "<Figure size 360x360 with 1 Axes>"
      ]
     },
     "metadata": {
      "needs_background": "light"
     },
     "output_type": "display_data"
    }
   ],
   "source": [
    "logloss = log_loss(y_test, logreg.predict(X_test))\n",
    "print('log loss: ',logloss)\n",
    "logit_roc_auc = roc_auc_score(y_test, logreg.predict(X_test))\n",
    "fpr, tpr, thresholds = roc_curve(y_test, logreg.predict_proba(X_test)[:,1])\n",
    "plt.figure()\n",
    "plt.plot(fpr, tpr, label='Logistic Regression (area = %0.2f)' % logit_roc_auc)\n",
    "plt.plot([0, 1], [0, 1],'r--')\n",
    "plt.xlim([0.0, 1.0]);\n",
    "plt.ylim([0.0, 1.05]);\n",
    "plt.xlabel('False Positive Rate')\n",
    "plt.ylabel('True Positive Rate')\n",
    "plt.title('Receiver operating characteristic')\n",
    "plt.legend(loc=\"lower right\")\n",
    "#plt.savefig('Log_ROC')\n",
    "plt.show();"
   ]
  },
  {
   "cell_type": "code",
   "execution_count": 177,
   "metadata": {},
   "outputs": [],
   "source": [
    "y_pred = logreg.predict_proba(X_test)[:,1]"
   ]
  },
  {
   "cell_type": "code",
   "execution_count": 178,
   "metadata": {},
   "outputs": [
    {
     "data": {
      "text/plain": [
       "(array([1509., 1133.,  237.,   50.,   14.,    4.,    0.,    0.,    0.,\n",
       "          53.]),\n",
       " array([6.13845500e-05, 1.00054693e-01, 2.00048001e-01, 3.00041309e-01,\n",
       "        4.00034617e-01, 5.00027926e-01, 6.00021234e-01, 7.00014542e-01,\n",
       "        8.00007850e-01, 9.00001158e-01, 9.99994467e-01]),\n",
       " <a list of 10 Patch objects>)"
      ]
     },
     "execution_count": 178,
     "metadata": {},
     "output_type": "execute_result"
    },
    {
     "data": {
      "image/png": "[encoded data removed]",
      "text/plain": [
       "<Figure size 360x360 with 1 Axes>"
      ]
     },
     "metadata": {
      "needs_background": "light"
     },
     "output_type": "display_data"
    }
   ],
   "source": [
    "plt.hist(y_pred)"
   ]
  },
  {
   "cell_type": "code",
   "execution_count": 179,
   "metadata": {},
   "outputs": [
    {
     "name": "stdout",
     "output_type": "stream",
     "text": [
      "Average precision-recall score: 0.36494\n"
     ]
    }
   ],
   "source": [
    "average_precision = average_precision_score(y_test, y_pred)\n",
    "\n",
    "print('Average precision-recall score: {0:0.5f}'.format(average_precision))"
   ]
  },
  {
   "cell_type": "code",
   "execution_count": 180,
   "metadata": {},
   "outputs": [
    {
     "data": {
      "text/plain": [
       "0.36446065878457445"
      ]
     },
     "execution_count": 180,
     "metadata": {},
     "output_type": "execute_result"
    }
   ],
   "source": [
    "precision, recall, thresholds = precision_recall_curve(y_test, y_pred)\n",
    "auprc = metrics.auc(recall,precision)\n",
    "auprc"
   ]
  },
  {
   "cell_type": "code",
   "execution_count": 181,
   "metadata": {},
   "outputs": [
    {
     "data": {
      "image/png": "[encoded data removed]",
      "text/plain": [
       "<Figure size 360x360 with 1 Axes>"
      ]
     },
     "metadata": {
      "needs_background": "light"
     },
     "output_type": "display_data"
    }
   ],
   "source": [
    "plt.step(recall, precision, color='b', alpha=0.2,\n",
    "         where='post');\n",
    "plt.fill_between(recall, precision, step='post', alpha=0.2,\n",
    "                 color='b');\n",
    "\n",
    "plt.xlabel('Recall');\n",
    "plt.ylabel('Precision');\n",
    "plt.ylim([0.0, 1.0]);\n",
    "plt.xlim([0.0, 1.0]);\n",
    "plt.title('2-class Precision-Recall curve: AP={0:0.2f}'.format(\n",
    "          average_precision));\n"
   ]
  },
  {
   "cell_type": "code",
   "execution_count": 182,
   "metadata": {},
   "outputs": [],
   "source": [
    "# the shape is weird"
   ]
  },
  {
   "cell_type": "markdown",
   "metadata": {},
   "source": [
    "## K-fold CV (using SVM as example)"
   ]
  },
  {
   "cell_type": "code",
   "execution_count": 183,
   "metadata": {},
   "outputs": [],
   "source": [
    "df = pd.read_csv(os.path.join(LOCAL_PATH,'df.csv'))\n",
    "df.set_index('Id',inplace=True)"
   ]
  },
  {
   "cell_type": "code",
   "execution_count": 184,
   "metadata": {},
   "outputs": [],
   "source": [
    "from scipy import interp\n",
    "from sklearn import svm\n",
    "from sklearn.metrics import roc_curve, auc\n",
    "from sklearn.model_selection import StratifiedKFold\n",
    "from sklearn.preprocessing import MinMaxScaler\n",
    "\n",
    "scaler = MinMaxScaler()"
   ]
  },
  {
   "cell_type": "code",
   "execution_count": 185,
   "metadata": {},
   "outputs": [],
   "source": [
    "y = df.output_is_bad.values\n",
    "X = df.filter(regex='input').values\n",
    "X_scale = scaler.fit_transform(X)"
   ]
  },
  {
   "cell_type": "code",
   "execution_count": 186,
   "metadata": {},
   "outputs": [
    {
     "data": {
      "image/png": "[encoded data removed]",
      "text/plain": [
       "<Figure size 360x360 with 1 Axes>"
      ]
     },
     "metadata": {
      "needs_background": "light"
     },
     "output_type": "display_data"
    }
   ],
   "source": [
    "n_samples, n_features = X_scale.shape\n",
    "\n",
    "# Run classifier with cross-validation and plot ROC curves\n",
    "cv = StratifiedKFold(n_splits=5)\n",
    "classifier = svm.SVC(kernel='linear',gamma='auto',probability=True)\n",
    "#use linear kernel, or it's very slow\n",
    "\n",
    "tprs = []\n",
    "aucs = []\n",
    "mean_fpr = np.linspace(0, 1, 100)\n",
    "\n",
    "i = 0\n",
    "for train, test in cv.split(X_scale, y):\n",
    "    probas_ = classifier.fit(X_scale[train], y[train]).predict_proba(X_scale[test])\n",
    "    # Compute ROC curve and area the curve\n",
    "    fpr, tpr, thresholds = roc_curve(y[test], probas_[:, 1])\n",
    "    tprs.append(interp(mean_fpr, fpr, tpr))\n",
    "    tprs[-1][0] = 0.0\n",
    "    roc_auc = auc(fpr, tpr)\n",
    "    aucs.append(roc_auc)\n",
    "    plt.plot(fpr, tpr, lw=1, alpha=0.3,\n",
    "             label='ROC fold %d (AUC = %0.2f)' % (i, roc_auc))\n",
    "\n",
    "    i += 1\n",
    "plt.plot([0, 1], [0, 1], linestyle='--', lw=2, color='r',\n",
    "         label='Chance', alpha=.8)\n",
    "\n",
    "mean_tpr = np.mean(tprs, axis=0)\n",
    "mean_tpr[-1] = 1.0\n",
    "mean_auc = auc(mean_fpr, mean_tpr)\n",
    "std_auc = np.std(aucs)\n",
    "plt.plot(mean_fpr, mean_tpr, color='b',\n",
    "         label=r'Mean ROC (AUC = %0.2f $\\pm$ %0.2f)' % (mean_auc, std_auc),\n",
    "         lw=2, alpha=.8)\n",
    "\n",
    "std_tpr = np.std(tprs, axis=0)\n",
    "tprs_upper = np.minimum(mean_tpr + std_tpr, 1)\n",
    "tprs_lower = np.maximum(mean_tpr - std_tpr, 0)\n",
    "plt.fill_between(mean_fpr, tprs_lower, tprs_upper, color='grey', alpha=.2,\n",
    "                 label=r'$\\pm$ 1 std. dev.')\n",
    "\n",
    "plt.xlim([-0.05, 1.05])\n",
    "plt.ylim([-0.05, 1.05])\n",
    "plt.xlabel('False Positive Rate')\n",
    "plt.ylabel('True Positive Rate')\n",
    "plt.title('Receiver operating characteristic example')\n",
    "plt.legend(loc=\"lower right\")\n",
    "plt.show();"
   ]
  },
  {
   "cell_type": "code",
   "execution_count": 187,
   "metadata": {},
   "outputs": [],
   "source": [
    "from sklearn.metrics import roc_auc_score,log_loss"
   ]
  },
  {
   "cell_type": "code",
   "execution_count": 188,
   "metadata": {},
   "outputs": [
    {
     "name": "stdout",
     "output_type": "stream",
     "text": [
      "log loss:  3.7071619997204137\n"
     ]
    },
    {
     "data": {
      "image/png": "[encoded data removed]",
      "text/plain": [
       "<Figure size 360x360 with 1 Axes>"
      ]
     },
     "metadata": {
      "needs_background": "light"
     },
     "output_type": "display_data"
    }
   ],
   "source": [
    "logloss = log_loss(y_test, classifier.predict(X_test))\n",
    "print('log loss: ',logloss)\n",
    "logit_roc_auc = roc_auc_score(y_test, classifier.predict(X_test))\n",
    "fpr, tpr, thresholds = roc_curve(y_test, classifier.predict_proba(X_test)[:,1])\n",
    "plt.figure()\n",
    "plt.plot(fpr, tpr, label='Logistic Regression (area = %0.2f)' % logit_roc_auc)\n",
    "plt.plot([0, 1], [0, 1],'r--')\n",
    "plt.xlim([0.0, 1.0]);\n",
    "plt.ylim([0.0, 1.05]);\n",
    "plt.xlabel('False Positive Rate')\n",
    "plt.ylabel('True Positive Rate')\n",
    "plt.title('Receiver operating characteristic')\n",
    "plt.legend(loc=\"lower right\")\n",
    "#plt.savefig('Log_ROC')\n",
    "plt.show();"
   ]
  },
  {
   "cell_type": "code",
   "execution_count": 189,
   "metadata": {},
   "outputs": [],
   "source": [
    "#difference in AUC indicates overfitting"
   ]
  },
  {
   "cell_type": "markdown",
   "metadata": {},
   "source": [
    "## GB (with feature importance)"
   ]
  },
  {
   "cell_type": "code",
   "execution_count": 190,
   "metadata": {},
   "outputs": [],
   "source": [
    "#XGBoost model automatically calculates feature importance. "
   ]
  },
  {
   "cell_type": "code",
   "execution_count": 191,
   "metadata": {},
   "outputs": [],
   "source": [
    "#There is no free lunch, but I find these are usually good starting places for quick classifier trials (besides LR): \n",
    "#XGBClassifier (from xgboost, faster than the one from sklearn), RandomForestClassifier (from sklearn), MLP (keras with tensorflow backend)"
   ]
  },
  {
   "cell_type": "code",
   "execution_count": 192,
   "metadata": {},
   "outputs": [],
   "source": [
    "# plot feature importance using built-in function\n",
    "#from numpy import loadtxt\n",
    "from xgboost import XGBClassifier, plot_importance\n",
    "from matplotlib import pyplot"
   ]
  },
  {
   "cell_type": "code",
   "execution_count": 193,
   "metadata": {},
   "outputs": [],
   "source": [
    "#no need for scaling here"
   ]
  },
  {
   "cell_type": "code",
   "execution_count": 194,
   "metadata": {},
   "outputs": [],
   "source": [
    "X_train, X_test, y_train, y_test = train_test_split(X, y, test_size=0.2, random_state = 42)"
   ]
  },
  {
   "cell_type": "code",
   "execution_count": null,
   "metadata": {},
   "outputs": [],
   "source": []
  },
  {
   "cell_type": "code",
   "execution_count": 195,
   "metadata": {
    "scrolled": false
   },
   "outputs": [
    {
     "data": {
      "image/png": "[encoded data removed]",
      "text/plain": [
       "<Figure size 1080x720 with 1 Axes>"
      ]
     },
     "metadata": {
      "needs_background": "light"
     },
     "output_type": "display_data"
    }
   ],
   "source": [
    "plt.rcParams[\"figure.figsize\"] = [15,10]\n",
    "# fit model with training data\n",
    "model = XGBClassifier()#using the scikit-learn API in xgboost\n",
    "model.fit(X_train, y_train)\n",
    "model.get_booster().feature_names = df.filter(regex='input').columns.tolist()\n",
    "# plot feature importance\n",
    "plot_importance(model.get_booster())\n",
    "pyplot.show();"
   ]
  },
  {
   "cell_type": "code",
   "execution_count": 196,
   "metadata": {},
   "outputs": [],
   "source": [
    "#so the top 3 features are \n",
    "#1) Annual income of the loan applicant - log scale\n",
    "#2) Loan applicant’s percentage utilization of their revolving credit facility \n",
    "#3) Total number of accounts for the loan applicant\n",
    "#Makes sense, can consult with domain expert / literature to confirm."
   ]
  },
  {
   "cell_type": "code",
   "execution_count": null,
   "metadata": {},
   "outputs": [],
   "source": []
  },
  {
   "cell_type": "code",
   "execution_count": 197,
   "metadata": {},
   "outputs": [
    {
     "data": {
      "image/png": "[encoded data removed]",
      "text/plain": [
       "<Figure size 360x360 with 1 Axes>"
      ]
     },
     "metadata": {
      "needs_background": "light"
     },
     "output_type": "display_data"
    }
   ],
   "source": [
    "plt.rcParams[\"figure.figsize\"] = [5,5]\n",
    "xgb = model.fit(X_train, y_train)\n",
    "roc_auc = roc_auc_score(y_train, xgb.predict(X_train))\n",
    "fpr, tpr, thresholds = roc_curve(y_train, xgb.predict_proba(X_train)[:,1])\n",
    "plt.figure()\n",
    "plt.plot(fpr, tpr, label='xgboost (area = %0.2f)' % roc_auc)\n",
    "plt.plot([0, 1], [0, 1],'r--')\n",
    "plt.xlim([0.0, 1.0]);\n",
    "plt.ylim([0.0, 1.05]);\n",
    "plt.xlabel('False Positive Rate')\n",
    "plt.ylabel('True Positive Rate')\n",
    "plt.title('Receiver operating characteristic')\n",
    "plt.legend(loc=\"lower right\")\n",
    "#plt.savefig('Log_ROC')\n",
    "plt.show();"
   ]
  },
  {
   "cell_type": "code",
   "execution_count": 198,
   "metadata": {},
   "outputs": [
    {
     "data": {
      "image/png": "[encoded data removed]",
      "text/plain": [
       "<Figure size 360x360 with 1 Axes>"
      ]
     },
     "metadata": {
      "needs_background": "light"
     },
     "output_type": "display_data"
    }
   ],
   "source": [
    "roc_auc = roc_auc_score(y_test, xgb.predict(X_test))\n",
    "fpr, tpr, thresholds = roc_curve(y_test, xgb.predict_proba(X_test)[:,1])\n",
    "plt.figure()\n",
    "plt.plot(fpr, tpr, label='xgboost (area = %0.2f)' % roc_auc)\n",
    "plt.plot([0, 1], [0, 1],'r--')\n",
    "plt.xlim([0.0, 1.0]);\n",
    "plt.ylim([0.0, 1.05]);\n",
    "plt.xlabel('False Positive Rate')\n",
    "plt.ylabel('True Positive Rate')\n",
    "plt.title('Receiver operating characteristic')\n",
    "plt.legend(loc=\"lower right\")\n",
    "#plt.savefig('Log_ROC')\n",
    "plt.show();"
   ]
  },
  {
   "cell_type": "code",
   "execution_count": 199,
   "metadata": {},
   "outputs": [
    {
     "name": "stdout",
     "output_type": "stream",
     "text": [
      "              precision    recall  f1-score   support\n",
      "\n",
      "           0       0.88      1.00      0.94      1727\n",
      "           1       1.00      0.15      0.27       273\n",
      "\n",
      "   micro avg       0.88      0.88      0.88      2000\n",
      "   macro avg       0.94      0.58      0.60      2000\n",
      "weighted avg       0.90      0.88      0.85      2000\n",
      "\n"
     ]
    }
   ],
   "source": [
    "from sklearn.metrics import classification_report\n",
    "\n",
    "print(classification_report(y_test, xgb.predict(X_test)))"
   ]
  },
  {
   "cell_type": "code",
   "execution_count": 200,
   "metadata": {},
   "outputs": [
    {
     "data": {
      "image/png": "[encoded data removed]",
      "text/plain": [
       "<Figure size 360x360 with 1 Axes>"
      ]
     },
     "metadata": {
      "needs_background": "light"
     },
     "output_type": "display_data"
    }
   ],
   "source": [
    "plt.hist(xgb.predict_proba(X_test)[:,1]);"
   ]
  },
  {
   "cell_type": "code",
   "execution_count": 201,
   "metadata": {},
   "outputs": [
    {
     "data": {
      "text/plain": [
       "3.989228673612184"
      ]
     },
     "execution_count": 201,
     "metadata": {},
     "output_type": "execute_result"
    }
   ],
   "source": [
    "log_loss(y_test, xgb.predict(X_test))"
   ]
  },
  {
   "cell_type": "code",
   "execution_count": 202,
   "metadata": {},
   "outputs": [],
   "source": [
    "#performance is similar to LR."
   ]
  },
  {
   "cell_type": "code",
   "execution_count": null,
   "metadata": {},
   "outputs": [],
   "source": []
  }
 ],
 "metadata": {
  "kernelspec": {
   "display_name": "Python 3",
   "language": "python",
   "name": "python3"
  },
  "language_info": {
   "codemirror_mode": {
    "name": "ipython",
    "version": 3
   },
   "file_extension": ".py",
   "mimetype": "text/x-python",
   "name": "python",
   "nbconvert_exporter": "python",
   "pygments_lexer": "ipython3",
   "version": "3.7.3"
  },
  "toc": {
   "base_numbering": 1,
   "nav_menu": {},
   "number_sections": true,
   "sideBar": false,
   "skip_h1_title": false,
   "title_cell": "Table of Contents",
   "title_sidebar": "Contents",
   "toc_cell": false,
   "toc_position": {
    "height": "240.357px",
    "left": "1269.56px",
    "top": "110.571px",
    "width": "171.152px"
   },
   "toc_section_display": true,
   "toc_window_display": true
  }
 },
 "nbformat": 4,
 "nbformat_minor": 2
}
